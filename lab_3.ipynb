{
 "cells": [
  {
   "cell_type": "code",
   "execution_count": 2,
   "id": "initial_id",
   "metadata": {
    "ExecuteTime": {
     "end_time": "2024-11-28T21:19:26.373143Z",
     "start_time": "2024-11-28T21:19:24.341973Z"
    }
   },
   "outputs": [],
   "source": [
    "import pandas as pd\n",
    "import numpy as np\n",
    "from sklearn.model_selection import train_test_split\n",
    "from sklearn.metrics import f1_score\n",
    "from typing import Callable\n",
    "from statistics import median\n",
    "from tqdm.auto import tqdm\n",
    "import matplotlib.pyplot as plt\n",
    "from itertools import product"
   ]
  },
  {
   "cell_type": "code",
   "execution_count": 3,
   "id": "b98a4a8053cb9d96",
   "metadata": {
    "ExecuteTime": {
     "end_time": "2024-11-28T21:19:26.376391Z",
     "start_time": "2024-11-28T21:19:26.363566Z"
    },
    "collapsed": false
   },
   "outputs": [],
   "source": [
    "from scipy.constants import golden_ratio"
   ]
  },
  {
   "cell_type": "code",
   "execution_count": 4,
   "id": "ac00bd92d6364e4",
   "metadata": {
    "ExecuteTime": {
     "end_time": "2024-11-28T21:19:26.398806Z",
     "start_time": "2024-11-28T21:19:26.368389Z"
    },
    "collapsed": false
   },
   "outputs": [],
   "source": [
    "# Загружаем данные, добавляем столбец признаков, для того чтобы обучать коэффициент сдвига\n",
    "df = pd.read_csv(\"data/diabetes_dataset.csv\", delimiter=\",\", decimal=\".\")\n",
    "not_normalized_features = df.drop(columns=['Outcome'])\n",
    "F = (not_normalized_features - not_normalized_features.mean()) / not_normalized_features.std()\n",
    "F[\"bias\"] = 1"
   ]
  },
  {
   "cell_type": "code",
   "execution_count": 5,
   "id": "4ccf8025bd4e5730",
   "metadata": {
    "ExecuteTime": {
     "end_time": "2024-11-27T22:13:15.753616Z",
     "start_time": "2024-11-27T22:13:13.965559Z"
    },
    "collapsed": false
   },
   "outputs": [
    {
     "data": {
      "text/html": [
       "<div>\n",
       "<style scoped>\n",
       "    .dataframe tbody tr th:only-of-type {\n",
       "        vertical-align: middle;\n",
       "    }\n",
       "\n",
       "    .dataframe tbody tr th {\n",
       "        vertical-align: top;\n",
       "    }\n",
       "\n",
       "    .dataframe thead th {\n",
       "        text-align: right;\n",
       "    }\n",
       "</style>\n",
       "<table border=\"1\" class=\"dataframe\">\n",
       "  <thead>\n",
       "    <tr style=\"text-align: right;\">\n",
       "      <th></th>\n",
       "      <th>Pregnancies</th>\n",
       "      <th>Glucose</th>\n",
       "      <th>BloodPressure</th>\n",
       "      <th>SkinThickness</th>\n",
       "      <th>Insulin</th>\n",
       "      <th>BMI</th>\n",
       "      <th>DiabetesPedigreeFunction</th>\n",
       "      <th>Age</th>\n",
       "      <th>bias</th>\n",
       "    </tr>\n",
       "  </thead>\n",
       "  <tbody>\n",
       "    <tr>\n",
       "      <th>0</th>\n",
       "      <td>0.639530</td>\n",
       "      <td>0.847771</td>\n",
       "      <td>0.149543</td>\n",
       "      <td>0.906679</td>\n",
       "      <td>-0.692439</td>\n",
       "      <td>0.203880</td>\n",
       "      <td>0.468187</td>\n",
       "      <td>1.425067</td>\n",
       "      <td>1</td>\n",
       "    </tr>\n",
       "    <tr>\n",
       "      <th>1</th>\n",
       "      <td>-0.844335</td>\n",
       "      <td>-1.122665</td>\n",
       "      <td>-0.160441</td>\n",
       "      <td>0.530556</td>\n",
       "      <td>-0.692439</td>\n",
       "      <td>-0.683976</td>\n",
       "      <td>-0.364823</td>\n",
       "      <td>-0.190548</td>\n",
       "      <td>1</td>\n",
       "    </tr>\n",
       "    <tr>\n",
       "      <th>2</th>\n",
       "      <td>1.233077</td>\n",
       "      <td>1.942458</td>\n",
       "      <td>-0.263769</td>\n",
       "      <td>-1.287373</td>\n",
       "      <td>-0.692439</td>\n",
       "      <td>-1.102537</td>\n",
       "      <td>0.604004</td>\n",
       "      <td>-0.105515</td>\n",
       "      <td>1</td>\n",
       "    </tr>\n",
       "    <tr>\n",
       "      <th>3</th>\n",
       "      <td>-0.844335</td>\n",
       "      <td>-0.997558</td>\n",
       "      <td>-0.160441</td>\n",
       "      <td>0.154433</td>\n",
       "      <td>0.123221</td>\n",
       "      <td>-0.493721</td>\n",
       "      <td>-0.920163</td>\n",
       "      <td>-1.040871</td>\n",
       "      <td>1</td>\n",
       "    </tr>\n",
       "    <tr>\n",
       "      <th>4</th>\n",
       "      <td>-1.141108</td>\n",
       "      <td>0.503727</td>\n",
       "      <td>-1.503707</td>\n",
       "      <td>0.906679</td>\n",
       "      <td>0.765337</td>\n",
       "      <td>1.408828</td>\n",
       "      <td>5.481337</td>\n",
       "      <td>-0.020483</td>\n",
       "      <td>1</td>\n",
       "    </tr>\n",
       "    <tr>\n",
       "      <th>...</th>\n",
       "      <td>...</td>\n",
       "      <td>...</td>\n",
       "      <td>...</td>\n",
       "      <td>...</td>\n",
       "      <td>...</td>\n",
       "      <td>...</td>\n",
       "      <td>...</td>\n",
       "      <td>...</td>\n",
       "      <td>...</td>\n",
       "    </tr>\n",
       "    <tr>\n",
       "      <th>763</th>\n",
       "      <td>1.826623</td>\n",
       "      <td>-0.622237</td>\n",
       "      <td>0.356200</td>\n",
       "      <td>1.721613</td>\n",
       "      <td>0.869464</td>\n",
       "      <td>0.115094</td>\n",
       "      <td>-0.908090</td>\n",
       "      <td>2.530487</td>\n",
       "      <td>1</td>\n",
       "    </tr>\n",
       "    <tr>\n",
       "      <th>764</th>\n",
       "      <td>-0.547562</td>\n",
       "      <td>0.034575</td>\n",
       "      <td>0.046215</td>\n",
       "      <td>0.405181</td>\n",
       "      <td>-0.692439</td>\n",
       "      <td>0.609757</td>\n",
       "      <td>-0.398023</td>\n",
       "      <td>-0.530677</td>\n",
       "      <td>1</td>\n",
       "    </tr>\n",
       "    <tr>\n",
       "      <th>765</th>\n",
       "      <td>0.342757</td>\n",
       "      <td>0.003299</td>\n",
       "      <td>0.149543</td>\n",
       "      <td>0.154433</td>\n",
       "      <td>0.279412</td>\n",
       "      <td>-0.734711</td>\n",
       "      <td>-0.684747</td>\n",
       "      <td>-0.275580</td>\n",
       "      <td>1</td>\n",
       "    </tr>\n",
       "    <tr>\n",
       "      <th>766</th>\n",
       "      <td>-0.844335</td>\n",
       "      <td>0.159683</td>\n",
       "      <td>-0.470426</td>\n",
       "      <td>-1.287373</td>\n",
       "      <td>-0.692439</td>\n",
       "      <td>-0.240048</td>\n",
       "      <td>-0.370859</td>\n",
       "      <td>1.169970</td>\n",
       "      <td>1</td>\n",
       "    </tr>\n",
       "    <tr>\n",
       "      <th>767</th>\n",
       "      <td>-0.844335</td>\n",
       "      <td>-0.872451</td>\n",
       "      <td>0.046215</td>\n",
       "      <td>0.655930</td>\n",
       "      <td>-0.692439</td>\n",
       "      <td>-0.201997</td>\n",
       "      <td>-0.473476</td>\n",
       "      <td>-0.870806</td>\n",
       "      <td>1</td>\n",
       "    </tr>\n",
       "  </tbody>\n",
       "</table>\n",
       "<p>768 rows × 9 columns</p>\n",
       "</div>"
      ],
      "text/plain": [
       "     Pregnancies   Glucose  BloodPressure  SkinThickness   Insulin       BMI  \\\n",
       "0       0.639530  0.847771       0.149543       0.906679 -0.692439  0.203880   \n",
       "1      -0.844335 -1.122665      -0.160441       0.530556 -0.692439 -0.683976   \n",
       "2       1.233077  1.942458      -0.263769      -1.287373 -0.692439 -1.102537   \n",
       "3      -0.844335 -0.997558      -0.160441       0.154433  0.123221 -0.493721   \n",
       "4      -1.141108  0.503727      -1.503707       0.906679  0.765337  1.408828   \n",
       "..           ...       ...            ...            ...       ...       ...   \n",
       "763     1.826623 -0.622237       0.356200       1.721613  0.869464  0.115094   \n",
       "764    -0.547562  0.034575       0.046215       0.405181 -0.692439  0.609757   \n",
       "765     0.342757  0.003299       0.149543       0.154433  0.279412 -0.734711   \n",
       "766    -0.844335  0.159683      -0.470426      -1.287373 -0.692439 -0.240048   \n",
       "767    -0.844335 -0.872451       0.046215       0.655930 -0.692439 -0.201997   \n",
       "\n",
       "     DiabetesPedigreeFunction       Age  bias  \n",
       "0                    0.468187  1.425067     1  \n",
       "1                   -0.364823 -0.190548     1  \n",
       "2                    0.604004 -0.105515     1  \n",
       "3                   -0.920163 -1.040871     1  \n",
       "4                    5.481337 -0.020483     1  \n",
       "..                        ...       ...   ...  \n",
       "763                 -0.908090  2.530487     1  \n",
       "764                 -0.398023 -0.530677     1  \n",
       "765                 -0.684747 -0.275580     1  \n",
       "766                 -0.370859  1.169970     1  \n",
       "767                 -0.473476 -0.870806     1  \n",
       "\n",
       "[768 rows x 9 columns]"
      ]
     },
     "execution_count": 5,
     "metadata": {},
     "output_type": "execute_result"
    }
   ],
   "source": [
    "F"
   ]
  },
  {
   "cell_type": "code",
   "execution_count": 6,
   "id": "f160adfe2d8e4826",
   "metadata": {
    "ExecuteTime": {
     "end_time": "2024-11-28T21:19:26.886013Z",
     "start_time": "2024-11-28T21:19:26.847319Z"
    },
    "collapsed": false
   },
   "outputs": [],
   "source": [
    "F = F.to_numpy()"
   ]
  },
  {
   "cell_type": "code",
   "execution_count": 7,
   "id": "1d1780706f53084e",
   "metadata": {
    "ExecuteTime": {
     "end_time": "2024-11-28T21:19:27.540353Z",
     "start_time": "2024-11-28T21:19:27.511336Z"
    },
    "collapsed": false
   },
   "outputs": [],
   "source": [
    "target = df[['Outcome']].to_numpy().squeeze(-1)"
   ]
  },
  {
   "cell_type": "code",
   "execution_count": 7,
   "id": "c71a67f14363fcf3",
   "metadata": {
    "ExecuteTime": {
     "end_time": "2024-11-28T21:15:11.926614Z",
     "start_time": "2024-11-28T21:15:11.891858Z"
    },
    "collapsed": false
   },
   "outputs": [
    {
     "data": {
      "text/plain": [
       "0.3489583333333333"
      ]
     },
     "execution_count": 7,
     "metadata": {},
     "output_type": "execute_result"
    }
   ],
   "source": [
    "np.count_nonzero(target) / target.shape[0]"
   ]
  },
  {
   "cell_type": "code",
   "execution_count": 8,
   "id": "2c90f6f0f609728f",
   "metadata": {
    "ExecuteTime": {
     "end_time": "2024-11-28T21:19:30.847795Z",
     "start_time": "2024-11-28T21:19:30.752153Z"
    },
    "collapsed": false
   },
   "outputs": [],
   "source": [
    "# разбиваем данные на тестовую и тренировочную части\n",
    "F_train, F_test, y_train, y_test = train_test_split(F, target, test_size=0.2, random_state=52,\n",
    "                                                    stratify=target)"
   ]
  },
  {
   "cell_type": "code",
   "execution_count": 9,
   "id": "24d22a9bbb114022",
   "metadata": {
    "ExecuteTime": {
     "end_time": "2024-11-28T21:15:17.601162Z",
     "start_time": "2024-11-28T21:15:17.561386Z"
    },
    "collapsed": false
   },
   "outputs": [
    {
     "data": {
      "text/plain": [
       "0.3485342019543974"
      ]
     },
     "execution_count": 9,
     "metadata": {},
     "output_type": "execute_result"
    }
   ],
   "source": [
    "np.count_nonzero(y_train) / y_train.shape[0]"
   ]
  },
  {
   "cell_type": "code",
   "execution_count": 9,
   "id": "a3d67d6e26534f93",
   "metadata": {
    "ExecuteTime": {
     "end_time": "2024-11-28T21:19:43.264927Z",
     "start_time": "2024-11-28T21:19:43.187400Z"
    },
    "collapsed": false
   },
   "outputs": [],
   "source": [
    "def modify_targets(targets):\n",
    "    return targets + (-1) * (targets == 0)"
   ]
  },
  {
   "cell_type": "code",
   "execution_count": 10,
   "id": "28f6961231f5702e",
   "metadata": {
    "ExecuteTime": {
     "end_time": "2024-11-28T21:19:43.523402Z",
     "start_time": "2024-11-28T21:19:43.496020Z"
    },
    "collapsed": false
   },
   "outputs": [],
   "source": [
    "# реализация линейной регрессии\n",
    "def linear_regression(data_train, target_train, r=1):\n",
    "    U, D, Vh = np.linalg.svd(data_train, full_matrices=False)\n",
    "    D = np.diag(D)\n",
    "    regulated_thetta = Vh.T @ np.linalg.inv(D ** 2 + r[None] * np.eye(data_train.shape[1])) @ D @ U.T @ target_train\n",
    "    return regulated_thetta"
   ]
  },
  {
   "cell_type": "code",
   "execution_count": 11,
   "id": "ddca9784fb075ba3",
   "metadata": {
    "ExecuteTime": {
     "end_time": "2024-11-28T21:19:44.048182Z",
     "start_time": "2024-11-28T21:19:44.006746Z"
    },
    "collapsed": false
   },
   "outputs": [],
   "source": [
    "# реализация классификации через линейную регрессию\n",
    "def linear_classification_from_regression(linear_regressor, data_train, target_train):\n",
    "    regul_without_bias = np.ones((data_train.shape[1],))\n",
    "    regul_without_bias[-1] = 0\n",
    "    return linear_regressor(data_train, modify_targets(target_train), regul_without_bias)\n"
   ]
  },
  {
   "cell_type": "code",
   "execution_count": 12,
   "id": "fbfec06b6521d2e4",
   "metadata": {
    "ExecuteTime": {
     "end_time": "2024-11-28T21:19:49.496655Z",
     "start_time": "2024-11-28T21:19:49.193448Z"
    },
    "collapsed": false
   },
   "outputs": [],
   "source": [
    "# предсказание самого наивного классификатора\n",
    "classificator_pred = np.sign(F_test @ linear_classification_from_regression(linear_regression, F_train, y_train))\n",
    "lin_reg_score = f1_score(classificator_pred, modify_targets(y_test))"
   ]
  },
  {
   "cell_type": "code",
   "execution_count": 11,
   "id": "df40f4d311940eca",
   "metadata": {
    "ExecuteTime": {
     "end_time": "2024-11-28T21:19:49.555004Z",
     "start_time": "2024-11-28T21:19:49.321904Z"
    },
    "collapsed": false
   },
   "outputs": [
    {
     "data": {
      "text/plain": [
       "np.float64(0.6595744680851063)"
      ]
     },
     "execution_count": 11,
     "metadata": {},
     "output_type": "execute_result"
    }
   ],
   "source": [
    "lin_reg_score"
   ]
  },
  {
   "cell_type": "code",
   "execution_count": 13,
   "id": "9a8c85d643b206f7",
   "metadata": {
    "ExecuteTime": {
     "end_time": "2024-11-28T21:19:53.518245Z",
     "start_time": "2024-11-28T21:19:53.478580Z"
    },
    "collapsed": false
   },
   "outputs": [],
   "source": [
    "# класс для эмпирического риска\n",
    "class Custom_error_function:\n",
    "    def __init__(self, name, func, grad):\n",
    "        self.name = name\n",
    "        self.func = func\n",
    "        self.grad = grad\n",
    "\n",
    "    def __call__(self, *args, **kwargs):\n",
    "        return self.func(*args, **kwargs)\n",
    "\n",
    "    def cacl_grad(self, *args, **kwargs):\n",
    "        return self.grad(*args, **kwargs)\n",
    "\n",
    "    def __str__(self):\n",
    "        return self.name"
   ]
  },
  {
   "cell_type": "code",
   "execution_count": 14,
   "id": "68ab9161f5ca4153",
   "metadata": {
    "ExecuteTime": {
     "end_time": "2024-11-28T21:19:54.118155Z",
     "start_time": "2024-11-28T21:19:54.087406Z"
    },
    "collapsed": false
   },
   "outputs": [],
   "source": [
    "# функция линейного классификатора с использованием градиентного спуска\n",
    "def linear_classification(data_train: np.ndarray, target_train: np.ndarray, error_function: Custom_error_function,\n",
    "                          descent_step: Callable, bias=True, elastic_net=True, l1_coeff=0, l2_coeff=0,\n",
    "                          iteration_amount=1000, show_results=False, data_test=None,\n",
    "                          target_test=None):\n",
    "    result = []\n",
    "    f1_scores = []\n",
    "    boundary = 1 / (2 * data_train.shape[0])\n",
    "    thetta = np.random.uniform(-boundary, boundary, data_train.shape[1])\n",
    "    if bias:\n",
    "        thetta[-1] = 0\n",
    "    for k in range(iteration_amount):\n",
    "        func_grad = error_function.cacl_grad(thetta, data_train, target_train)\n",
    "        if show_results:\n",
    "            result.append(error_function(data_train @ thetta * target_train))\n",
    "            if k % 50 == 0:\n",
    "                f1_scores.append(f1_score(modify_targets(target_test), np.sign(data_test @ thetta)))\n",
    "        l1_vect, l2_vect = np.ones((thetta.shape[0],)), np.ones((thetta.shape[0],))\n",
    "        if bias:\n",
    "            l1_vect[-1], l2_vect[-1] = 0, 0\n",
    "        l1_vect *= l1_coeff\n",
    "        l2_vect *= l2_coeff\n",
    "        if elastic_net:\n",
    "            func_grad += l2_vect * thetta + l1_vect * np.sign(thetta)\n",
    "        func = lambda lr: error_function(data_train @ (thetta - lr * func_grad) * target_train)\n",
    "        step = descent_step(func, k)\n",
    "        thetta -= step * func_grad\n",
    "    return thetta, result, f1_scores"
   ]
  },
  {
   "cell_type": "code",
   "execution_count": 15,
   "id": "e3978fb7bfae4e3f",
   "metadata": {
    "ExecuteTime": {
     "end_time": "2024-11-28T21:19:54.982347Z",
     "start_time": "2024-11-28T21:19:54.949027Z"
    },
    "collapsed": false
   },
   "outputs": [],
   "source": [
    "def piecewise_linear_grad(thetta, data_train: np.ndarray, target_train: np.ndarray):\n",
    "    func_args = data_train * target_train[..., None]\n",
    "    predicts = ((data_train @ thetta) * target_train <= 0)[..., None]\n",
    "    return np.sum((-1) * (func_args * predicts), axis=0)\n",
    "\n",
    "\n",
    "piecewise_linear_function = Custom_error_function(\"piecewise linear\",\n",
    "                                                  lambda x: np.sum(np.clip(-x, a_min=0, a_max=None)),\n",
    "                                                  piecewise_linear_grad)"
   ]
  },
  {
   "cell_type": "code",
   "execution_count": 16,
   "id": "c928e7a7e8a448fc",
   "metadata": {
    "ExecuteTime": {
     "end_time": "2024-11-28T21:19:55.790570Z",
     "start_time": "2024-11-28T21:19:55.722211Z"
    },
    "collapsed": false
   },
   "outputs": [],
   "source": [
    "def logarifmic_grad(thetta, data_train: np.ndarray, target_train: np.ndarray):\n",
    "    func_args = -data_train * target_train[..., None]\n",
    "    predicts = data_train @ thetta * target_train\n",
    "    return np.sum((np.exp(-predicts) / (1 + np.exp(-predicts)))[..., None] * func_args, axis=0)\n",
    "\n",
    "\n",
    "logarifmic_function = Custom_error_function(\"logarifmic\",\n",
    "                                            lambda x: np.sum(np.log(1 + np.exp(-x))),\n",
    "                                            logarifmic_grad)"
   ]
  },
  {
   "cell_type": "code",
   "execution_count": 17,
   "id": "6c923812805e66f4",
   "metadata": {
    "ExecuteTime": {
     "end_time": "2024-11-28T21:19:57.275222Z",
     "start_time": "2024-11-28T21:19:57.196977Z"
    },
    "collapsed": false
   },
   "outputs": [],
   "source": [
    "def exponential_grad(thetta, data_train: np.ndarray, target_train: np.ndarray):\n",
    "    func_args = -data_train * target_train[..., None]\n",
    "    predicts = (data_train @ thetta) * target_train\n",
    "    return np.sum(np.exp(-predicts)[..., None] * func_args, axis=0)\n",
    "\n",
    "\n",
    "exponential_function = Custom_error_function(\"exponential\",\n",
    "                                             lambda x: np.sum(np.exp(-x)),\n",
    "                                             exponential_grad)"
   ]
  },
  {
   "cell_type": "code",
   "execution_count": 395,
   "id": "e8a4bf27ded301f3",
   "metadata": {
    "ExecuteTime": {
     "end_time": "2024-11-27T22:13:15.785806Z",
     "start_time": "2024-11-27T22:13:14.075818Z"
    },
    "collapsed": false
   },
   "outputs": [],
   "source": [
    "error_functions = [piecewise_linear_function, logarifmic_function, exponential_function]"
   ]
  },
  {
   "cell_type": "code",
   "execution_count": 396,
   "id": "cafcddb55caf9fd3",
   "metadata": {
    "ExecuteTime": {
     "end_time": "2024-11-27T22:13:15.785893Z",
     "start_time": "2024-11-27T22:13:14.080567Z"
    },
    "collapsed": false
   },
   "outputs": [],
   "source": [
    "lrs = [1, 0.1, 0.01, 0.001, 1e-4]"
   ]
  },
  {
   "cell_type": "code",
   "execution_count": 18,
   "id": "51c1b7084e037bab",
   "metadata": {
    "ExecuteTime": {
     "end_time": "2024-11-28T21:20:02.323298Z",
     "start_time": "2024-11-28T21:20:02.174532Z"
    },
    "collapsed": false
   },
   "outputs": [],
   "source": [
    "class Constant_step:\n",
    "    def __init__(self, step_size: float):\n",
    "        self.step_size = step_size\n",
    "    \n",
    "    def __str__(self):\n",
    "        return f\"Constant_step: {self.step_size}\"\n",
    "\n",
    "    def __call__(self, *args, **kwargs):\n",
    "        return self.step_size"
   ]
  },
  {
   "cell_type": "code",
   "execution_count": 19,
   "id": "7ba3f50318fe944d",
   "metadata": {
    "ExecuteTime": {
     "end_time": "2024-11-28T21:20:03.489411Z",
     "start_time": "2024-11-28T21:20:03.453130Z"
    },
    "collapsed": false
   },
   "outputs": [],
   "source": [
    "def iteration_step(_, k, **__):\n",
    "    return 1 / np.sqrt(1 + k)"
   ]
  },
  {
   "cell_type": "code",
   "execution_count": 20,
   "id": "45d8c4fd34a5d42c",
   "metadata": {
    "ExecuteTime": {
     "end_time": "2024-11-28T21:20:04.042437Z",
     "start_time": "2024-11-28T21:20:04.009501Z"
    },
    "collapsed": false
   },
   "outputs": [],
   "source": [
    "def golden_ratio_step(function, _, left=0, right=1,\n",
    "                      stop_delta=1e-5):\n",
    "    x1 = left + (right - left) / golden_ratio ** 2\n",
    "    x2 = left + (right - left) / golden_ratio\n",
    "    x1_val = function(x1)\n",
    "    x2_val = function(x2)\n",
    "    while (right - left) > stop_delta:\n",
    "        if x1_val <= x2_val:\n",
    "            right = x2\n",
    "            x2 = x1\n",
    "            x1 = left + (right - left) / golden_ratio ** 2\n",
    "            x1_val = function(x1)\n",
    "        else:\n",
    "            left = x1\n",
    "            x1 = x2\n",
    "            x2 = left + (right - left) / golden_ratio\n",
    "            x2_val = function(x2)\n",
    "    return (left + right) / 2"
   ]
  },
  {
   "cell_type": "code",
   "execution_count": 400,
   "id": "f5e1e409e5d9e9d1",
   "metadata": {
    "ExecuteTime": {
     "end_time": "2024-11-27T22:13:15.786225Z",
     "start_time": "2024-11-27T22:13:14.101032Z"
    },
    "collapsed": false
   },
   "outputs": [],
   "source": [
    "gradient_descent_steps = [Constant_step(lr) for lr in lrs] + [iteration_step, golden_ratio_step]"
   ]
  },
  {
   "cell_type": "code",
   "execution_count": 20,
   "id": "5bfb326506b3d69d",
   "metadata": {
    "ExecuteTime": {
     "end_time": "2024-11-28T21:15:37.413041Z",
     "start_time": "2024-11-28T21:15:36.795868Z"
    },
    "collapsed": false,
    "scrolled": true
   },
   "outputs": [
    {
     "ename": "NameError",
     "evalue": "name 'error_functions' is not defined",
     "output_type": "error",
     "traceback": [
      "\u001B[0;31m---------------------------------------------------------------------------\u001B[0m",
      "\u001B[0;31mNameError\u001B[0m                                 Traceback (most recent call last)",
      "Cell \u001B[0;32mIn[20], line 6\u001B[0m\n\u001B[1;32m      3\u001B[0m params \u001B[38;5;241m=\u001B[39m \u001B[38;5;28;01mNone\u001B[39;00m\n\u001B[1;32m      4\u001B[0m best_thetta \u001B[38;5;241m=\u001B[39m \u001B[38;5;28;01mNone\u001B[39;00m\n\u001B[1;32m      5\u001B[0m \u001B[38;5;28;01mfor\u001B[39;00m p \u001B[38;5;129;01min\u001B[39;00m tqdm(\n\u001B[0;32m----> 6\u001B[0m         \u001B[38;5;28mlist\u001B[39m(product(\u001B[43merror_functions\u001B[49m, gradient_descent_steps, [\u001B[38;5;28;01mTrue\u001B[39;00m, \u001B[38;5;28;01mFalse\u001B[39;00m], [\u001B[38;5;241m0.01\u001B[39m, \u001B[38;5;241m0.1\u001B[39m, \u001B[38;5;241m1\u001B[39m, \u001B[38;5;241m10\u001B[39m], [\u001B[38;5;241m0.01\u001B[39m, \u001B[38;5;241m0.1\u001B[39m, \u001B[38;5;241m1\u001B[39m, \u001B[38;5;241m10\u001B[39m]))):\n\u001B[1;32m      7\u001B[0m     err_f, step_f, elastic_net, l1_c, l2_c \u001B[38;5;241m=\u001B[39m p\n\u001B[1;32m      8\u001B[0m     found_thetta, \u001B[38;5;241m*\u001B[39m_ \u001B[38;5;241m=\u001B[39m linear_classification(F_train, modify_targets(y_train), err_f, step_f,\n\u001B[1;32m      9\u001B[0m                                              elastic_net\u001B[38;5;241m=\u001B[39melastic_net, l1_coeff\u001B[38;5;241m=\u001B[39ml1_c, l2_coeff\u001B[38;5;241m=\u001B[39ml2_c)\n",
      "\u001B[0;31mNameError\u001B[0m: name 'error_functions' is not defined"
     ]
    }
   ],
   "source": [
    "# ищем лучшие гиперпараметры\n",
    "best_score = -1\n",
    "params = None\n",
    "best_thetta = None\n",
    "for p in tqdm(\n",
    "        list(product(error_functions, gradient_descent_steps, [True, False], [0.01, 0.1, 1, 10], [0.01, 0.1, 1, 10]))):\n",
    "    err_f, step_f, elastic_net, l1_c, l2_c = p\n",
    "    found_thetta, *_ = linear_classification(F_train, modify_targets(y_train), err_f, step_f,\n",
    "                                             elastic_net=elastic_net, l1_coeff=l1_c, l2_coeff=l2_c)\n",
    "    try:\n",
    "        score = f1_score(modify_targets(y_train), np.sign(F_train @ found_thetta))\n",
    "    except ValueError:\n",
    "        continue\n",
    "    if score > best_score:\n",
    "        params = (err_f, step_f, elastic_net, l1_c, l2_c)\n",
    "        best_score = score\n",
    "        best_thetta = found_thetta\n",
    "print(best_score)\n",
    "print(*[str(p) for p in params])"
   ]
  },
  {
   "cell_type": "code",
   "execution_count": 21,
   "id": "95cff61471cee8f3",
   "metadata": {
    "ExecuteTime": {
     "end_time": "2024-11-28T21:20:10.703824Z",
     "start_time": "2024-11-28T21:20:10.539210Z"
    },
    "collapsed": false
   },
   "outputs": [],
   "source": [
    "# собираем данные для построения графиков\n",
    "best_thetta, lin_cls_path, f1_score_lin_cls = linear_classification(F_train, modify_targets(y_train),\n",
    "                                                                    logarifmic_function, Constant_step(0.01),\n",
    "                                                                    l1_coeff=0.01, l2_coeff=0.01, show_results=True,\n",
    "                                                                    data_test=F_test,\n",
    "                                                                    target_test=modify_targets(y_test))"
   ]
  },
  {
   "cell_type": "code",
   "execution_count": 22,
   "id": "ea8468c7f4453441",
   "metadata": {
    "ExecuteTime": {
     "end_time": "2024-11-27T22:14:06.811311Z",
     "start_time": "2024-11-27T22:14:06.616365Z"
    },
    "collapsed": false
   },
   "outputs": [
    {
     "data": {
      "image/png": "[encoded data removed]",
      "text/plain": [
       "<Figure size 640x480 with 1 Axes>"
      ]
     },
     "metadata": {},
     "output_type": "display_data"
    }
   ],
   "source": [
    "plt.plot(np.arange(1, 1000)[::50], lin_cls_path[::50])\n",
    "plt.xlabel('Iteration number')\n",
    "plt.ylabel('Empirical risk value')\n",
    "plt.title(\"Train data empirical risk\")\n",
    "plt.show()"
   ]
  },
  {
   "cell_type": "code",
   "execution_count": 23,
   "id": "5b1ebba794afdf2a",
   "metadata": {
    "ExecuteTime": {
     "end_time": "2024-11-28T21:20:16.118144Z",
     "start_time": "2024-11-28T21:20:16.012517Z"
    },
    "collapsed": false
   },
   "outputs": [
    {
     "data": {
      "text/plain": [
       "np.float64(0.6597938144329897)"
      ]
     },
     "execution_count": 23,
     "metadata": {},
     "output_type": "execute_result"
    }
   ],
   "source": [
    "f1_score(modify_targets(y_test), np.sign(F_test @ best_thetta))"
   ]
  },
  {
   "cell_type": "code",
   "execution_count": 24,
   "id": "b6f703015afe0e80",
   "metadata": {
    "ExecuteTime": {
     "end_time": "2024-11-28T21:20:19.367302Z",
     "start_time": "2024-11-28T21:20:19.189653Z"
    },
    "collapsed": false
   },
   "outputs": [],
   "source": [
    "modified_targets = modify_targets(y_train)"
   ]
  },
  {
   "cell_type": "code",
   "execution_count": 25,
   "id": "5581d1fd32758f28",
   "metadata": {
    "ExecuteTime": {
     "end_time": "2024-11-28T21:20:21.121934Z",
     "start_time": "2024-11-28T21:20:21.089897Z"
    },
    "collapsed": false
   },
   "outputs": [],
   "source": [
    "# реализация метода опорных векторов\n",
    "def svm_method(data_train, target_train, kernel_f, C, iteration_amount=1000, show_result=False,\n",
    "               data_test=None, target_test=None):\n",
    "    result = []\n",
    "    f1_score_path = []\n",
    "    modified_targets = modify_targets(target_train)\n",
    "    pairwise_product = np.einsum(\"ij,kj->ik\", data_train, data_train)\n",
    "    pairwise_kerneled = kernel_f(pairwise_product) * modified_targets[None] * modified_targets[..., None]\n",
    "\n",
    "    def svm_loss_grad(alphas, kernel_pairs: np.ndarray):\n",
    "        ans = kernel_pairs * alphas[None]\n",
    "        return ans.sum(axis=1) - 1\n",
    "\n",
    "    def svm_err_func(alphas, kernel_pairs: np.ndarray):\n",
    "        ans = alphas[..., None] * kernel_pairs * alphas[None]\n",
    "        return ans.sum() / 2 - alphas.sum()\n",
    "\n",
    "    def count_bias(alphas):\n",
    "        supports = []\n",
    "        for i in range(len(alphas)):\n",
    "            if 0 < alphas[i] < C:\n",
    "                supports.append(\n",
    "                    data_train[i] @ np.sum(alphas[..., None] * modified_targets[..., None] * data_train, axis=0) -\n",
    "                    modified_targets[i])\n",
    "        return median(supports) if supports else 0\n",
    "\n",
    "    svm_function = Custom_error_function(\"svm\",\n",
    "                                         svm_err_func,\n",
    "                                         svm_loss_grad)\n",
    "    alphas = np.zeros((data_train.shape[0],))\n",
    "    for k in range(iteration_amount):\n",
    "        if show_result:\n",
    "            result.append(svm_function(alphas, pairwise_kerneled))\n",
    "            if k % 50 == 0:\n",
    "                path_pred = np.sign(\n",
    "                    np.sum(np.einsum(\"ij,kj->ki\", data_train, data_test) * target_train[None] * alphas[None],\n",
    "                           axis=1) - count_bias(alphas))\n",
    "                f1_score_path.append(f1_score(path_pred + (path_pred == 0) * -1, modify_targets(target_test)))\n",
    "        func_grad = svm_function.cacl_grad(alphas, pairwise_kerneled)\n",
    "        func = lambda lr: svm_function(alphas - lr * func_grad, pairwise_kerneled)\n",
    "        step = golden_ratio_step(func, k)\n",
    "        alphas -= step * func_grad\n",
    "        alphas = np.clip(alphas, a_min=0, a_max=C)\n",
    "        alphas_and_targets = alphas * modified_targets\n",
    "        positive_alph = ((alphas_and_targets >= 0) * alphas)\n",
    "        negative_alph = ((alphas_and_targets < 0) * alphas)\n",
    "        coeff = positive_alph.sum() / negative_alph.sum()\n",
    "        alphas *= (coeff * (alphas_and_targets < 0) + (alphas_and_targets > 0))\n",
    "    w_0 = count_bias(alphas)\n",
    "    return alphas, w_0, result, f1_score_path"
   ]
  },
  {
   "cell_type": "code",
   "execution_count": 408,
   "id": "e84a11f25c3dc1dc",
   "metadata": {
    "ExecuteTime": {
     "end_time": "2024-11-27T22:14:06.828392Z",
     "start_time": "2024-11-27T22:14:06.688261Z"
    },
    "collapsed": false
   },
   "outputs": [],
   "source": [
    "Cs = [0.01, 0.1, 1, 10]"
   ]
  },
  {
   "cell_type": "code",
   "execution_count": 26,
   "id": "5b60c97874279b64",
   "metadata": {
    "ExecuteTime": {
     "end_time": "2024-11-28T21:20:26.442056Z",
     "start_time": "2024-11-28T21:20:26.367869Z"
    },
    "collapsed": false
   },
   "outputs": [],
   "source": [
    "# класс ядра (взят из прошлой лабы)\n",
    "class Customkernel:\n",
    "    def __init__(self, name, func):\n",
    "        self.name = name\n",
    "        self.func = func\n",
    "\n",
    "    def __call__(self, *args, **kwargs):\n",
    "        return self.func(*args)\n",
    "\n",
    "    def __str__(self):\n",
    "        return self.name"
   ]
  },
  {
   "cell_type": "code",
   "execution_count": 27,
   "id": "85b7b00f773ae03",
   "metadata": {
    "ExecuteTime": {
     "end_time": "2024-11-28T21:20:26.843351Z",
     "start_time": "2024-11-28T21:20:26.811997Z"
    },
    "collapsed": false
   },
   "outputs": [],
   "source": [
    "squared = Customkernel(\"squared\", lambda x: x * x)\n",
    "monomial = Customkernel(\"monomial\", lambda x: (x + 1) ** 4)\n",
    "sigmoid = Customkernel(\"sigmoid\", lambda x: 1 / (1 + np.exp(-x)))\n",
    "kernels = [squared, monomial, sigmoid]"
   ]
  },
  {
   "cell_type": "code",
   "execution_count": 411,
   "id": "d0ef15e407fc82f",
   "metadata": {
    "ExecuteTime": {
     "end_time": "2024-11-27T22:17:34.415984Z",
     "start_time": "2024-11-27T22:14:06.701588Z"
    },
    "collapsed": false
   },
   "outputs": [
    {
     "data": {
      "application/vnd.jupyter.widget-view+json": {
       "model_id": "2db0be778df94e1892d8f3a2c1bca619",
       "version_major": 2,
       "version_minor": 0
      },
      "text/plain": [
       "  0%|          | 0/12 [00:00<?, ?it/s]"
      ]
     },
     "metadata": {},
     "output_type": "display_data"
    },
    {
     "name": "stdout",
     "output_type": "stream",
     "text": [
      "0.6492374727668845\n",
      "sigmoid 0.01\n"
     ]
    }
   ],
   "source": [
    "# поиск лучших гиперпараметров\n",
    "best_score = -1\n",
    "params = None\n",
    "for p in tqdm(list(product(kernels, Cs))):\n",
    "    kern, c = p\n",
    "    alphas_fitted, bias, *_ = svm_method(F_train[..., :-1], modify_targets(y_train), kern, c)\n",
    "    pred = np.sign(np.sum(\n",
    "        np.einsum(\"ij,kj->ki\", F_train[..., :-1], F_train[..., :-1]) * modified_targets[None] * alphas_fitted[None],\n",
    "        axis=1) - bias)\n",
    "    score = f1_score(pred, modify_targets(y_train))\n",
    "    if score > best_score:\n",
    "        best_score = score\n",
    "        params = (kern, c)\n",
    "print(best_score)\n",
    "print(*[str(p) for p in params])"
   ]
  },
  {
   "cell_type": "code",
   "execution_count": 28,
   "id": "2f98e143062b81c",
   "metadata": {
    "ExecuteTime": {
     "end_time": "2024-11-28T21:20:57.892640Z",
     "start_time": "2024-11-28T21:20:30.671410Z"
    },
    "collapsed": false
   },
   "outputs": [],
   "source": [
    "# собираем данные для построения графиков\n",
    "alphas_fitted, bias, svm_path, f1_score_svm = svm_method(F_train[..., :-1], modify_targets(y_train), sigmoid, 0.01,\n",
    "                                                         show_result=True, data_test=F_test[..., :-1],\n",
    "                                                         target_test=modify_targets(y_test))"
   ]
  },
  {
   "cell_type": "code",
   "execution_count": 29,
   "id": "eef41441fb060fdc",
   "metadata": {
    "ExecuteTime": {
     "end_time": "2024-11-27T22:17:53.024371Z",
     "start_time": "2024-11-27T22:17:52.933270Z"
    },
    "collapsed": false
   },
   "outputs": [
    {
     "data": {
      "image/png": "[encoded data removed]",
      "text/plain": [
       "<Figure size 640x480 with 1 Axes>"
      ]
     },
     "metadata": {},
     "output_type": "display_data"
    }
   ],
   "source": [
    "plt.plot(np.arange(1, 1000)[::50], svm_path[::50])\n",
    "plt.xlabel('Iteration number')\n",
    "plt.ylabel('Empirical risk value')\n",
    "plt.title(\"Train data empirical risk\")\n",
    "plt.show()"
   ]
  },
  {
   "cell_type": "code",
   "execution_count": 30,
   "id": "2b53c50b4d10c978",
   "metadata": {
    "ExecuteTime": {
     "end_time": "2024-11-28T21:20:57.908879Z",
     "start_time": "2024-11-28T21:20:57.879968Z"
    },
    "collapsed": false
   },
   "outputs": [
    {
     "data": {
      "text/plain": [
       "np.float64(0.6608695652173913)"
      ]
     },
     "execution_count": 30,
     "metadata": {},
     "output_type": "execute_result"
    }
   ],
   "source": [
    "pred = np.sign(\n",
    "    np.sum(np.einsum(\"ij,kj->ki\", F_train[..., :-1], F_test[..., :-1]) * modified_targets[None] * alphas_fitted[None],\n",
    "           axis=1) - bias)\n",
    "f1_score(pred, modify_targets(y_test))"
   ]
  },
  {
   "cell_type": "code",
   "execution_count": 415,
   "id": "34547663075665e2",
   "metadata": {
    "ExecuteTime": {
     "end_time": "2024-11-27T22:18:53.500394Z",
     "start_time": "2024-11-27T22:17:53.026240Z"
    },
    "collapsed": false
   },
   "outputs": [
    {
     "data": {
      "application/vnd.jupyter.widget-view+json": {
       "model_id": "d99dbc70d80048da8cd8d2bdcaa0e2d9",
       "version_major": 2,
       "version_minor": 0
      },
      "text/plain": [
       "  0%|          | 0/4 [00:00<?, ?it/s]"
      ]
     },
     "metadata": {},
     "output_type": "display_data"
    }
   ],
   "source": [
    "# перебираем разные разбиения на test и train\n",
    "f1_scores_svm = []\n",
    "f1_scores_lin_cls = []\n",
    "for test_size in tqdm([0.1, 0.2, 0.3, 0.5]):\n",
    "    d_train, d_test, y_train, y_test = train_test_split(F, target, test_size=test_size, random_state=52,\n",
    "                                                        stratify=target)\n",
    "    *_, f1_score_svm_looped = svm_method(d_train[..., :-1], modify_targets(y_train), sigmoid, 0.01, show_result=True,\n",
    "                                         data_test=d_test[..., :-1], target_test=modify_targets(y_test))\n",
    "    f1_scores_svm.append(f1_score_svm_looped)\n",
    "    *_, f1_score_lin_cls_looped = linear_classification(d_train, modify_targets(y_train), logarifmic_function,\n",
    "                                                        Constant_step(0.01), l1_coeff=0.01, l2_coeff=0.01,\n",
    "                                                        show_results=True,\n",
    "                                                        data_test=d_test, target_test=modify_targets(y_test))\n",
    "    f1_scores_lin_cls.append(f1_score_lin_cls_looped)"
   ]
  },
  {
   "cell_type": "code",
   "execution_count": null,
   "id": "04290dd1-562b-4282-8489-bc331925f495",
   "metadata": {},
   "outputs": [],
   "source": []
  },
  {
   "cell_type": "code",
   "execution_count": 32,
   "id": "8d212a19748ca999",
   "metadata": {
    "ExecuteTime": {
     "end_time": "2024-11-28T21:25:49.073137Z",
     "start_time": "2024-11-28T21:24:33.655778Z"
    },
    "collapsed": false
   },
   "outputs": [],
   "source": [
    "f1_scores_svm_arr = np.array(f1_scores_svm)\n",
    "f1_svm_mins = f1_scores_svm_arr.min(axis=0)\n",
    "f1_svm_maxs = f1_scores_svm_arr.max(axis=0)"
   ]
  },
  {
   "cell_type": "code",
   "execution_count": 33,
   "id": "9cef6f3bdf192fd4",
   "metadata": {
    "ExecuteTime": {
     "end_time": "2024-11-28T21:26:19.575711Z",
     "start_time": "2024-11-28T21:26:19.517304Z"
    },
    "collapsed": false
   },
   "outputs": [
    {
     "ename": "ValueError",
     "evalue": "zero-size array to reduction operation minimum which has no identity",
     "output_type": "error",
     "traceback": [
      "\u001B[0;31m---------------------------------------------------------------------------\u001B[0m",
      "\u001B[0;31mValueError\u001B[0m                                Traceback (most recent call last)",
      "Cell \u001B[0;32mIn[33], line 2\u001B[0m\n\u001B[1;32m      1\u001B[0m f1_scores_lin_cls_arr \u001B[38;5;241m=\u001B[39m np\u001B[38;5;241m.\u001B[39marray(f1_scores_lin_cls)\n\u001B[0;32m----> 2\u001B[0m f1_lin_mins \u001B[38;5;241m=\u001B[39m \u001B[43mf1_scores_lin_cls_arr\u001B[49m\u001B[38;5;241;43m.\u001B[39;49m\u001B[43mmin\u001B[49m\u001B[43m(\u001B[49m\u001B[43maxis\u001B[49m\u001B[38;5;241;43m=\u001B[39;49m\u001B[38;5;241;43m0\u001B[39;49m\u001B[43m)\u001B[49m\n\u001B[1;32m      3\u001B[0m f1_lin_maxs \u001B[38;5;241m=\u001B[39m f1_scores_lin_cls_arr\u001B[38;5;241m.\u001B[39mmax(axis\u001B[38;5;241m=\u001B[39m\u001B[38;5;241m0\u001B[39m)\n",
      "File \u001B[0;32m~/PycharmProjects/DA/Lab_1/pars_env/lib/python3.11/site-packages/numpy/_core/_methods.py:49\u001B[0m, in \u001B[0;36m_amin\u001B[0;34m(a, axis, out, keepdims, initial, where)\u001B[0m\n\u001B[1;32m     47\u001B[0m \u001B[38;5;28;01mdef\u001B[39;00m \u001B[38;5;21m_amin\u001B[39m(a, axis\u001B[38;5;241m=\u001B[39m\u001B[38;5;28;01mNone\u001B[39;00m, out\u001B[38;5;241m=\u001B[39m\u001B[38;5;28;01mNone\u001B[39;00m, keepdims\u001B[38;5;241m=\u001B[39m\u001B[38;5;28;01mFalse\u001B[39;00m,\n\u001B[1;32m     48\u001B[0m           initial\u001B[38;5;241m=\u001B[39m_NoValue, where\u001B[38;5;241m=\u001B[39m\u001B[38;5;28;01mTrue\u001B[39;00m):\n\u001B[0;32m---> 49\u001B[0m     \u001B[38;5;28;01mreturn\u001B[39;00m umr_minimum(a, axis, \u001B[38;5;28;01mNone\u001B[39;00m, out, keepdims, initial, where)\n",
      "\u001B[0;31mValueError\u001B[0m: zero-size array to reduction operation minimum which has no identity"
     ]
    }
   ],
   "source": [
    "f1_scores_lin_cls_arr = np.array(f1_scores_lin_cls)\n",
    "f1_lin_mins = f1_scores_lin_cls_arr.min(axis=0)\n",
    "f1_lin_maxs = f1_scores_lin_cls_arr.max(axis=0)"
   ]
  },
  {
   "cell_type": "code",
   "execution_count": 30,
   "id": "33c475db37f147ae",
   "metadata": {
    "ExecuteTime": {
     "end_time": "2024-11-28T21:26:20.254410Z",
     "start_time": "2024-11-28T21:26:20.184005Z"
    },
    "collapsed": false
   },
   "outputs": [],
   "source": [
    "plt.plot(np.arange(1, 1000)[::50], f1_score_svm, label=\"F1 score SVM\")\n",
    "plt.fill_between(np.arange(1, 1000)[::50], f1_svm_mins, f1_svm_maxs, alpha=.2)\n",
    "plt.plot(np.arange(1, 1000)[::50], f1_score_lin_cls, label=\"F1 score linear classification\")\n",
    "plt.fill_between(np.arange(1, 1000)[::50], f1_lin_mins, f1_lin_maxs, alpha=.2)\n",
    "plt.plot(np.arange(1, 1000)[::50], np.ones((20,)) * lin_reg_score, \"--\", label=\"F1 score linear regression\")\n",
    "plt.xlabel('Iteration number')\n",
    "plt.ylabel(\"F1 score\")\n",
    "plt.legend()\n",
    "plt.show()"
   ]
  },
  {
   "cell_type": "code",
   "execution_count": 35,
   "id": "91d018d1-22e9-477b-a9f2-4f0e9fd27cfb",
   "metadata": {},
   "outputs": [
    {
     "data": {
      "application/vnd.jupyter.widget-view+json": {
       "model_id": "8babe634f27344708a9afb65085469a9",
       "version_major": 2,
       "version_minor": 0
      },
      "text/plain": [
       "  0%|          | 0/5 [00:00<?, ?it/s]"
      ]
     },
     "metadata": {},
     "output_type": "display_data"
    }
   ],
   "source": [
    "# перебираем разные разбиения на test и train\n",
    "f1_scores_svm = []\n",
    "f1_scores_lin_cls = []\n",
    "for seed in tqdm(np.arange(50, 55)):\n",
    "    d_train, d_test, y_train, y_test = train_test_split(F, target, test_size=0.2, random_state=seed,\n",
    "                                                        stratify=target)\n",
    "    *_, f1_score_svm_looped = svm_method(d_train[..., :-1], modify_targets(y_train), sigmoid, 0.01, show_result=True,\n",
    "                                         data_test=d_test[..., :-1], target_test=modify_targets(y_test))\n",
    "    f1_scores_svm.append(f1_score_svm_looped)\n",
    "    *_, f1_score_lin_cls_looped = linear_classification(d_train, modify_targets(y_train), logarifmic_function,\n",
    "                                                        Constant_step(0.01), l1_coeff=0.01, l2_coeff=0.01,\n",
    "                                                        show_results=True,\n",
    "                                                        data_test=d_test, target_test=modify_targets(y_test))\n",
    "    f1_scores_lin_cls.append(f1_score_lin_cls_looped)"
   ]
  },
  {
   "cell_type": "code",
   "execution_count": 34,
   "id": "5b28d8c8-036f-4a43-ace6-6ad37c53f934",
   "metadata": {},
   "outputs": [
    {
     "data": {
      "text/plain": [
       "[]"
      ]
     },
     "execution_count": 34,
     "metadata": {},
     "output_type": "execute_result"
    }
   ],
   "source": [
    "f1_scores_lin_cls"
   ]
  },
  {
   "cell_type": "code",
   "execution_count": null,
   "id": "521b5974-4fb3-4dd0-964b-7b62e613cc51",
   "metadata": {},
   "outputs": [],
   "source": []
  }
 ],
 "metadata": {
  "kernelspec": {
   "display_name": "Python 3 (ipykernel)",
   "language": "python",
   "name": "python3"
  },
  "language_info": {
   "codemirror_mode": {
    "name": "ipython",
    "version": 3
   },
   "file_extension": ".py",
   "mimetype": "text/x-python",
   "name": "python",
   "nbconvert_exporter": "python",
   "pygments_lexer": "ipython3",
   "version": "3.11.5"
  }
 },
 "nbformat": 4,
 "nbformat_minor": 5
}
