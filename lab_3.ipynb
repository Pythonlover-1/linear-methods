{
 "cells": [
  {
   "cell_type": "code",
   "execution_count": 376,
   "id": "initial_id",
   "metadata": {
    "ExecuteTime": {
     "end_time": "2024-11-27T22:13:15.369574Z",
     "start_time": "2024-11-27T22:13:13.909794Z"
    }
   },
   "outputs": [],
   "source": [
    "import pandas as pd\n",
    "import numpy as np\n",
    "from sklearn.model_selection import train_test_split\n",
    "from sklearn.metrics import f1_score\n",
    "from typing import Callable\n",
    "from statistics import median\n",
    "from tqdm.auto import tqdm\n",
    "import matplotlib.pyplot as plt\n",
    "from itertools import product"
   ]
  },
  {
   "cell_type": "code",
   "execution_count": 377,
   "id": "b98a4a8053cb9d96",
   "metadata": {
    "ExecuteTime": {
     "end_time": "2024-11-27T22:13:15.436505Z",
     "start_time": "2024-11-27T22:13:13.915777Z"
    },
    "collapsed": false,
    "jupyter": {
     "outputs_hidden": false
    }
   },
   "outputs": [],
   "source": [
    "from scipy.constants import golden_ratio"
   ]
  },
  {
   "cell_type": "code",
   "execution_count": 378,
   "id": "ac00bd92d6364e4",
   "metadata": {
    "ExecuteTime": {
     "end_time": "2024-11-27T22:13:15.702394Z",
     "start_time": "2024-11-27T22:13:13.942321Z"
    },
    "collapsed": false,
    "jupyter": {
     "outputs_hidden": false
    }
   },
   "outputs": [],
   "source": [
    "# Загружаем данные, добавляем столбец признаков, для того чтобы обучать коэффициент сдвига\n",
    "df = pd.read_csv(\"data/diabetes_dataset.csv\", delimiter=\",\", decimal=\".\")\n",
    "not_normalized_features = df.drop(columns=['Outcome'])\n",
    "F = (not_normalized_features - not_normalized_features.mean()) / not_normalized_features.std()\n",
    "F[\"bias\"] = 1"
   ]
  },
  {
   "cell_type": "code",
   "execution_count": 379,
   "id": "4ccf8025bd4e5730",
   "metadata": {
    "ExecuteTime": {
     "end_time": "2024-11-27T22:13:15.753616Z",
     "start_time": "2024-11-27T22:13:13.965559Z"
    },
    "collapsed": false,
    "jupyter": {
     "outputs_hidden": false
    }
   },
   "outputs": [
    {
     "data": {
      "text/html": [
       "<div>\n",
       "<style scoped>\n",
       "    .dataframe tbody tr th:only-of-type {\n",
       "        vertical-align: middle;\n",
       "    }\n",
       "\n",
       "    .dataframe tbody tr th {\n",
       "        vertical-align: top;\n",
       "    }\n",
       "\n",
       "    .dataframe thead th {\n",
       "        text-align: right;\n",
       "    }\n",
       "</style>\n",
       "<table border=\"1\" class=\"dataframe\">\n",
       "  <thead>\n",
       "    <tr style=\"text-align: right;\">\n",
       "      <th></th>\n",
       "      <th>Pregnancies</th>\n",
       "      <th>Glucose</th>\n",
       "      <th>BloodPressure</th>\n",
       "      <th>SkinThickness</th>\n",
       "      <th>Insulin</th>\n",
       "      <th>BMI</th>\n",
       "      <th>DiabetesPedigreeFunction</th>\n",
       "      <th>Age</th>\n",
       "      <th>bias</th>\n",
       "    </tr>\n",
       "  </thead>\n",
       "  <tbody>\n",
       "    <tr>\n",
       "      <th>0</th>\n",
       "      <td>0.639530</td>\n",
       "      <td>0.847771</td>\n",
       "      <td>0.149543</td>\n",
       "      <td>0.906679</td>\n",
       "      <td>-0.692439</td>\n",
       "      <td>0.203880</td>\n",
       "      <td>0.468187</td>\n",
       "      <td>1.425067</td>\n",
       "      <td>1</td>\n",
       "    </tr>\n",
       "    <tr>\n",
       "      <th>1</th>\n",
       "      <td>-0.844335</td>\n",
       "      <td>-1.122665</td>\n",
       "      <td>-0.160441</td>\n",
       "      <td>0.530556</td>\n",
       "      <td>-0.692439</td>\n",
       "      <td>-0.683976</td>\n",
       "      <td>-0.364823</td>\n",
       "      <td>-0.190548</td>\n",
       "      <td>1</td>\n",
       "    </tr>\n",
       "    <tr>\n",
       "      <th>2</th>\n",
       "      <td>1.233077</td>\n",
       "      <td>1.942458</td>\n",
       "      <td>-0.263769</td>\n",
       "      <td>-1.287373</td>\n",
       "      <td>-0.692439</td>\n",
       "      <td>-1.102537</td>\n",
       "      <td>0.604004</td>\n",
       "      <td>-0.105515</td>\n",
       "      <td>1</td>\n",
       "    </tr>\n",
       "    <tr>\n",
       "      <th>3</th>\n",
       "      <td>-0.844335</td>\n",
       "      <td>-0.997558</td>\n",
       "      <td>-0.160441</td>\n",
       "      <td>0.154433</td>\n",
       "      <td>0.123221</td>\n",
       "      <td>-0.493721</td>\n",
       "      <td>-0.920163</td>\n",
       "      <td>-1.040871</td>\n",
       "      <td>1</td>\n",
       "    </tr>\n",
       "    <tr>\n",
       "      <th>4</th>\n",
       "      <td>-1.141108</td>\n",
       "      <td>0.503727</td>\n",
       "      <td>-1.503707</td>\n",
       "      <td>0.906679</td>\n",
       "      <td>0.765337</td>\n",
       "      <td>1.408828</td>\n",
       "      <td>5.481337</td>\n",
       "      <td>-0.020483</td>\n",
       "      <td>1</td>\n",
       "    </tr>\n",
       "    <tr>\n",
       "      <th>...</th>\n",
       "      <td>...</td>\n",
       "      <td>...</td>\n",
       "      <td>...</td>\n",
       "      <td>...</td>\n",
       "      <td>...</td>\n",
       "      <td>...</td>\n",
       "      <td>...</td>\n",
       "      <td>...</td>\n",
       "      <td>...</td>\n",
       "    </tr>\n",
       "    <tr>\n",
       "      <th>763</th>\n",
       "      <td>1.826623</td>\n",
       "      <td>-0.622237</td>\n",
       "      <td>0.356200</td>\n",
       "      <td>1.721613</td>\n",
       "      <td>0.869464</td>\n",
       "      <td>0.115094</td>\n",
       "      <td>-0.908090</td>\n",
       "      <td>2.530487</td>\n",
       "      <td>1</td>\n",
       "    </tr>\n",
       "    <tr>\n",
       "      <th>764</th>\n",
       "      <td>-0.547562</td>\n",
       "      <td>0.034575</td>\n",
       "      <td>0.046215</td>\n",
       "      <td>0.405181</td>\n",
       "      <td>-0.692439</td>\n",
       "      <td>0.609757</td>\n",
       "      <td>-0.398023</td>\n",
       "      <td>-0.530677</td>\n",
       "      <td>1</td>\n",
       "    </tr>\n",
       "    <tr>\n",
       "      <th>765</th>\n",
       "      <td>0.342757</td>\n",
       "      <td>0.003299</td>\n",
       "      <td>0.149543</td>\n",
       "      <td>0.154433</td>\n",
       "      <td>0.279412</td>\n",
       "      <td>-0.734711</td>\n",
       "      <td>-0.684747</td>\n",
       "      <td>-0.275580</td>\n",
       "      <td>1</td>\n",
       "    </tr>\n",
       "    <tr>\n",
       "      <th>766</th>\n",
       "      <td>-0.844335</td>\n",
       "      <td>0.159683</td>\n",
       "      <td>-0.470426</td>\n",
       "      <td>-1.287373</td>\n",
       "      <td>-0.692439</td>\n",
       "      <td>-0.240048</td>\n",
       "      <td>-0.370859</td>\n",
       "      <td>1.169970</td>\n",
       "      <td>1</td>\n",
       "    </tr>\n",
       "    <tr>\n",
       "      <th>767</th>\n",
       "      <td>-0.844335</td>\n",
       "      <td>-0.872451</td>\n",
       "      <td>0.046215</td>\n",
       "      <td>0.655930</td>\n",
       "      <td>-0.692439</td>\n",
       "      <td>-0.201997</td>\n",
       "      <td>-0.473476</td>\n",
       "      <td>-0.870806</td>\n",
       "      <td>1</td>\n",
       "    </tr>\n",
       "  </tbody>\n",
       "</table>\n",
       "<p>768 rows × 9 columns</p>\n",
       "</div>"
      ],
      "text/plain": [
       "     Pregnancies   Glucose  BloodPressure  SkinThickness   Insulin       BMI  \\\n",
       "0       0.639530  0.847771       0.149543       0.906679 -0.692439  0.203880   \n",
       "1      -0.844335 -1.122665      -0.160441       0.530556 -0.692439 -0.683976   \n",
       "2       1.233077  1.942458      -0.263769      -1.287373 -0.692439 -1.102537   \n",
       "3      -0.844335 -0.997558      -0.160441       0.154433  0.123221 -0.493721   \n",
       "4      -1.141108  0.503727      -1.503707       0.906679  0.765337  1.408828   \n",
       "..           ...       ...            ...            ...       ...       ...   \n",
       "763     1.826623 -0.622237       0.356200       1.721613  0.869464  0.115094   \n",
       "764    -0.547562  0.034575       0.046215       0.405181 -0.692439  0.609757   \n",
       "765     0.342757  0.003299       0.149543       0.154433  0.279412 -0.734711   \n",
       "766    -0.844335  0.159683      -0.470426      -1.287373 -0.692439 -0.240048   \n",
       "767    -0.844335 -0.872451       0.046215       0.655930 -0.692439 -0.201997   \n",
       "\n",
       "     DiabetesPedigreeFunction       Age  bias  \n",
       "0                    0.468187  1.425067     1  \n",
       "1                   -0.364823 -0.190548     1  \n",
       "2                    0.604004 -0.105515     1  \n",
       "3                   -0.920163 -1.040871     1  \n",
       "4                    5.481337 -0.020483     1  \n",
       "..                        ...       ...   ...  \n",
       "763                 -0.908090  2.530487     1  \n",
       "764                 -0.398023 -0.530677     1  \n",
       "765                 -0.684747 -0.275580     1  \n",
       "766                 -0.370859  1.169970     1  \n",
       "767                 -0.473476 -0.870806     1  \n",
       "\n",
       "[768 rows x 9 columns]"
      ]
     },
     "execution_count": 379,
     "metadata": {},
     "output_type": "execute_result"
    }
   ],
   "source": [
    "F"
   ]
  },
  {
   "cell_type": "code",
   "execution_count": 380,
   "id": "f160adfe2d8e4826",
   "metadata": {
    "ExecuteTime": {
     "end_time": "2024-11-27T22:13:15.754484Z",
     "start_time": "2024-11-27T22:13:13.968980Z"
    },
    "collapsed": false,
    "jupyter": {
     "outputs_hidden": false
    }
   },
   "outputs": [],
   "source": [
    "F = F.to_numpy()"
   ]
  },
  {
   "cell_type": "code",
   "execution_count": 381,
   "id": "1d1780706f53084e",
   "metadata": {
    "ExecuteTime": {
     "end_time": "2024-11-27T22:13:15.754587Z",
     "start_time": "2024-11-27T22:13:13.970773Z"
    },
    "collapsed": false,
    "jupyter": {
     "outputs_hidden": false
    }
   },
   "outputs": [],
   "source": [
    "target = df[['Outcome']].to_numpy().squeeze(-1)"
   ]
  },
  {
   "cell_type": "code",
   "execution_count": 382,
   "id": "c71a67f14363fcf3",
   "metadata": {
    "ExecuteTime": {
     "end_time": "2024-11-27T22:13:15.755979Z",
     "start_time": "2024-11-27T22:13:13.977158Z"
    },
    "collapsed": false,
    "jupyter": {
     "outputs_hidden": false
    }
   },
   "outputs": [
    {
     "data": {
      "text/plain": [
       "0.3489583333333333"
      ]
     },
     "execution_count": 382,
     "metadata": {},
     "output_type": "execute_result"
    }
   ],
   "source": [
    "np.count_nonzero(target) / target.shape[0]"
   ]
  },
  {
   "cell_type": "code",
   "execution_count": 383,
   "id": "2c90f6f0f609728f",
   "metadata": {
    "ExecuteTime": {
     "end_time": "2024-11-27T22:13:15.760444Z",
     "start_time": "2024-11-27T22:13:13.986821Z"
    },
    "collapsed": false,
    "jupyter": {
     "outputs_hidden": false
    }
   },
   "outputs": [],
   "source": [
    "# разбиваем данные на тестовую и тренировочную части\n",
    "F_train, F_test, y_train, y_test = train_test_split(F, target, test_size=0.2, random_state=52,\n",
    "                                                    stratify=target)"
   ]
  },
  {
   "cell_type": "code",
   "execution_count": 384,
   "id": "24d22a9bbb114022",
   "metadata": {
    "ExecuteTime": {
     "end_time": "2024-11-27T22:13:15.760713Z",
     "start_time": "2024-11-27T22:13:13.992902Z"
    },
    "collapsed": false,
    "jupyter": {
     "outputs_hidden": false
    }
   },
   "outputs": [
    {
     "data": {
      "text/plain": [
       "0.3485342019543974"
      ]
     },
     "execution_count": 384,
     "metadata": {},
     "output_type": "execute_result"
    }
   ],
   "source": [
    "np.count_nonzero(y_train) / y_train.shape[0]"
   ]
  },
  {
   "cell_type": "code",
   "execution_count": 385,
   "id": "a3d67d6e26534f93",
   "metadata": {
    "ExecuteTime": {
     "end_time": "2024-11-27T22:13:15.760811Z",
     "start_time": "2024-11-27T22:13:13.999803Z"
    },
    "collapsed": false,
    "jupyter": {
     "outputs_hidden": false
    }
   },
   "outputs": [],
   "source": [
    "def modify_targets(targets):\n",
    "    return targets + (-1) * (targets == 0)"
   ]
  },
  {
   "cell_type": "code",
   "execution_count": 386,
   "id": "28f6961231f5702e",
   "metadata": {
    "ExecuteTime": {
     "end_time": "2024-11-27T22:13:15.760887Z",
     "start_time": "2024-11-27T22:13:14.010984Z"
    },
    "collapsed": false,
    "jupyter": {
     "outputs_hidden": false
    }
   },
   "outputs": [],
   "source": [
    "# реализация линейной регрессии\n",
    "def linear_regression(data_train, target_train, r=1):\n",
    "    U, D, Vh = np.linalg.svd(data_train, full_matrices=False)\n",
    "    D = np.diag(D)\n",
    "    regulated_thetta = Vh.T @ np.linalg.inv(D ** 2 + r[None] * np.eye(data_train.shape[1])) @ D @ U.T @ target_train\n",
    "    return regulated_thetta"
   ]
  },
  {
   "cell_type": "code",
   "execution_count": 387,
   "id": "ddca9784fb075ba3",
   "metadata": {
    "ExecuteTime": {
     "end_time": "2024-11-27T22:13:15.760997Z",
     "start_time": "2024-11-27T22:13:14.019727Z"
    },
    "collapsed": false,
    "jupyter": {
     "outputs_hidden": false
    }
   },
   "outputs": [],
   "source": [
    "# реализация классификации через линейную регрессию\n",
    "def linear_classification_from_regression(linear_regressor, data_train, target_train):\n",
    "    regul_without_bias = np.ones((data_train.shape[1],))\n",
    "    regul_without_bias[-1] = 0\n",
    "    return linear_regressor(data_train, modify_targets(target_train), regul_without_bias)\n"
   ]
  },
  {
   "cell_type": "code",
   "execution_count": 388,
   "id": "fbfec06b6521d2e4",
   "metadata": {
    "ExecuteTime": {
     "end_time": "2024-11-27T22:13:15.761084Z",
     "start_time": "2024-11-27T22:13:14.025267Z"
    },
    "collapsed": false,
    "jupyter": {
     "outputs_hidden": false
    }
   },
   "outputs": [],
   "source": [
    "# предсказание самого наивного классификатора\n",
    "classificator_pred = np.sign(F_test @ linear_classification_from_regression(linear_regression, F_train, y_train))\n",
    "lin_reg_score = f1_score(classificator_pred, modify_targets(y_test))"
   ]
  },
  {
   "cell_type": "code",
   "execution_count": 389,
   "id": "df40f4d311940eca",
   "metadata": {
    "ExecuteTime": {
     "end_time": "2024-11-27T22:13:15.784324Z",
     "start_time": "2024-11-27T22:13:14.034777Z"
    },
    "collapsed": false,
    "jupyter": {
     "outputs_hidden": false
    }
   },
   "outputs": [
    {
     "data": {
      "text/plain": [
       "np.float64(0.6595744680851063)"
      ]
     },
     "execution_count": 389,
     "metadata": {},
     "output_type": "execute_result"
    }
   ],
   "source": [
    "lin_reg_score"
   ]
  },
  {
   "cell_type": "code",
   "execution_count": 390,
   "id": "9a8c85d643b206f7",
   "metadata": {
    "ExecuteTime": {
     "end_time": "2024-11-27T22:13:15.785333Z",
     "start_time": "2024-11-27T22:13:14.039874Z"
    },
    "collapsed": false,
    "jupyter": {
     "outputs_hidden": false
    }
   },
   "outputs": [],
   "source": [
    "# класс для эмпирического риска\n",
    "class Custom_error_function:\n",
    "    def __init__(self, name, func, grad):\n",
    "        self.name = name\n",
    "        self.func = func\n",
    "        self.grad = grad\n",
    "\n",
    "    def __call__(self, *args, **kwargs):\n",
    "        return self.func(*args, **kwargs)\n",
    "\n",
    "    def cacl_grad(self, *args, **kwargs):\n",
    "        return self.grad(*args, **kwargs)\n",
    "\n",
    "    def __str__(self):\n",
    "        return self.name"
   ]
  },
  {
   "cell_type": "code",
   "execution_count": 391,
   "id": "68ab9161f5ca4153",
   "metadata": {
    "ExecuteTime": {
     "end_time": "2024-11-27T22:13:15.785474Z",
     "start_time": "2024-11-27T22:13:14.050763Z"
    },
    "collapsed": false,
    "jupyter": {
     "outputs_hidden": false
    }
   },
   "outputs": [],
   "source": [
    "# функция линейного классификатора с использованием градиентного спуска\n",
    "def linear_classification(data_train: np.ndarray, target_train: np.ndarray, error_function: Custom_error_function,\n",
    "                          descent_step: Callable, bias=True, elastic_net=True, l1_coeff=0, l2_coeff=0,\n",
    "                          iteration_amount=1000, show_results=False, data_test=None,\n",
    "                          target_test=None):\n",
    "    result = []\n",
    "    f1_scores = []\n",
    "    boundary = 1 / (2 * data_train.shape[0])\n",
    "    thetta = np.random.uniform(-boundary, boundary, data_train.shape[1])\n",
    "    if bias:\n",
    "        thetta[-1] = 0\n",
    "    for k in range(iteration_amount):\n",
    "        func_grad = error_function.cacl_grad(thetta, data_train, target_train)\n",
    "        if show_results:\n",
    "            result.append(error_function(data_train @ thetta * target_train))\n",
    "            if k % 50 == 0:\n",
    "                f1_scores.append(f1_score(modify_targets(target_test), np.sign(data_test @ thetta)))\n",
    "        l1_vect, l2_vect = np.ones((thetta.shape[0],)), np.ones((thetta.shape[0],))\n",
    "        if bias:\n",
    "            l1_vect[-1], l2_vect[-1] = 0, 0\n",
    "        l1_vect *= l1_coeff\n",
    "        l2_vect *= l2_coeff\n",
    "        if elastic_net:\n",
    "            func_grad += l2_vect * thetta + l1_vect * np.sign(thetta)\n",
    "        func = lambda lr: error_function(data_train @ (thetta - lr * func_grad) * target_train)\n",
    "        step = descent_step(func, k)\n",
    "        thetta -= step * func_grad\n",
    "    return thetta, result, f1_scores"
   ]
  },
  {
   "cell_type": "code",
   "execution_count": 392,
   "id": "e3978fb7bfae4e3f",
   "metadata": {
    "ExecuteTime": {
     "end_time": "2024-11-27T22:13:15.785567Z",
     "start_time": "2024-11-27T22:13:14.059874Z"
    },
    "collapsed": false,
    "jupyter": {
     "outputs_hidden": false
    }
   },
   "outputs": [],
   "source": [
    "def piecewise_linear_grad(thetta, data_train: np.ndarray, target_train: np.ndarray):\n",
    "    func_args = data_train * target_train[..., None]\n",
    "    predicts = ((data_train @ thetta) * target_train <= 0)[..., None]\n",
    "    return np.sum((-1) * (func_args * predicts), axis=0)\n",
    "\n",
    "\n",
    "piecewise_linear_function = Custom_error_function(\"piecewise linear\",\n",
    "                                                  lambda x: np.sum(np.clip(-x, a_min=0, a_max=None)),\n",
    "                                                  piecewise_linear_grad)"
   ]
  },
  {
   "cell_type": "code",
   "execution_count": 393,
   "id": "c928e7a7e8a448fc",
   "metadata": {
    "ExecuteTime": {
     "end_time": "2024-11-27T22:13:15.785648Z",
     "start_time": "2024-11-27T22:13:14.064539Z"
    },
    "collapsed": false,
    "jupyter": {
     "outputs_hidden": false
    }
   },
   "outputs": [],
   "source": [
    "def logarifmic_grad(thetta, data_train: np.ndarray, target_train: np.ndarray):\n",
    "    func_args = -data_train * target_train[..., None]\n",
    "    predicts = data_train @ thetta * target_train\n",
    "    return np.sum((np.exp(-predicts) / (1 + np.exp(-predicts)))[..., None] * func_args, axis=0)\n",
    "\n",
    "\n",
    "logarifmic_function = Custom_error_function(\"logarifmic\",\n",
    "                                            lambda x: np.sum(np.log(1 + np.exp(-x))),\n",
    "                                            logarifmic_grad)"
   ]
  },
  {
   "cell_type": "code",
   "execution_count": 394,
   "id": "6c923812805e66f4",
   "metadata": {
    "ExecuteTime": {
     "end_time": "2024-11-27T22:13:15.785729Z",
     "start_time": "2024-11-27T22:13:14.071293Z"
    },
    "collapsed": false,
    "jupyter": {
     "outputs_hidden": false
    }
   },
   "outputs": [],
   "source": [
    "def exponential_grad(thetta, data_train: np.ndarray, target_train: np.ndarray):\n",
    "    func_args = -data_train * target_train[..., None]\n",
    "    predicts = (data_train @ thetta) * target_train\n",
    "    return np.sum(np.exp(-predicts)[..., None] * func_args, axis=0)\n",
    "\n",
    "\n",
    "exponential_function = Custom_error_function(\"exponential\",\n",
    "                                             lambda x: np.sum(np.exp(-x)),\n",
    "                                             exponential_grad)"
   ]
  },
  {
   "cell_type": "code",
   "execution_count": 395,
   "id": "e8a4bf27ded301f3",
   "metadata": {
    "ExecuteTime": {
     "end_time": "2024-11-27T22:13:15.785806Z",
     "start_time": "2024-11-27T22:13:14.075818Z"
    },
    "collapsed": false,
    "jupyter": {
     "outputs_hidden": false
    }
   },
   "outputs": [],
   "source": [
    "error_functions = [piecewise_linear_function, logarifmic_function, exponential_function]"
   ]
  },
  {
   "cell_type": "code",
   "execution_count": 396,
   "id": "cafcddb55caf9fd3",
   "metadata": {
    "ExecuteTime": {
     "end_time": "2024-11-27T22:13:15.785893Z",
     "start_time": "2024-11-27T22:13:14.080567Z"
    },
    "collapsed": false,
    "jupyter": {
     "outputs_hidden": false
    }
   },
   "outputs": [],
   "source": [
    "lrs = [1, 0.1, 0.01, 0.001, 1e-4]"
   ]
  },
  {
   "cell_type": "code",
   "execution_count": 397,
   "id": "51c1b7084e037bab",
   "metadata": {
    "ExecuteTime": {
     "end_time": "2024-11-27T22:13:15.785994Z",
     "start_time": "2024-11-27T22:13:14.085740Z"
    },
    "collapsed": false,
    "jupyter": {
     "outputs_hidden": false
    }
   },
   "outputs": [],
   "source": [
    "class Constant_step:\n",
    "    def __init__(self, step_size: float):\n",
    "        self.step_size = step_size\n",
    "    \n",
    "    def __str__(self):\n",
    "        return f\"Constant_step: {self.step_size}\"\n",
    "\n",
    "    def __call__(self, *args, **kwargs):\n",
    "        return self.step_size"
   ]
  },
  {
   "cell_type": "code",
   "execution_count": 398,
   "id": "7ba3f50318fe944d",
   "metadata": {
    "ExecuteTime": {
     "end_time": "2024-11-27T22:13:15.786073Z",
     "start_time": "2024-11-27T22:13:14.089510Z"
    },
    "collapsed": false,
    "jupyter": {
     "outputs_hidden": false
    }
   },
   "outputs": [],
   "source": [
    "def iteration_step(_, k, **__):\n",
    "    return 1 / np.sqrt(1 + k)"
   ]
  },
  {
   "cell_type": "code",
   "execution_count": 399,
   "id": "45d8c4fd34a5d42c",
   "metadata": {
    "ExecuteTime": {
     "end_time": "2024-11-27T22:13:15.786153Z",
     "start_time": "2024-11-27T22:13:14.095251Z"
    },
    "collapsed": false,
    "jupyter": {
     "outputs_hidden": false
    }
   },
   "outputs": [],
   "source": [
    "def golden_ratio_step(function, _, left=0, right=1,\n",
    "                      stop_delta=1e-5):\n",
    "    x1 = left + (right - left) / golden_ratio ** 2\n",
    "    x2 = left + (right - left) / golden_ratio\n",
    "    x1_val = function(x1)\n",
    "    x2_val = function(x2)\n",
    "    while (right - left) > stop_delta:\n",
    "        if x1_val <= x2_val:\n",
    "            right = x2\n",
    "            x2 = x1\n",
    "            x1 = left + (right - left) / golden_ratio ** 2\n",
    "            x1_val = function(x1)\n",
    "        else:\n",
    "            left = x1\n",
    "            x1 = x2\n",
    "            x2 = left + (right - left) / golden_ratio\n",
    "            x2_val = function(x2)\n",
    "    return (left + right) / 2"
   ]
  },
  {
   "cell_type": "code",
   "execution_count": 400,
   "id": "f5e1e409e5d9e9d1",
   "metadata": {
    "ExecuteTime": {
     "end_time": "2024-11-27T22:13:15.786225Z",
     "start_time": "2024-11-27T22:13:14.101032Z"
    },
    "collapsed": false,
    "jupyter": {
     "outputs_hidden": false
    }
   },
   "outputs": [],
   "source": [
    "gradient_descent_steps = [Constant_step(lr) for lr in lrs] + [iteration_step, golden_ratio_step]"
   ]
  },
  {
   "cell_type": "code",
   "execution_count": 401,
   "id": "5bfb326506b3d69d",
   "metadata": {
    "ExecuteTime": {
     "end_time": "2024-11-27T22:14:06.517524Z",
     "start_time": "2024-11-27T22:13:14.106010Z"
    },
    "collapsed": false,
    "jupyter": {
     "outputs_hidden": false
    },
    "scrolled": true
   },
   "outputs": [
    {
     "data": {
      "application/vnd.jupyter.widget-view+json": {
       "model_id": "50ac71c60c2c4d909d42f86b05dede5c",
       "version_major": 2,
       "version_minor": 0
      },
      "text/plain": [
       "  0%|          | 0/672 [00:00<?, ?it/s]"
      ]
     },
     "metadata": {},
     "output_type": "display_data"
    },
    {
     "name": "stderr",
     "output_type": "stream",
     "text": [
      "/var/folders/42/q4fn0w4d67l174rl7lvqgd5m0000gn/T/ipykernel_26714/3283781066.py:3: RuntimeWarning: overflow encountered in matmul\n",
      "  predicts = ((data_train @ thetta) * target_train <= 0)[..., None]\n",
      "/var/folders/42/q4fn0w4d67l174rl7lvqgd5m0000gn/T/ipykernel_26714/127333076.py:24: RuntimeWarning: overflow encountered in multiply\n",
      "  func_grad += l2_vect * thetta + l1_vect * np.sign(thetta)\n",
      "/var/folders/42/q4fn0w4d67l174rl7lvqgd5m0000gn/T/ipykernel_26714/3283781066.py:3: RuntimeWarning: invalid value encountered in matmul\n",
      "  predicts = ((data_train @ thetta) * target_train <= 0)[..., None]\n",
      "/var/folders/42/q4fn0w4d67l174rl7lvqgd5m0000gn/T/ipykernel_26714/127333076.py:27: RuntimeWarning: invalid value encountered in subtract\n",
      "  thetta -= step * func_grad\n",
      "/Users/dmitriy/PycharmProjects/DA/Lab_1/pars_env/lib/python3.11/site-packages/sklearn/utils/_array_api.py:390: RuntimeWarning: invalid value encountered in cast\n",
      "  return x.astype(dtype, copy=copy, casting=casting)\n",
      "/var/folders/42/q4fn0w4d67l174rl7lvqgd5m0000gn/T/ipykernel_26714/3283781066.py:3: RuntimeWarning: overflow encountered in matmul\n",
      "  predicts = ((data_train @ thetta) * target_train <= 0)[..., None]\n",
      "/var/folders/42/q4fn0w4d67l174rl7lvqgd5m0000gn/T/ipykernel_26714/127333076.py:24: RuntimeWarning: overflow encountered in multiply\n",
      "  func_grad += l2_vect * thetta + l1_vect * np.sign(thetta)\n",
      "/var/folders/42/q4fn0w4d67l174rl7lvqgd5m0000gn/T/ipykernel_26714/3283781066.py:3: RuntimeWarning: invalid value encountered in matmul\n",
      "  predicts = ((data_train @ thetta) * target_train <= 0)[..., None]\n",
      "/var/folders/42/q4fn0w4d67l174rl7lvqgd5m0000gn/T/ipykernel_26714/127333076.py:27: RuntimeWarning: invalid value encountered in subtract\n",
      "  thetta -= step * func_grad\n",
      "/Users/dmitriy/PycharmProjects/DA/Lab_1/pars_env/lib/python3.11/site-packages/sklearn/utils/_array_api.py:390: RuntimeWarning: invalid value encountered in cast\n",
      "  return x.astype(dtype, copy=copy, casting=casting)\n",
      "/var/folders/42/q4fn0w4d67l174rl7lvqgd5m0000gn/T/ipykernel_26714/3283781066.py:3: RuntimeWarning: overflow encountered in matmul\n",
      "  predicts = ((data_train @ thetta) * target_train <= 0)[..., None]\n",
      "/var/folders/42/q4fn0w4d67l174rl7lvqgd5m0000gn/T/ipykernel_26714/127333076.py:24: RuntimeWarning: overflow encountered in multiply\n",
      "  func_grad += l2_vect * thetta + l1_vect * np.sign(thetta)\n",
      "/var/folders/42/q4fn0w4d67l174rl7lvqgd5m0000gn/T/ipykernel_26714/3283781066.py:3: RuntimeWarning: invalid value encountered in matmul\n",
      "  predicts = ((data_train @ thetta) * target_train <= 0)[..., None]\n",
      "/var/folders/42/q4fn0w4d67l174rl7lvqgd5m0000gn/T/ipykernel_26714/127333076.py:27: RuntimeWarning: invalid value encountered in subtract\n",
      "  thetta -= step * func_grad\n",
      "/Users/dmitriy/PycharmProjects/DA/Lab_1/pars_env/lib/python3.11/site-packages/sklearn/utils/_array_api.py:390: RuntimeWarning: invalid value encountered in cast\n",
      "  return x.astype(dtype, copy=copy, casting=casting)\n",
      "/var/folders/42/q4fn0w4d67l174rl7lvqgd5m0000gn/T/ipykernel_26714/3283781066.py:3: RuntimeWarning: overflow encountered in matmul\n",
      "  predicts = ((data_train @ thetta) * target_train <= 0)[..., None]\n",
      "/var/folders/42/q4fn0w4d67l174rl7lvqgd5m0000gn/T/ipykernel_26714/127333076.py:24: RuntimeWarning: overflow encountered in multiply\n",
      "  func_grad += l2_vect * thetta + l1_vect * np.sign(thetta)\n",
      "/var/folders/42/q4fn0w4d67l174rl7lvqgd5m0000gn/T/ipykernel_26714/3283781066.py:3: RuntimeWarning: invalid value encountered in matmul\n",
      "  predicts = ((data_train @ thetta) * target_train <= 0)[..., None]\n",
      "/var/folders/42/q4fn0w4d67l174rl7lvqgd5m0000gn/T/ipykernel_26714/127333076.py:27: RuntimeWarning: invalid value encountered in subtract\n",
      "  thetta -= step * func_grad\n",
      "/Users/dmitriy/PycharmProjects/DA/Lab_1/pars_env/lib/python3.11/site-packages/sklearn/utils/_array_api.py:390: RuntimeWarning: invalid value encountered in cast\n",
      "  return x.astype(dtype, copy=copy, casting=casting)\n",
      "/var/folders/42/q4fn0w4d67l174rl7lvqgd5m0000gn/T/ipykernel_26714/3940148535.py:4: RuntimeWarning: overflow encountered in exp\n",
      "  return np.sum((np.exp(-predicts) / (1 + np.exp(-predicts)))[..., None] * func_args, axis=0)\n",
      "/var/folders/42/q4fn0w4d67l174rl7lvqgd5m0000gn/T/ipykernel_26714/3940148535.py:4: RuntimeWarning: invalid value encountered in divide\n",
      "  return np.sum((np.exp(-predicts) / (1 + np.exp(-predicts)))[..., None] * func_args, axis=0)\n",
      "/Users/dmitriy/PycharmProjects/DA/Lab_1/pars_env/lib/python3.11/site-packages/sklearn/utils/_array_api.py:390: RuntimeWarning: invalid value encountered in cast\n",
      "  return x.astype(dtype, copy=copy, casting=casting)\n",
      "/var/folders/42/q4fn0w4d67l174rl7lvqgd5m0000gn/T/ipykernel_26714/3940148535.py:4: RuntimeWarning: overflow encountered in exp\n",
      "  return np.sum((np.exp(-predicts) / (1 + np.exp(-predicts)))[..., None] * func_args, axis=0)\n",
      "/var/folders/42/q4fn0w4d67l174rl7lvqgd5m0000gn/T/ipykernel_26714/3940148535.py:4: RuntimeWarning: invalid value encountered in divide\n",
      "  return np.sum((np.exp(-predicts) / (1 + np.exp(-predicts)))[..., None] * func_args, axis=0)\n",
      "/Users/dmitriy/PycharmProjects/DA/Lab_1/pars_env/lib/python3.11/site-packages/sklearn/utils/_array_api.py:390: RuntimeWarning: invalid value encountered in cast\n",
      "  return x.astype(dtype, copy=copy, casting=casting)\n",
      "/var/folders/42/q4fn0w4d67l174rl7lvqgd5m0000gn/T/ipykernel_26714/3940148535.py:4: RuntimeWarning: overflow encountered in exp\n",
      "  return np.sum((np.exp(-predicts) / (1 + np.exp(-predicts)))[..., None] * func_args, axis=0)\n",
      "/var/folders/42/q4fn0w4d67l174rl7lvqgd5m0000gn/T/ipykernel_26714/3940148535.py:4: RuntimeWarning: invalid value encountered in divide\n",
      "  return np.sum((np.exp(-predicts) / (1 + np.exp(-predicts)))[..., None] * func_args, axis=0)\n",
      "/Users/dmitriy/PycharmProjects/DA/Lab_1/pars_env/lib/python3.11/site-packages/sklearn/utils/_array_api.py:390: RuntimeWarning: invalid value encountered in cast\n",
      "  return x.astype(dtype, copy=copy, casting=casting)\n",
      "/var/folders/42/q4fn0w4d67l174rl7lvqgd5m0000gn/T/ipykernel_26714/3940148535.py:4: RuntimeWarning: overflow encountered in exp\n",
      "  return np.sum((np.exp(-predicts) / (1 + np.exp(-predicts)))[..., None] * func_args, axis=0)\n",
      "/var/folders/42/q4fn0w4d67l174rl7lvqgd5m0000gn/T/ipykernel_26714/3940148535.py:4: RuntimeWarning: invalid value encountered in divide\n",
      "  return np.sum((np.exp(-predicts) / (1 + np.exp(-predicts)))[..., None] * func_args, axis=0)\n",
      "/Users/dmitriy/PycharmProjects/DA/Lab_1/pars_env/lib/python3.11/site-packages/sklearn/utils/_array_api.py:390: RuntimeWarning: invalid value encountered in cast\n",
      "  return x.astype(dtype, copy=copy, casting=casting)\n",
      "/var/folders/42/q4fn0w4d67l174rl7lvqgd5m0000gn/T/ipykernel_26714/3940148535.py:4: RuntimeWarning: overflow encountered in exp\n",
      "  return np.sum((np.exp(-predicts) / (1 + np.exp(-predicts)))[..., None] * func_args, axis=0)\n",
      "/var/folders/42/q4fn0w4d67l174rl7lvqgd5m0000gn/T/ipykernel_26714/3940148535.py:4: RuntimeWarning: invalid value encountered in divide\n",
      "  return np.sum((np.exp(-predicts) / (1 + np.exp(-predicts)))[..., None] * func_args, axis=0)\n",
      "/Users/dmitriy/PycharmProjects/DA/Lab_1/pars_env/lib/python3.11/site-packages/sklearn/utils/_array_api.py:390: RuntimeWarning: invalid value encountered in cast\n",
      "  return x.astype(dtype, copy=copy, casting=casting)\n",
      "/var/folders/42/q4fn0w4d67l174rl7lvqgd5m0000gn/T/ipykernel_26714/3940148535.py:4: RuntimeWarning: overflow encountered in exp\n",
      "  return np.sum((np.exp(-predicts) / (1 + np.exp(-predicts)))[..., None] * func_args, axis=0)\n",
      "/var/folders/42/q4fn0w4d67l174rl7lvqgd5m0000gn/T/ipykernel_26714/3940148535.py:4: RuntimeWarning: invalid value encountered in divide\n",
      "  return np.sum((np.exp(-predicts) / (1 + np.exp(-predicts)))[..., None] * func_args, axis=0)\n",
      "/Users/dmitriy/PycharmProjects/DA/Lab_1/pars_env/lib/python3.11/site-packages/sklearn/utils/_array_api.py:390: RuntimeWarning: invalid value encountered in cast\n",
      "  return x.astype(dtype, copy=copy, casting=casting)\n",
      "/var/folders/42/q4fn0w4d67l174rl7lvqgd5m0000gn/T/ipykernel_26714/3940148535.py:4: RuntimeWarning: overflow encountered in exp\n",
      "  return np.sum((np.exp(-predicts) / (1 + np.exp(-predicts)))[..., None] * func_args, axis=0)\n",
      "/var/folders/42/q4fn0w4d67l174rl7lvqgd5m0000gn/T/ipykernel_26714/3940148535.py:4: RuntimeWarning: invalid value encountered in divide\n",
      "  return np.sum((np.exp(-predicts) / (1 + np.exp(-predicts)))[..., None] * func_args, axis=0)\n",
      "/Users/dmitriy/PycharmProjects/DA/Lab_1/pars_env/lib/python3.11/site-packages/sklearn/utils/_array_api.py:390: RuntimeWarning: invalid value encountered in cast\n",
      "  return x.astype(dtype, copy=copy, casting=casting)\n",
      "/var/folders/42/q4fn0w4d67l174rl7lvqgd5m0000gn/T/ipykernel_26714/3940148535.py:4: RuntimeWarning: overflow encountered in exp\n",
      "  return np.sum((np.exp(-predicts) / (1 + np.exp(-predicts)))[..., None] * func_args, axis=0)\n",
      "/var/folders/42/q4fn0w4d67l174rl7lvqgd5m0000gn/T/ipykernel_26714/3940148535.py:4: RuntimeWarning: invalid value encountered in divide\n",
      "  return np.sum((np.exp(-predicts) / (1 + np.exp(-predicts)))[..., None] * func_args, axis=0)\n",
      "/Users/dmitriy/PycharmProjects/DA/Lab_1/pars_env/lib/python3.11/site-packages/sklearn/utils/_array_api.py:390: RuntimeWarning: invalid value encountered in cast\n",
      "  return x.astype(dtype, copy=copy, casting=casting)\n",
      "/var/folders/42/q4fn0w4d67l174rl7lvqgd5m0000gn/T/ipykernel_26714/3940148535.py:4: RuntimeWarning: overflow encountered in exp\n",
      "  return np.sum((np.exp(-predicts) / (1 + np.exp(-predicts)))[..., None] * func_args, axis=0)\n",
      "/var/folders/42/q4fn0w4d67l174rl7lvqgd5m0000gn/T/ipykernel_26714/3940148535.py:4: RuntimeWarning: invalid value encountered in divide\n",
      "  return np.sum((np.exp(-predicts) / (1 + np.exp(-predicts)))[..., None] * func_args, axis=0)\n",
      "/Users/dmitriy/PycharmProjects/DA/Lab_1/pars_env/lib/python3.11/site-packages/sklearn/utils/_array_api.py:390: RuntimeWarning: invalid value encountered in cast\n",
      "  return x.astype(dtype, copy=copy, casting=casting)\n",
      "/var/folders/42/q4fn0w4d67l174rl7lvqgd5m0000gn/T/ipykernel_26714/3940148535.py:4: RuntimeWarning: overflow encountered in exp\n",
      "  return np.sum((np.exp(-predicts) / (1 + np.exp(-predicts)))[..., None] * func_args, axis=0)\n",
      "/var/folders/42/q4fn0w4d67l174rl7lvqgd5m0000gn/T/ipykernel_26714/3940148535.py:4: RuntimeWarning: invalid value encountered in divide\n",
      "  return np.sum((np.exp(-predicts) / (1 + np.exp(-predicts)))[..., None] * func_args, axis=0)\n",
      "/Users/dmitriy/PycharmProjects/DA/Lab_1/pars_env/lib/python3.11/site-packages/sklearn/utils/_array_api.py:390: RuntimeWarning: invalid value encountered in cast\n",
      "  return x.astype(dtype, copy=copy, casting=casting)\n",
      "/var/folders/42/q4fn0w4d67l174rl7lvqgd5m0000gn/T/ipykernel_26714/3940148535.py:4: RuntimeWarning: overflow encountered in exp\n",
      "  return np.sum((np.exp(-predicts) / (1 + np.exp(-predicts)))[..., None] * func_args, axis=0)\n",
      "/var/folders/42/q4fn0w4d67l174rl7lvqgd5m0000gn/T/ipykernel_26714/3940148535.py:4: RuntimeWarning: invalid value encountered in divide\n",
      "  return np.sum((np.exp(-predicts) / (1 + np.exp(-predicts)))[..., None] * func_args, axis=0)\n",
      "/Users/dmitriy/PycharmProjects/DA/Lab_1/pars_env/lib/python3.11/site-packages/sklearn/utils/_array_api.py:390: RuntimeWarning: invalid value encountered in cast\n",
      "  return x.astype(dtype, copy=copy, casting=casting)\n",
      "/var/folders/42/q4fn0w4d67l174rl7lvqgd5m0000gn/T/ipykernel_26714/3940148535.py:4: RuntimeWarning: overflow encountered in exp\n",
      "  return np.sum((np.exp(-predicts) / (1 + np.exp(-predicts)))[..., None] * func_args, axis=0)\n",
      "/var/folders/42/q4fn0w4d67l174rl7lvqgd5m0000gn/T/ipykernel_26714/3940148535.py:4: RuntimeWarning: invalid value encountered in divide\n",
      "  return np.sum((np.exp(-predicts) / (1 + np.exp(-predicts)))[..., None] * func_args, axis=0)\n",
      "/Users/dmitriy/PycharmProjects/DA/Lab_1/pars_env/lib/python3.11/site-packages/sklearn/utils/_array_api.py:390: RuntimeWarning: invalid value encountered in cast\n",
      "  return x.astype(dtype, copy=copy, casting=casting)\n",
      "/var/folders/42/q4fn0w4d67l174rl7lvqgd5m0000gn/T/ipykernel_26714/3940148535.py:4: RuntimeWarning: overflow encountered in exp\n",
      "  return np.sum((np.exp(-predicts) / (1 + np.exp(-predicts)))[..., None] * func_args, axis=0)\n",
      "/var/folders/42/q4fn0w4d67l174rl7lvqgd5m0000gn/T/ipykernel_26714/3940148535.py:4: RuntimeWarning: invalid value encountered in divide\n",
      "  return np.sum((np.exp(-predicts) / (1 + np.exp(-predicts)))[..., None] * func_args, axis=0)\n",
      "/Users/dmitriy/PycharmProjects/DA/Lab_1/pars_env/lib/python3.11/site-packages/sklearn/utils/_array_api.py:390: RuntimeWarning: invalid value encountered in cast\n",
      "  return x.astype(dtype, copy=copy, casting=casting)\n",
      "/var/folders/42/q4fn0w4d67l174rl7lvqgd5m0000gn/T/ipykernel_26714/3940148535.py:4: RuntimeWarning: overflow encountered in exp\n",
      "  return np.sum((np.exp(-predicts) / (1 + np.exp(-predicts)))[..., None] * func_args, axis=0)\n",
      "/var/folders/42/q4fn0w4d67l174rl7lvqgd5m0000gn/T/ipykernel_26714/3940148535.py:4: RuntimeWarning: invalid value encountered in divide\n",
      "  return np.sum((np.exp(-predicts) / (1 + np.exp(-predicts)))[..., None] * func_args, axis=0)\n",
      "/Users/dmitriy/PycharmProjects/DA/Lab_1/pars_env/lib/python3.11/site-packages/sklearn/utils/_array_api.py:390: RuntimeWarning: invalid value encountered in cast\n",
      "  return x.astype(dtype, copy=copy, casting=casting)\n",
      "/var/folders/42/q4fn0w4d67l174rl7lvqgd5m0000gn/T/ipykernel_26714/3940148535.py:4: RuntimeWarning: overflow encountered in exp\n",
      "  return np.sum((np.exp(-predicts) / (1 + np.exp(-predicts)))[..., None] * func_args, axis=0)\n",
      "/var/folders/42/q4fn0w4d67l174rl7lvqgd5m0000gn/T/ipykernel_26714/3940148535.py:4: RuntimeWarning: invalid value encountered in divide\n",
      "  return np.sum((np.exp(-predicts) / (1 + np.exp(-predicts)))[..., None] * func_args, axis=0)\n",
      "/Users/dmitriy/PycharmProjects/DA/Lab_1/pars_env/lib/python3.11/site-packages/sklearn/utils/_array_api.py:390: RuntimeWarning: invalid value encountered in cast\n",
      "  return x.astype(dtype, copy=copy, casting=casting)\n",
      "/var/folders/42/q4fn0w4d67l174rl7lvqgd5m0000gn/T/ipykernel_26714/3940148535.py:4: RuntimeWarning: overflow encountered in exp\n",
      "  return np.sum((np.exp(-predicts) / (1 + np.exp(-predicts)))[..., None] * func_args, axis=0)\n",
      "/var/folders/42/q4fn0w4d67l174rl7lvqgd5m0000gn/T/ipykernel_26714/3940148535.py:4: RuntimeWarning: invalid value encountered in divide\n",
      "  return np.sum((np.exp(-predicts) / (1 + np.exp(-predicts)))[..., None] * func_args, axis=0)\n",
      "/Users/dmitriy/PycharmProjects/DA/Lab_1/pars_env/lib/python3.11/site-packages/sklearn/utils/_array_api.py:390: RuntimeWarning: invalid value encountered in cast\n",
      "  return x.astype(dtype, copy=copy, casting=casting)\n",
      "/var/folders/42/q4fn0w4d67l174rl7lvqgd5m0000gn/T/ipykernel_26714/3940148535.py:4: RuntimeWarning: overflow encountered in exp\n",
      "  return np.sum((np.exp(-predicts) / (1 + np.exp(-predicts)))[..., None] * func_args, axis=0)\n",
      "/var/folders/42/q4fn0w4d67l174rl7lvqgd5m0000gn/T/ipykernel_26714/3940148535.py:4: RuntimeWarning: invalid value encountered in divide\n",
      "  return np.sum((np.exp(-predicts) / (1 + np.exp(-predicts)))[..., None] * func_args, axis=0)\n",
      "/Users/dmitriy/PycharmProjects/DA/Lab_1/pars_env/lib/python3.11/site-packages/sklearn/utils/_array_api.py:390: RuntimeWarning: invalid value encountered in cast\n",
      "  return x.astype(dtype, copy=copy, casting=casting)\n",
      "/var/folders/42/q4fn0w4d67l174rl7lvqgd5m0000gn/T/ipykernel_26714/3940148535.py:4: RuntimeWarning: overflow encountered in exp\n",
      "  return np.sum((np.exp(-predicts) / (1 + np.exp(-predicts)))[..., None] * func_args, axis=0)\n",
      "/var/folders/42/q4fn0w4d67l174rl7lvqgd5m0000gn/T/ipykernel_26714/3940148535.py:4: RuntimeWarning: invalid value encountered in divide\n",
      "  return np.sum((np.exp(-predicts) / (1 + np.exp(-predicts)))[..., None] * func_args, axis=0)\n",
      "/Users/dmitriy/PycharmProjects/DA/Lab_1/pars_env/lib/python3.11/site-packages/sklearn/utils/_array_api.py:390: RuntimeWarning: invalid value encountered in cast\n",
      "  return x.astype(dtype, copy=copy, casting=casting)\n",
      "/var/folders/42/q4fn0w4d67l174rl7lvqgd5m0000gn/T/ipykernel_26714/3940148535.py:4: RuntimeWarning: overflow encountered in exp\n",
      "  return np.sum((np.exp(-predicts) / (1 + np.exp(-predicts)))[..., None] * func_args, axis=0)\n",
      "/var/folders/42/q4fn0w4d67l174rl7lvqgd5m0000gn/T/ipykernel_26714/3940148535.py:4: RuntimeWarning: invalid value encountered in divide\n",
      "  return np.sum((np.exp(-predicts) / (1 + np.exp(-predicts)))[..., None] * func_args, axis=0)\n",
      "/Users/dmitriy/PycharmProjects/DA/Lab_1/pars_env/lib/python3.11/site-packages/sklearn/utils/_array_api.py:390: RuntimeWarning: invalid value encountered in cast\n",
      "  return x.astype(dtype, copy=copy, casting=casting)\n",
      "/var/folders/42/q4fn0w4d67l174rl7lvqgd5m0000gn/T/ipykernel_26714/3940148535.py:4: RuntimeWarning: overflow encountered in exp\n",
      "  return np.sum((np.exp(-predicts) / (1 + np.exp(-predicts)))[..., None] * func_args, axis=0)\n",
      "/var/folders/42/q4fn0w4d67l174rl7lvqgd5m0000gn/T/ipykernel_26714/3940148535.py:4: RuntimeWarning: invalid value encountered in divide\n",
      "  return np.sum((np.exp(-predicts) / (1 + np.exp(-predicts)))[..., None] * func_args, axis=0)\n",
      "/Users/dmitriy/PycharmProjects/DA/Lab_1/pars_env/lib/python3.11/site-packages/sklearn/utils/_array_api.py:390: RuntimeWarning: invalid value encountered in cast\n",
      "  return x.astype(dtype, copy=copy, casting=casting)\n",
      "/var/folders/42/q4fn0w4d67l174rl7lvqgd5m0000gn/T/ipykernel_26714/3940148535.py:4: RuntimeWarning: overflow encountered in exp\n",
      "  return np.sum((np.exp(-predicts) / (1 + np.exp(-predicts)))[..., None] * func_args, axis=0)\n",
      "/var/folders/42/q4fn0w4d67l174rl7lvqgd5m0000gn/T/ipykernel_26714/3940148535.py:4: RuntimeWarning: invalid value encountered in divide\n",
      "  return np.sum((np.exp(-predicts) / (1 + np.exp(-predicts)))[..., None] * func_args, axis=0)\n",
      "/Users/dmitriy/PycharmProjects/DA/Lab_1/pars_env/lib/python3.11/site-packages/sklearn/utils/_array_api.py:390: RuntimeWarning: invalid value encountered in cast\n",
      "  return x.astype(dtype, copy=copy, casting=casting)\n",
      "/var/folders/42/q4fn0w4d67l174rl7lvqgd5m0000gn/T/ipykernel_26714/3940148535.py:4: RuntimeWarning: overflow encountered in exp\n",
      "  return np.sum((np.exp(-predicts) / (1 + np.exp(-predicts)))[..., None] * func_args, axis=0)\n",
      "/var/folders/42/q4fn0w4d67l174rl7lvqgd5m0000gn/T/ipykernel_26714/3940148535.py:4: RuntimeWarning: invalid value encountered in divide\n",
      "  return np.sum((np.exp(-predicts) / (1 + np.exp(-predicts)))[..., None] * func_args, axis=0)\n",
      "/Users/dmitriy/PycharmProjects/DA/Lab_1/pars_env/lib/python3.11/site-packages/sklearn/utils/_array_api.py:390: RuntimeWarning: invalid value encountered in cast\n",
      "  return x.astype(dtype, copy=copy, casting=casting)\n",
      "/var/folders/42/q4fn0w4d67l174rl7lvqgd5m0000gn/T/ipykernel_26714/3940148535.py:4: RuntimeWarning: overflow encountered in exp\n",
      "  return np.sum((np.exp(-predicts) / (1 + np.exp(-predicts)))[..., None] * func_args, axis=0)\n",
      "/var/folders/42/q4fn0w4d67l174rl7lvqgd5m0000gn/T/ipykernel_26714/3940148535.py:4: RuntimeWarning: invalid value encountered in divide\n",
      "  return np.sum((np.exp(-predicts) / (1 + np.exp(-predicts)))[..., None] * func_args, axis=0)\n",
      "/Users/dmitriy/PycharmProjects/DA/Lab_1/pars_env/lib/python3.11/site-packages/sklearn/utils/_array_api.py:390: RuntimeWarning: invalid value encountered in cast\n",
      "  return x.astype(dtype, copy=copy, casting=casting)\n",
      "/var/folders/42/q4fn0w4d67l174rl7lvqgd5m0000gn/T/ipykernel_26714/3940148535.py:4: RuntimeWarning: overflow encountered in exp\n",
      "  return np.sum((np.exp(-predicts) / (1 + np.exp(-predicts)))[..., None] * func_args, axis=0)\n",
      "/var/folders/42/q4fn0w4d67l174rl7lvqgd5m0000gn/T/ipykernel_26714/3940148535.py:4: RuntimeWarning: invalid value encountered in divide\n",
      "  return np.sum((np.exp(-predicts) / (1 + np.exp(-predicts)))[..., None] * func_args, axis=0)\n",
      "/Users/dmitriy/PycharmProjects/DA/Lab_1/pars_env/lib/python3.11/site-packages/sklearn/utils/_array_api.py:390: RuntimeWarning: invalid value encountered in cast\n",
      "  return x.astype(dtype, copy=copy, casting=casting)\n",
      "/var/folders/42/q4fn0w4d67l174rl7lvqgd5m0000gn/T/ipykernel_26714/3940148535.py:4: RuntimeWarning: overflow encountered in exp\n",
      "  return np.sum((np.exp(-predicts) / (1 + np.exp(-predicts)))[..., None] * func_args, axis=0)\n",
      "/var/folders/42/q4fn0w4d67l174rl7lvqgd5m0000gn/T/ipykernel_26714/3940148535.py:4: RuntimeWarning: invalid value encountered in divide\n",
      "  return np.sum((np.exp(-predicts) / (1 + np.exp(-predicts)))[..., None] * func_args, axis=0)\n",
      "/Users/dmitriy/PycharmProjects/DA/Lab_1/pars_env/lib/python3.11/site-packages/sklearn/utils/_array_api.py:390: RuntimeWarning: invalid value encountered in cast\n",
      "  return x.astype(dtype, copy=copy, casting=casting)\n",
      "/var/folders/42/q4fn0w4d67l174rl7lvqgd5m0000gn/T/ipykernel_26714/3940148535.py:4: RuntimeWarning: overflow encountered in exp\n",
      "  return np.sum((np.exp(-predicts) / (1 + np.exp(-predicts)))[..., None] * func_args, axis=0)\n",
      "/var/folders/42/q4fn0w4d67l174rl7lvqgd5m0000gn/T/ipykernel_26714/3940148535.py:4: RuntimeWarning: invalid value encountered in divide\n",
      "  return np.sum((np.exp(-predicts) / (1 + np.exp(-predicts)))[..., None] * func_args, axis=0)\n",
      "/Users/dmitriy/PycharmProjects/DA/Lab_1/pars_env/lib/python3.11/site-packages/sklearn/utils/_array_api.py:390: RuntimeWarning: invalid value encountered in cast\n",
      "  return x.astype(dtype, copy=copy, casting=casting)\n",
      "/var/folders/42/q4fn0w4d67l174rl7lvqgd5m0000gn/T/ipykernel_26714/3940148535.py:4: RuntimeWarning: overflow encountered in exp\n",
      "  return np.sum((np.exp(-predicts) / (1 + np.exp(-predicts)))[..., None] * func_args, axis=0)\n",
      "/var/folders/42/q4fn0w4d67l174rl7lvqgd5m0000gn/T/ipykernel_26714/3940148535.py:4: RuntimeWarning: invalid value encountered in divide\n",
      "  return np.sum((np.exp(-predicts) / (1 + np.exp(-predicts)))[..., None] * func_args, axis=0)\n",
      "/Users/dmitriy/PycharmProjects/DA/Lab_1/pars_env/lib/python3.11/site-packages/sklearn/utils/_array_api.py:390: RuntimeWarning: invalid value encountered in cast\n",
      "  return x.astype(dtype, copy=copy, casting=casting)\n",
      "/var/folders/42/q4fn0w4d67l174rl7lvqgd5m0000gn/T/ipykernel_26714/3940148535.py:4: RuntimeWarning: overflow encountered in exp\n",
      "  return np.sum((np.exp(-predicts) / (1 + np.exp(-predicts)))[..., None] * func_args, axis=0)\n",
      "/var/folders/42/q4fn0w4d67l174rl7lvqgd5m0000gn/T/ipykernel_26714/3940148535.py:4: RuntimeWarning: invalid value encountered in divide\n",
      "  return np.sum((np.exp(-predicts) / (1 + np.exp(-predicts)))[..., None] * func_args, axis=0)\n",
      "/Users/dmitriy/PycharmProjects/DA/Lab_1/pars_env/lib/python3.11/site-packages/sklearn/utils/_array_api.py:390: RuntimeWarning: invalid value encountered in cast\n",
      "  return x.astype(dtype, copy=copy, casting=casting)\n",
      "/var/folders/42/q4fn0w4d67l174rl7lvqgd5m0000gn/T/ipykernel_26714/3940148535.py:4: RuntimeWarning: overflow encountered in exp\n",
      "  return np.sum((np.exp(-predicts) / (1 + np.exp(-predicts)))[..., None] * func_args, axis=0)\n",
      "/var/folders/42/q4fn0w4d67l174rl7lvqgd5m0000gn/T/ipykernel_26714/3940148535.py:4: RuntimeWarning: invalid value encountered in divide\n",
      "  return np.sum((np.exp(-predicts) / (1 + np.exp(-predicts)))[..., None] * func_args, axis=0)\n",
      "/Users/dmitriy/PycharmProjects/DA/Lab_1/pars_env/lib/python3.11/site-packages/sklearn/utils/_array_api.py:390: RuntimeWarning: invalid value encountered in cast\n",
      "  return x.astype(dtype, copy=copy, casting=casting)\n",
      "/var/folders/42/q4fn0w4d67l174rl7lvqgd5m0000gn/T/ipykernel_26714/3940148535.py:4: RuntimeWarning: overflow encountered in exp\n",
      "  return np.sum((np.exp(-predicts) / (1 + np.exp(-predicts)))[..., None] * func_args, axis=0)\n",
      "/var/folders/42/q4fn0w4d67l174rl7lvqgd5m0000gn/T/ipykernel_26714/3940148535.py:4: RuntimeWarning: invalid value encountered in divide\n",
      "  return np.sum((np.exp(-predicts) / (1 + np.exp(-predicts)))[..., None] * func_args, axis=0)\n",
      "/Users/dmitriy/PycharmProjects/DA/Lab_1/pars_env/lib/python3.11/site-packages/sklearn/utils/_array_api.py:390: RuntimeWarning: invalid value encountered in cast\n",
      "  return x.astype(dtype, copy=copy, casting=casting)\n",
      "/var/folders/42/q4fn0w4d67l174rl7lvqgd5m0000gn/T/ipykernel_26714/3940148535.py:4: RuntimeWarning: overflow encountered in exp\n",
      "  return np.sum((np.exp(-predicts) / (1 + np.exp(-predicts)))[..., None] * func_args, axis=0)\n",
      "/var/folders/42/q4fn0w4d67l174rl7lvqgd5m0000gn/T/ipykernel_26714/3940148535.py:4: RuntimeWarning: invalid value encountered in divide\n",
      "  return np.sum((np.exp(-predicts) / (1 + np.exp(-predicts)))[..., None] * func_args, axis=0)\n",
      "/Users/dmitriy/PycharmProjects/DA/Lab_1/pars_env/lib/python3.11/site-packages/sklearn/utils/_array_api.py:390: RuntimeWarning: invalid value encountered in cast\n",
      "  return x.astype(dtype, copy=copy, casting=casting)\n",
      "/var/folders/42/q4fn0w4d67l174rl7lvqgd5m0000gn/T/ipykernel_26714/3940148535.py:4: RuntimeWarning: overflow encountered in exp\n",
      "  return np.sum((np.exp(-predicts) / (1 + np.exp(-predicts)))[..., None] * func_args, axis=0)\n",
      "/var/folders/42/q4fn0w4d67l174rl7lvqgd5m0000gn/T/ipykernel_26714/3940148535.py:4: RuntimeWarning: invalid value encountered in divide\n",
      "  return np.sum((np.exp(-predicts) / (1 + np.exp(-predicts)))[..., None] * func_args, axis=0)\n",
      "/Users/dmitriy/PycharmProjects/DA/Lab_1/pars_env/lib/python3.11/site-packages/sklearn/utils/_array_api.py:390: RuntimeWarning: invalid value encountered in cast\n",
      "  return x.astype(dtype, copy=copy, casting=casting)\n",
      "/var/folders/42/q4fn0w4d67l174rl7lvqgd5m0000gn/T/ipykernel_26714/3940148535.py:4: RuntimeWarning: overflow encountered in exp\n",
      "  return np.sum((np.exp(-predicts) / (1 + np.exp(-predicts)))[..., None] * func_args, axis=0)\n",
      "/var/folders/42/q4fn0w4d67l174rl7lvqgd5m0000gn/T/ipykernel_26714/3940148535.py:4: RuntimeWarning: invalid value encountered in divide\n",
      "  return np.sum((np.exp(-predicts) / (1 + np.exp(-predicts)))[..., None] * func_args, axis=0)\n",
      "/Users/dmitriy/PycharmProjects/DA/Lab_1/pars_env/lib/python3.11/site-packages/sklearn/utils/_array_api.py:390: RuntimeWarning: invalid value encountered in cast\n",
      "  return x.astype(dtype, copy=copy, casting=casting)\n",
      "/var/folders/42/q4fn0w4d67l174rl7lvqgd5m0000gn/T/ipykernel_26714/3940148535.py:4: RuntimeWarning: overflow encountered in exp\n",
      "  return np.sum((np.exp(-predicts) / (1 + np.exp(-predicts)))[..., None] * func_args, axis=0)\n",
      "/var/folders/42/q4fn0w4d67l174rl7lvqgd5m0000gn/T/ipykernel_26714/3940148535.py:4: RuntimeWarning: invalid value encountered in divide\n",
      "  return np.sum((np.exp(-predicts) / (1 + np.exp(-predicts)))[..., None] * func_args, axis=0)\n",
      "/Users/dmitriy/PycharmProjects/DA/Lab_1/pars_env/lib/python3.11/site-packages/sklearn/utils/_array_api.py:390: RuntimeWarning: invalid value encountered in cast\n",
      "  return x.astype(dtype, copy=copy, casting=casting)\n",
      "/var/folders/42/q4fn0w4d67l174rl7lvqgd5m0000gn/T/ipykernel_26714/3940148535.py:4: RuntimeWarning: overflow encountered in exp\n",
      "  return np.sum((np.exp(-predicts) / (1 + np.exp(-predicts)))[..., None] * func_args, axis=0)\n",
      "/var/folders/42/q4fn0w4d67l174rl7lvqgd5m0000gn/T/ipykernel_26714/3940148535.py:4: RuntimeWarning: invalid value encountered in divide\n",
      "  return np.sum((np.exp(-predicts) / (1 + np.exp(-predicts)))[..., None] * func_args, axis=0)\n",
      "/Users/dmitriy/PycharmProjects/DA/Lab_1/pars_env/lib/python3.11/site-packages/sklearn/utils/_array_api.py:390: RuntimeWarning: invalid value encountered in cast\n",
      "  return x.astype(dtype, copy=copy, casting=casting)\n",
      "/var/folders/42/q4fn0w4d67l174rl7lvqgd5m0000gn/T/ipykernel_26714/3940148535.py:4: RuntimeWarning: overflow encountered in exp\n",
      "  return np.sum((np.exp(-predicts) / (1 + np.exp(-predicts)))[..., None] * func_args, axis=0)\n",
      "/var/folders/42/q4fn0w4d67l174rl7lvqgd5m0000gn/T/ipykernel_26714/3940148535.py:4: RuntimeWarning: invalid value encountered in divide\n",
      "  return np.sum((np.exp(-predicts) / (1 + np.exp(-predicts)))[..., None] * func_args, axis=0)\n",
      "/Users/dmitriy/PycharmProjects/DA/Lab_1/pars_env/lib/python3.11/site-packages/sklearn/utils/_array_api.py:390: RuntimeWarning: invalid value encountered in cast\n",
      "  return x.astype(dtype, copy=copy, casting=casting)\n",
      "/var/folders/42/q4fn0w4d67l174rl7lvqgd5m0000gn/T/ipykernel_26714/3466372032.py:4: RuntimeWarning: overflow encountered in exp\n",
      "  return np.sum(np.exp(-predicts)[..., None] * func_args, axis=0)\n",
      "/Users/dmitriy/PycharmProjects/DA/Lab_1/pars_env/lib/python3.11/site-packages/numpy/_core/fromnumeric.py:86: RuntimeWarning: invalid value encountered in reduce\n",
      "  return ufunc.reduce(obj, axis, dtype, out, **passkwargs)\n",
      "/Users/dmitriy/PycharmProjects/DA/Lab_1/pars_env/lib/python3.11/site-packages/sklearn/utils/_array_api.py:390: RuntimeWarning: invalid value encountered in cast\n",
      "  return x.astype(dtype, copy=copy, casting=casting)\n",
      "/var/folders/42/q4fn0w4d67l174rl7lvqgd5m0000gn/T/ipykernel_26714/3466372032.py:4: RuntimeWarning: overflow encountered in exp\n",
      "  return np.sum(np.exp(-predicts)[..., None] * func_args, axis=0)\n",
      "/Users/dmitriy/PycharmProjects/DA/Lab_1/pars_env/lib/python3.11/site-packages/numpy/_core/fromnumeric.py:86: RuntimeWarning: invalid value encountered in reduce\n",
      "  return ufunc.reduce(obj, axis, dtype, out, **passkwargs)\n",
      "/Users/dmitriy/PycharmProjects/DA/Lab_1/pars_env/lib/python3.11/site-packages/sklearn/utils/_array_api.py:390: RuntimeWarning: invalid value encountered in cast\n",
      "  return x.astype(dtype, copy=copy, casting=casting)\n",
      "/var/folders/42/q4fn0w4d67l174rl7lvqgd5m0000gn/T/ipykernel_26714/3466372032.py:4: RuntimeWarning: overflow encountered in exp\n",
      "  return np.sum(np.exp(-predicts)[..., None] * func_args, axis=0)\n",
      "/Users/dmitriy/PycharmProjects/DA/Lab_1/pars_env/lib/python3.11/site-packages/numpy/_core/fromnumeric.py:86: RuntimeWarning: invalid value encountered in reduce\n",
      "  return ufunc.reduce(obj, axis, dtype, out, **passkwargs)\n",
      "/Users/dmitriy/PycharmProjects/DA/Lab_1/pars_env/lib/python3.11/site-packages/sklearn/utils/_array_api.py:390: RuntimeWarning: invalid value encountered in cast\n",
      "  return x.astype(dtype, copy=copy, casting=casting)\n",
      "/var/folders/42/q4fn0w4d67l174rl7lvqgd5m0000gn/T/ipykernel_26714/3466372032.py:4: RuntimeWarning: overflow encountered in exp\n",
      "  return np.sum(np.exp(-predicts)[..., None] * func_args, axis=0)\n",
      "/Users/dmitriy/PycharmProjects/DA/Lab_1/pars_env/lib/python3.11/site-packages/numpy/_core/fromnumeric.py:86: RuntimeWarning: invalid value encountered in reduce\n",
      "  return ufunc.reduce(obj, axis, dtype, out, **passkwargs)\n",
      "/Users/dmitriy/PycharmProjects/DA/Lab_1/pars_env/lib/python3.11/site-packages/sklearn/utils/_array_api.py:390: RuntimeWarning: invalid value encountered in cast\n",
      "  return x.astype(dtype, copy=copy, casting=casting)\n",
      "/var/folders/42/q4fn0w4d67l174rl7lvqgd5m0000gn/T/ipykernel_26714/3466372032.py:4: RuntimeWarning: overflow encountered in exp\n",
      "  return np.sum(np.exp(-predicts)[..., None] * func_args, axis=0)\n",
      "/Users/dmitriy/PycharmProjects/DA/Lab_1/pars_env/lib/python3.11/site-packages/numpy/_core/fromnumeric.py:86: RuntimeWarning: invalid value encountered in reduce\n",
      "  return ufunc.reduce(obj, axis, dtype, out, **passkwargs)\n",
      "/Users/dmitriy/PycharmProjects/DA/Lab_1/pars_env/lib/python3.11/site-packages/sklearn/utils/_array_api.py:390: RuntimeWarning: invalid value encountered in cast\n",
      "  return x.astype(dtype, copy=copy, casting=casting)\n",
      "/var/folders/42/q4fn0w4d67l174rl7lvqgd5m0000gn/T/ipykernel_26714/3466372032.py:4: RuntimeWarning: overflow encountered in exp\n",
      "  return np.sum(np.exp(-predicts)[..., None] * func_args, axis=0)\n",
      "/Users/dmitriy/PycharmProjects/DA/Lab_1/pars_env/lib/python3.11/site-packages/numpy/_core/fromnumeric.py:86: RuntimeWarning: invalid value encountered in reduce\n",
      "  return ufunc.reduce(obj, axis, dtype, out, **passkwargs)\n",
      "/Users/dmitriy/PycharmProjects/DA/Lab_1/pars_env/lib/python3.11/site-packages/sklearn/utils/_array_api.py:390: RuntimeWarning: invalid value encountered in cast\n",
      "  return x.astype(dtype, copy=copy, casting=casting)\n",
      "/var/folders/42/q4fn0w4d67l174rl7lvqgd5m0000gn/T/ipykernel_26714/3466372032.py:4: RuntimeWarning: overflow encountered in exp\n",
      "  return np.sum(np.exp(-predicts)[..., None] * func_args, axis=0)\n",
      "/Users/dmitriy/PycharmProjects/DA/Lab_1/pars_env/lib/python3.11/site-packages/numpy/_core/fromnumeric.py:86: RuntimeWarning: invalid value encountered in reduce\n",
      "  return ufunc.reduce(obj, axis, dtype, out, **passkwargs)\n",
      "/Users/dmitriy/PycharmProjects/DA/Lab_1/pars_env/lib/python3.11/site-packages/sklearn/utils/_array_api.py:390: RuntimeWarning: invalid value encountered in cast\n",
      "  return x.astype(dtype, copy=copy, casting=casting)\n",
      "/var/folders/42/q4fn0w4d67l174rl7lvqgd5m0000gn/T/ipykernel_26714/3466372032.py:4: RuntimeWarning: overflow encountered in exp\n",
      "  return np.sum(np.exp(-predicts)[..., None] * func_args, axis=0)\n",
      "/Users/dmitriy/PycharmProjects/DA/Lab_1/pars_env/lib/python3.11/site-packages/numpy/_core/fromnumeric.py:86: RuntimeWarning: invalid value encountered in reduce\n",
      "  return ufunc.reduce(obj, axis, dtype, out, **passkwargs)\n",
      "/Users/dmitriy/PycharmProjects/DA/Lab_1/pars_env/lib/python3.11/site-packages/sklearn/utils/_array_api.py:390: RuntimeWarning: invalid value encountered in cast\n",
      "  return x.astype(dtype, copy=copy, casting=casting)\n",
      "/var/folders/42/q4fn0w4d67l174rl7lvqgd5m0000gn/T/ipykernel_26714/3466372032.py:4: RuntimeWarning: overflow encountered in exp\n",
      "  return np.sum(np.exp(-predicts)[..., None] * func_args, axis=0)\n",
      "/Users/dmitriy/PycharmProjects/DA/Lab_1/pars_env/lib/python3.11/site-packages/numpy/_core/fromnumeric.py:86: RuntimeWarning: invalid value encountered in reduce\n",
      "  return ufunc.reduce(obj, axis, dtype, out, **passkwargs)\n",
      "/Users/dmitriy/PycharmProjects/DA/Lab_1/pars_env/lib/python3.11/site-packages/sklearn/utils/_array_api.py:390: RuntimeWarning: invalid value encountered in cast\n",
      "  return x.astype(dtype, copy=copy, casting=casting)\n",
      "/var/folders/42/q4fn0w4d67l174rl7lvqgd5m0000gn/T/ipykernel_26714/3466372032.py:4: RuntimeWarning: overflow encountered in exp\n",
      "  return np.sum(np.exp(-predicts)[..., None] * func_args, axis=0)\n",
      "/Users/dmitriy/PycharmProjects/DA/Lab_1/pars_env/lib/python3.11/site-packages/numpy/_core/fromnumeric.py:86: RuntimeWarning: invalid value encountered in reduce\n",
      "  return ufunc.reduce(obj, axis, dtype, out, **passkwargs)\n",
      "/Users/dmitriy/PycharmProjects/DA/Lab_1/pars_env/lib/python3.11/site-packages/sklearn/utils/_array_api.py:390: RuntimeWarning: invalid value encountered in cast\n",
      "  return x.astype(dtype, copy=copy, casting=casting)\n",
      "/var/folders/42/q4fn0w4d67l174rl7lvqgd5m0000gn/T/ipykernel_26714/3466372032.py:4: RuntimeWarning: overflow encountered in exp\n",
      "  return np.sum(np.exp(-predicts)[..., None] * func_args, axis=0)\n",
      "/Users/dmitriy/PycharmProjects/DA/Lab_1/pars_env/lib/python3.11/site-packages/numpy/_core/fromnumeric.py:86: RuntimeWarning: invalid value encountered in reduce\n",
      "  return ufunc.reduce(obj, axis, dtype, out, **passkwargs)\n",
      "/Users/dmitriy/PycharmProjects/DA/Lab_1/pars_env/lib/python3.11/site-packages/sklearn/utils/_array_api.py:390: RuntimeWarning: invalid value encountered in cast\n",
      "  return x.astype(dtype, copy=copy, casting=casting)\n",
      "/var/folders/42/q4fn0w4d67l174rl7lvqgd5m0000gn/T/ipykernel_26714/3466372032.py:4: RuntimeWarning: overflow encountered in exp\n",
      "  return np.sum(np.exp(-predicts)[..., None] * func_args, axis=0)\n",
      "/Users/dmitriy/PycharmProjects/DA/Lab_1/pars_env/lib/python3.11/site-packages/numpy/_core/fromnumeric.py:86: RuntimeWarning: invalid value encountered in reduce\n",
      "  return ufunc.reduce(obj, axis, dtype, out, **passkwargs)\n",
      "/Users/dmitriy/PycharmProjects/DA/Lab_1/pars_env/lib/python3.11/site-packages/sklearn/utils/_array_api.py:390: RuntimeWarning: invalid value encountered in cast\n",
      "  return x.astype(dtype, copy=copy, casting=casting)\n",
      "/var/folders/42/q4fn0w4d67l174rl7lvqgd5m0000gn/T/ipykernel_26714/3466372032.py:4: RuntimeWarning: overflow encountered in exp\n",
      "  return np.sum(np.exp(-predicts)[..., None] * func_args, axis=0)\n",
      "/Users/dmitriy/PycharmProjects/DA/Lab_1/pars_env/lib/python3.11/site-packages/numpy/_core/fromnumeric.py:86: RuntimeWarning: invalid value encountered in reduce\n",
      "  return ufunc.reduce(obj, axis, dtype, out, **passkwargs)\n",
      "/Users/dmitriy/PycharmProjects/DA/Lab_1/pars_env/lib/python3.11/site-packages/sklearn/utils/_array_api.py:390: RuntimeWarning: invalid value encountered in cast\n",
      "  return x.astype(dtype, copy=copy, casting=casting)\n",
      "/var/folders/42/q4fn0w4d67l174rl7lvqgd5m0000gn/T/ipykernel_26714/3466372032.py:4: RuntimeWarning: overflow encountered in exp\n",
      "  return np.sum(np.exp(-predicts)[..., None] * func_args, axis=0)\n",
      "/Users/dmitriy/PycharmProjects/DA/Lab_1/pars_env/lib/python3.11/site-packages/numpy/_core/fromnumeric.py:86: RuntimeWarning: invalid value encountered in reduce\n",
      "  return ufunc.reduce(obj, axis, dtype, out, **passkwargs)\n",
      "/Users/dmitriy/PycharmProjects/DA/Lab_1/pars_env/lib/python3.11/site-packages/sklearn/utils/_array_api.py:390: RuntimeWarning: invalid value encountered in cast\n",
      "  return x.astype(dtype, copy=copy, casting=casting)\n",
      "/var/folders/42/q4fn0w4d67l174rl7lvqgd5m0000gn/T/ipykernel_26714/3466372032.py:4: RuntimeWarning: overflow encountered in exp\n",
      "  return np.sum(np.exp(-predicts)[..., None] * func_args, axis=0)\n",
      "/Users/dmitriy/PycharmProjects/DA/Lab_1/pars_env/lib/python3.11/site-packages/numpy/_core/fromnumeric.py:86: RuntimeWarning: invalid value encountered in reduce\n",
      "  return ufunc.reduce(obj, axis, dtype, out, **passkwargs)\n",
      "/Users/dmitriy/PycharmProjects/DA/Lab_1/pars_env/lib/python3.11/site-packages/sklearn/utils/_array_api.py:390: RuntimeWarning: invalid value encountered in cast\n",
      "  return x.astype(dtype, copy=copy, casting=casting)\n",
      "/var/folders/42/q4fn0w4d67l174rl7lvqgd5m0000gn/T/ipykernel_26714/3466372032.py:4: RuntimeWarning: overflow encountered in exp\n",
      "  return np.sum(np.exp(-predicts)[..., None] * func_args, axis=0)\n",
      "/Users/dmitriy/PycharmProjects/DA/Lab_1/pars_env/lib/python3.11/site-packages/numpy/_core/fromnumeric.py:86: RuntimeWarning: invalid value encountered in reduce\n",
      "  return ufunc.reduce(obj, axis, dtype, out, **passkwargs)\n",
      "/Users/dmitriy/PycharmProjects/DA/Lab_1/pars_env/lib/python3.11/site-packages/sklearn/utils/_array_api.py:390: RuntimeWarning: invalid value encountered in cast\n",
      "  return x.astype(dtype, copy=copy, casting=casting)\n",
      "/var/folders/42/q4fn0w4d67l174rl7lvqgd5m0000gn/T/ipykernel_26714/3466372032.py:4: RuntimeWarning: overflow encountered in exp\n",
      "  return np.sum(np.exp(-predicts)[..., None] * func_args, axis=0)\n",
      "/Users/dmitriy/PycharmProjects/DA/Lab_1/pars_env/lib/python3.11/site-packages/numpy/_core/fromnumeric.py:86: RuntimeWarning: invalid value encountered in reduce\n",
      "  return ufunc.reduce(obj, axis, dtype, out, **passkwargs)\n",
      "/Users/dmitriy/PycharmProjects/DA/Lab_1/pars_env/lib/python3.11/site-packages/sklearn/utils/_array_api.py:390: RuntimeWarning: invalid value encountered in cast\n",
      "  return x.astype(dtype, copy=copy, casting=casting)\n",
      "/var/folders/42/q4fn0w4d67l174rl7lvqgd5m0000gn/T/ipykernel_26714/3466372032.py:4: RuntimeWarning: overflow encountered in exp\n",
      "  return np.sum(np.exp(-predicts)[..., None] * func_args, axis=0)\n",
      "/Users/dmitriy/PycharmProjects/DA/Lab_1/pars_env/lib/python3.11/site-packages/numpy/_core/fromnumeric.py:86: RuntimeWarning: invalid value encountered in reduce\n",
      "  return ufunc.reduce(obj, axis, dtype, out, **passkwargs)\n",
      "/Users/dmitriy/PycharmProjects/DA/Lab_1/pars_env/lib/python3.11/site-packages/sklearn/utils/_array_api.py:390: RuntimeWarning: invalid value encountered in cast\n",
      "  return x.astype(dtype, copy=copy, casting=casting)\n",
      "/var/folders/42/q4fn0w4d67l174rl7lvqgd5m0000gn/T/ipykernel_26714/3466372032.py:4: RuntimeWarning: overflow encountered in exp\n",
      "  return np.sum(np.exp(-predicts)[..., None] * func_args, axis=0)\n",
      "/Users/dmitriy/PycharmProjects/DA/Lab_1/pars_env/lib/python3.11/site-packages/numpy/_core/fromnumeric.py:86: RuntimeWarning: invalid value encountered in reduce\n",
      "  return ufunc.reduce(obj, axis, dtype, out, **passkwargs)\n",
      "/Users/dmitriy/PycharmProjects/DA/Lab_1/pars_env/lib/python3.11/site-packages/sklearn/utils/_array_api.py:390: RuntimeWarning: invalid value encountered in cast\n",
      "  return x.astype(dtype, copy=copy, casting=casting)\n",
      "/var/folders/42/q4fn0w4d67l174rl7lvqgd5m0000gn/T/ipykernel_26714/3466372032.py:4: RuntimeWarning: overflow encountered in exp\n",
      "  return np.sum(np.exp(-predicts)[..., None] * func_args, axis=0)\n",
      "/Users/dmitriy/PycharmProjects/DA/Lab_1/pars_env/lib/python3.11/site-packages/numpy/_core/fromnumeric.py:86: RuntimeWarning: invalid value encountered in reduce\n",
      "  return ufunc.reduce(obj, axis, dtype, out, **passkwargs)\n",
      "/Users/dmitriy/PycharmProjects/DA/Lab_1/pars_env/lib/python3.11/site-packages/sklearn/utils/_array_api.py:390: RuntimeWarning: invalid value encountered in cast\n",
      "  return x.astype(dtype, copy=copy, casting=casting)\n",
      "/var/folders/42/q4fn0w4d67l174rl7lvqgd5m0000gn/T/ipykernel_26714/3466372032.py:4: RuntimeWarning: overflow encountered in exp\n",
      "  return np.sum(np.exp(-predicts)[..., None] * func_args, axis=0)\n",
      "/Users/dmitriy/PycharmProjects/DA/Lab_1/pars_env/lib/python3.11/site-packages/numpy/_core/fromnumeric.py:86: RuntimeWarning: invalid value encountered in reduce\n",
      "  return ufunc.reduce(obj, axis, dtype, out, **passkwargs)\n",
      "/Users/dmitriy/PycharmProjects/DA/Lab_1/pars_env/lib/python3.11/site-packages/sklearn/utils/_array_api.py:390: RuntimeWarning: invalid value encountered in cast\n",
      "  return x.astype(dtype, copy=copy, casting=casting)\n",
      "/var/folders/42/q4fn0w4d67l174rl7lvqgd5m0000gn/T/ipykernel_26714/3466372032.py:4: RuntimeWarning: overflow encountered in exp\n",
      "  return np.sum(np.exp(-predicts)[..., None] * func_args, axis=0)\n",
      "/Users/dmitriy/PycharmProjects/DA/Lab_1/pars_env/lib/python3.11/site-packages/numpy/_core/fromnumeric.py:86: RuntimeWarning: invalid value encountered in reduce\n",
      "  return ufunc.reduce(obj, axis, dtype, out, **passkwargs)\n",
      "/Users/dmitriy/PycharmProjects/DA/Lab_1/pars_env/lib/python3.11/site-packages/sklearn/utils/_array_api.py:390: RuntimeWarning: invalid value encountered in cast\n",
      "  return x.astype(dtype, copy=copy, casting=casting)\n",
      "/var/folders/42/q4fn0w4d67l174rl7lvqgd5m0000gn/T/ipykernel_26714/3466372032.py:4: RuntimeWarning: overflow encountered in exp\n",
      "  return np.sum(np.exp(-predicts)[..., None] * func_args, axis=0)\n",
      "/Users/dmitriy/PycharmProjects/DA/Lab_1/pars_env/lib/python3.11/site-packages/numpy/_core/fromnumeric.py:86: RuntimeWarning: invalid value encountered in reduce\n",
      "  return ufunc.reduce(obj, axis, dtype, out, **passkwargs)\n",
      "/Users/dmitriy/PycharmProjects/DA/Lab_1/pars_env/lib/python3.11/site-packages/sklearn/utils/_array_api.py:390: RuntimeWarning: invalid value encountered in cast\n",
      "  return x.astype(dtype, copy=copy, casting=casting)\n",
      "/var/folders/42/q4fn0w4d67l174rl7lvqgd5m0000gn/T/ipykernel_26714/3466372032.py:4: RuntimeWarning: overflow encountered in exp\n",
      "  return np.sum(np.exp(-predicts)[..., None] * func_args, axis=0)\n",
      "/Users/dmitriy/PycharmProjects/DA/Lab_1/pars_env/lib/python3.11/site-packages/numpy/_core/fromnumeric.py:86: RuntimeWarning: invalid value encountered in reduce\n",
      "  return ufunc.reduce(obj, axis, dtype, out, **passkwargs)\n",
      "/Users/dmitriy/PycharmProjects/DA/Lab_1/pars_env/lib/python3.11/site-packages/sklearn/utils/_array_api.py:390: RuntimeWarning: invalid value encountered in cast\n",
      "  return x.astype(dtype, copy=copy, casting=casting)\n",
      "/var/folders/42/q4fn0w4d67l174rl7lvqgd5m0000gn/T/ipykernel_26714/3466372032.py:4: RuntimeWarning: overflow encountered in exp\n",
      "  return np.sum(np.exp(-predicts)[..., None] * func_args, axis=0)\n",
      "/Users/dmitriy/PycharmProjects/DA/Lab_1/pars_env/lib/python3.11/site-packages/numpy/_core/fromnumeric.py:86: RuntimeWarning: invalid value encountered in reduce\n",
      "  return ufunc.reduce(obj, axis, dtype, out, **passkwargs)\n",
      "/Users/dmitriy/PycharmProjects/DA/Lab_1/pars_env/lib/python3.11/site-packages/sklearn/utils/_array_api.py:390: RuntimeWarning: invalid value encountered in cast\n",
      "  return x.astype(dtype, copy=copy, casting=casting)\n",
      "/var/folders/42/q4fn0w4d67l174rl7lvqgd5m0000gn/T/ipykernel_26714/3466372032.py:4: RuntimeWarning: overflow encountered in exp\n",
      "  return np.sum(np.exp(-predicts)[..., None] * func_args, axis=0)\n",
      "/Users/dmitriy/PycharmProjects/DA/Lab_1/pars_env/lib/python3.11/site-packages/numpy/_core/fromnumeric.py:86: RuntimeWarning: invalid value encountered in reduce\n",
      "  return ufunc.reduce(obj, axis, dtype, out, **passkwargs)\n",
      "/Users/dmitriy/PycharmProjects/DA/Lab_1/pars_env/lib/python3.11/site-packages/sklearn/utils/_array_api.py:390: RuntimeWarning: invalid value encountered in cast\n",
      "  return x.astype(dtype, copy=copy, casting=casting)\n",
      "/var/folders/42/q4fn0w4d67l174rl7lvqgd5m0000gn/T/ipykernel_26714/3466372032.py:4: RuntimeWarning: overflow encountered in exp\n",
      "  return np.sum(np.exp(-predicts)[..., None] * func_args, axis=0)\n",
      "/Users/dmitriy/PycharmProjects/DA/Lab_1/pars_env/lib/python3.11/site-packages/numpy/_core/fromnumeric.py:86: RuntimeWarning: invalid value encountered in reduce\n",
      "  return ufunc.reduce(obj, axis, dtype, out, **passkwargs)\n",
      "/Users/dmitriy/PycharmProjects/DA/Lab_1/pars_env/lib/python3.11/site-packages/sklearn/utils/_array_api.py:390: RuntimeWarning: invalid value encountered in cast\n",
      "  return x.astype(dtype, copy=copy, casting=casting)\n",
      "/var/folders/42/q4fn0w4d67l174rl7lvqgd5m0000gn/T/ipykernel_26714/3466372032.py:4: RuntimeWarning: overflow encountered in exp\n",
      "  return np.sum(np.exp(-predicts)[..., None] * func_args, axis=0)\n",
      "/Users/dmitriy/PycharmProjects/DA/Lab_1/pars_env/lib/python3.11/site-packages/numpy/_core/fromnumeric.py:86: RuntimeWarning: invalid value encountered in reduce\n",
      "  return ufunc.reduce(obj, axis, dtype, out, **passkwargs)\n",
      "/Users/dmitriy/PycharmProjects/DA/Lab_1/pars_env/lib/python3.11/site-packages/sklearn/utils/_array_api.py:390: RuntimeWarning: invalid value encountered in cast\n",
      "  return x.astype(dtype, copy=copy, casting=casting)\n",
      "/var/folders/42/q4fn0w4d67l174rl7lvqgd5m0000gn/T/ipykernel_26714/3466372032.py:4: RuntimeWarning: overflow encountered in exp\n",
      "  return np.sum(np.exp(-predicts)[..., None] * func_args, axis=0)\n",
      "/Users/dmitriy/PycharmProjects/DA/Lab_1/pars_env/lib/python3.11/site-packages/numpy/_core/fromnumeric.py:86: RuntimeWarning: invalid value encountered in reduce\n",
      "  return ufunc.reduce(obj, axis, dtype, out, **passkwargs)\n",
      "/Users/dmitriy/PycharmProjects/DA/Lab_1/pars_env/lib/python3.11/site-packages/sklearn/utils/_array_api.py:390: RuntimeWarning: invalid value encountered in cast\n",
      "  return x.astype(dtype, copy=copy, casting=casting)\n",
      "/var/folders/42/q4fn0w4d67l174rl7lvqgd5m0000gn/T/ipykernel_26714/3466372032.py:4: RuntimeWarning: overflow encountered in exp\n",
      "  return np.sum(np.exp(-predicts)[..., None] * func_args, axis=0)\n",
      "/Users/dmitriy/PycharmProjects/DA/Lab_1/pars_env/lib/python3.11/site-packages/numpy/_core/fromnumeric.py:86: RuntimeWarning: invalid value encountered in reduce\n",
      "  return ufunc.reduce(obj, axis, dtype, out, **passkwargs)\n",
      "/Users/dmitriy/PycharmProjects/DA/Lab_1/pars_env/lib/python3.11/site-packages/sklearn/utils/_array_api.py:390: RuntimeWarning: invalid value encountered in cast\n",
      "  return x.astype(dtype, copy=copy, casting=casting)\n",
      "/var/folders/42/q4fn0w4d67l174rl7lvqgd5m0000gn/T/ipykernel_26714/3466372032.py:4: RuntimeWarning: overflow encountered in exp\n",
      "  return np.sum(np.exp(-predicts)[..., None] * func_args, axis=0)\n",
      "/Users/dmitriy/PycharmProjects/DA/Lab_1/pars_env/lib/python3.11/site-packages/numpy/_core/fromnumeric.py:86: RuntimeWarning: invalid value encountered in reduce\n",
      "  return ufunc.reduce(obj, axis, dtype, out, **passkwargs)\n",
      "/Users/dmitriy/PycharmProjects/DA/Lab_1/pars_env/lib/python3.11/site-packages/sklearn/utils/_array_api.py:390: RuntimeWarning: invalid value encountered in cast\n",
      "  return x.astype(dtype, copy=copy, casting=casting)\n",
      "/var/folders/42/q4fn0w4d67l174rl7lvqgd5m0000gn/T/ipykernel_26714/3466372032.py:4: RuntimeWarning: overflow encountered in exp\n",
      "  return np.sum(np.exp(-predicts)[..., None] * func_args, axis=0)\n",
      "/Users/dmitriy/PycharmProjects/DA/Lab_1/pars_env/lib/python3.11/site-packages/numpy/_core/fromnumeric.py:86: RuntimeWarning: invalid value encountered in reduce\n",
      "  return ufunc.reduce(obj, axis, dtype, out, **passkwargs)\n",
      "/Users/dmitriy/PycharmProjects/DA/Lab_1/pars_env/lib/python3.11/site-packages/sklearn/utils/_array_api.py:390: RuntimeWarning: invalid value encountered in cast\n",
      "  return x.astype(dtype, copy=copy, casting=casting)\n",
      "/var/folders/42/q4fn0w4d67l174rl7lvqgd5m0000gn/T/ipykernel_26714/3466372032.py:4: RuntimeWarning: overflow encountered in exp\n",
      "  return np.sum(np.exp(-predicts)[..., None] * func_args, axis=0)\n",
      "/Users/dmitriy/PycharmProjects/DA/Lab_1/pars_env/lib/python3.11/site-packages/numpy/_core/fromnumeric.py:86: RuntimeWarning: invalid value encountered in reduce\n",
      "  return ufunc.reduce(obj, axis, dtype, out, **passkwargs)\n",
      "/Users/dmitriy/PycharmProjects/DA/Lab_1/pars_env/lib/python3.11/site-packages/sklearn/utils/_array_api.py:390: RuntimeWarning: invalid value encountered in cast\n",
      "  return x.astype(dtype, copy=copy, casting=casting)\n",
      "/var/folders/42/q4fn0w4d67l174rl7lvqgd5m0000gn/T/ipykernel_26714/3466372032.py:4: RuntimeWarning: overflow encountered in exp\n",
      "  return np.sum(np.exp(-predicts)[..., None] * func_args, axis=0)\n",
      "/Users/dmitriy/PycharmProjects/DA/Lab_1/pars_env/lib/python3.11/site-packages/numpy/_core/fromnumeric.py:86: RuntimeWarning: invalid value encountered in reduce\n",
      "  return ufunc.reduce(obj, axis, dtype, out, **passkwargs)\n",
      "/Users/dmitriy/PycharmProjects/DA/Lab_1/pars_env/lib/python3.11/site-packages/sklearn/utils/_array_api.py:390: RuntimeWarning: invalid value encountered in cast\n",
      "  return x.astype(dtype, copy=copy, casting=casting)\n",
      "/var/folders/42/q4fn0w4d67l174rl7lvqgd5m0000gn/T/ipykernel_26714/3466372032.py:4: RuntimeWarning: overflow encountered in exp\n",
      "  return np.sum(np.exp(-predicts)[..., None] * func_args, axis=0)\n",
      "/Users/dmitriy/PycharmProjects/DA/Lab_1/pars_env/lib/python3.11/site-packages/numpy/_core/fromnumeric.py:86: RuntimeWarning: invalid value encountered in reduce\n",
      "  return ufunc.reduce(obj, axis, dtype, out, **passkwargs)\n",
      "/Users/dmitriy/PycharmProjects/DA/Lab_1/pars_env/lib/python3.11/site-packages/sklearn/utils/_array_api.py:390: RuntimeWarning: invalid value encountered in cast\n",
      "  return x.astype(dtype, copy=copy, casting=casting)\n",
      "/var/folders/42/q4fn0w4d67l174rl7lvqgd5m0000gn/T/ipykernel_26714/3466372032.py:4: RuntimeWarning: overflow encountered in exp\n",
      "  return np.sum(np.exp(-predicts)[..., None] * func_args, axis=0)\n",
      "/Users/dmitriy/PycharmProjects/DA/Lab_1/pars_env/lib/python3.11/site-packages/numpy/_core/fromnumeric.py:86: RuntimeWarning: invalid value encountered in reduce\n",
      "  return ufunc.reduce(obj, axis, dtype, out, **passkwargs)\n",
      "/Users/dmitriy/PycharmProjects/DA/Lab_1/pars_env/lib/python3.11/site-packages/sklearn/utils/_array_api.py:390: RuntimeWarning: invalid value encountered in cast\n",
      "  return x.astype(dtype, copy=copy, casting=casting)\n",
      "/var/folders/42/q4fn0w4d67l174rl7lvqgd5m0000gn/T/ipykernel_26714/3466372032.py:4: RuntimeWarning: overflow encountered in exp\n",
      "  return np.sum(np.exp(-predicts)[..., None] * func_args, axis=0)\n",
      "/Users/dmitriy/PycharmProjects/DA/Lab_1/pars_env/lib/python3.11/site-packages/numpy/_core/fromnumeric.py:86: RuntimeWarning: invalid value encountered in reduce\n",
      "  return ufunc.reduce(obj, axis, dtype, out, **passkwargs)\n",
      "/Users/dmitriy/PycharmProjects/DA/Lab_1/pars_env/lib/python3.11/site-packages/sklearn/utils/_array_api.py:390: RuntimeWarning: invalid value encountered in cast\n",
      "  return x.astype(dtype, copy=copy, casting=casting)\n",
      "/var/folders/42/q4fn0w4d67l174rl7lvqgd5m0000gn/T/ipykernel_26714/3466372032.py:4: RuntimeWarning: overflow encountered in exp\n",
      "  return np.sum(np.exp(-predicts)[..., None] * func_args, axis=0)\n",
      "/Users/dmitriy/PycharmProjects/DA/Lab_1/pars_env/lib/python3.11/site-packages/numpy/_core/fromnumeric.py:86: RuntimeWarning: invalid value encountered in reduce\n",
      "  return ufunc.reduce(obj, axis, dtype, out, **passkwargs)\n",
      "/Users/dmitriy/PycharmProjects/DA/Lab_1/pars_env/lib/python3.11/site-packages/sklearn/utils/_array_api.py:390: RuntimeWarning: invalid value encountered in cast\n",
      "  return x.astype(dtype, copy=copy, casting=casting)\n",
      "/var/folders/42/q4fn0w4d67l174rl7lvqgd5m0000gn/T/ipykernel_26714/3466372032.py:4: RuntimeWarning: overflow encountered in exp\n",
      "  return np.sum(np.exp(-predicts)[..., None] * func_args, axis=0)\n",
      "/Users/dmitriy/PycharmProjects/DA/Lab_1/pars_env/lib/python3.11/site-packages/numpy/_core/fromnumeric.py:86: RuntimeWarning: invalid value encountered in reduce\n",
      "  return ufunc.reduce(obj, axis, dtype, out, **passkwargs)\n",
      "/Users/dmitriy/PycharmProjects/DA/Lab_1/pars_env/lib/python3.11/site-packages/sklearn/utils/_array_api.py:390: RuntimeWarning: invalid value encountered in cast\n",
      "  return x.astype(dtype, copy=copy, casting=casting)\n",
      "/var/folders/42/q4fn0w4d67l174rl7lvqgd5m0000gn/T/ipykernel_26714/3466372032.py:4: RuntimeWarning: overflow encountered in exp\n",
      "  return np.sum(np.exp(-predicts)[..., None] * func_args, axis=0)\n",
      "/Users/dmitriy/PycharmProjects/DA/Lab_1/pars_env/lib/python3.11/site-packages/numpy/_core/fromnumeric.py:86: RuntimeWarning: invalid value encountered in reduce\n",
      "  return ufunc.reduce(obj, axis, dtype, out, **passkwargs)\n",
      "/Users/dmitriy/PycharmProjects/DA/Lab_1/pars_env/lib/python3.11/site-packages/sklearn/utils/_array_api.py:390: RuntimeWarning: invalid value encountered in cast\n",
      "  return x.astype(dtype, copy=copy, casting=casting)\n",
      "/var/folders/42/q4fn0w4d67l174rl7lvqgd5m0000gn/T/ipykernel_26714/3466372032.py:4: RuntimeWarning: overflow encountered in exp\n",
      "  return np.sum(np.exp(-predicts)[..., None] * func_args, axis=0)\n",
      "/Users/dmitriy/PycharmProjects/DA/Lab_1/pars_env/lib/python3.11/site-packages/numpy/_core/fromnumeric.py:86: RuntimeWarning: invalid value encountered in reduce\n",
      "  return ufunc.reduce(obj, axis, dtype, out, **passkwargs)\n",
      "/Users/dmitriy/PycharmProjects/DA/Lab_1/pars_env/lib/python3.11/site-packages/sklearn/utils/_array_api.py:390: RuntimeWarning: invalid value encountered in cast\n",
      "  return x.astype(dtype, copy=copy, casting=casting)\n",
      "/var/folders/42/q4fn0w4d67l174rl7lvqgd5m0000gn/T/ipykernel_26714/3466372032.py:4: RuntimeWarning: overflow encountered in exp\n",
      "  return np.sum(np.exp(-predicts)[..., None] * func_args, axis=0)\n",
      "/Users/dmitriy/PycharmProjects/DA/Lab_1/pars_env/lib/python3.11/site-packages/numpy/_core/fromnumeric.py:86: RuntimeWarning: invalid value encountered in reduce\n",
      "  return ufunc.reduce(obj, axis, dtype, out, **passkwargs)\n",
      "/Users/dmitriy/PycharmProjects/DA/Lab_1/pars_env/lib/python3.11/site-packages/sklearn/utils/_array_api.py:390: RuntimeWarning: invalid value encountered in cast\n",
      "  return x.astype(dtype, copy=copy, casting=casting)\n",
      "/var/folders/42/q4fn0w4d67l174rl7lvqgd5m0000gn/T/ipykernel_26714/3466372032.py:4: RuntimeWarning: overflow encountered in exp\n",
      "  return np.sum(np.exp(-predicts)[..., None] * func_args, axis=0)\n",
      "/Users/dmitriy/PycharmProjects/DA/Lab_1/pars_env/lib/python3.11/site-packages/numpy/_core/fromnumeric.py:86: RuntimeWarning: invalid value encountered in reduce\n",
      "  return ufunc.reduce(obj, axis, dtype, out, **passkwargs)\n",
      "/Users/dmitriy/PycharmProjects/DA/Lab_1/pars_env/lib/python3.11/site-packages/sklearn/utils/_array_api.py:390: RuntimeWarning: invalid value encountered in cast\n",
      "  return x.astype(dtype, copy=copy, casting=casting)\n",
      "/var/folders/42/q4fn0w4d67l174rl7lvqgd5m0000gn/T/ipykernel_26714/3466372032.py:4: RuntimeWarning: overflow encountered in exp\n",
      "  return np.sum(np.exp(-predicts)[..., None] * func_args, axis=0)\n",
      "/Users/dmitriy/PycharmProjects/DA/Lab_1/pars_env/lib/python3.11/site-packages/numpy/_core/fromnumeric.py:86: RuntimeWarning: invalid value encountered in reduce\n",
      "  return ufunc.reduce(obj, axis, dtype, out, **passkwargs)\n",
      "/Users/dmitriy/PycharmProjects/DA/Lab_1/pars_env/lib/python3.11/site-packages/sklearn/utils/_array_api.py:390: RuntimeWarning: invalid value encountered in cast\n",
      "  return x.astype(dtype, copy=copy, casting=casting)\n",
      "/var/folders/42/q4fn0w4d67l174rl7lvqgd5m0000gn/T/ipykernel_26714/3466372032.py:4: RuntimeWarning: overflow encountered in exp\n",
      "  return np.sum(np.exp(-predicts)[..., None] * func_args, axis=0)\n",
      "/Users/dmitriy/PycharmProjects/DA/Lab_1/pars_env/lib/python3.11/site-packages/numpy/_core/fromnumeric.py:86: RuntimeWarning: invalid value encountered in reduce\n",
      "  return ufunc.reduce(obj, axis, dtype, out, **passkwargs)\n",
      "/Users/dmitriy/PycharmProjects/DA/Lab_1/pars_env/lib/python3.11/site-packages/sklearn/utils/_array_api.py:390: RuntimeWarning: invalid value encountered in cast\n",
      "  return x.astype(dtype, copy=copy, casting=casting)\n",
      "/var/folders/42/q4fn0w4d67l174rl7lvqgd5m0000gn/T/ipykernel_26714/3466372032.py:4: RuntimeWarning: overflow encountered in exp\n",
      "  return np.sum(np.exp(-predicts)[..., None] * func_args, axis=0)\n",
      "/Users/dmitriy/PycharmProjects/DA/Lab_1/pars_env/lib/python3.11/site-packages/numpy/_core/fromnumeric.py:86: RuntimeWarning: invalid value encountered in reduce\n",
      "  return ufunc.reduce(obj, axis, dtype, out, **passkwargs)\n",
      "/Users/dmitriy/PycharmProjects/DA/Lab_1/pars_env/lib/python3.11/site-packages/sklearn/utils/_array_api.py:390: RuntimeWarning: invalid value encountered in cast\n",
      "  return x.astype(dtype, copy=copy, casting=casting)\n",
      "/var/folders/42/q4fn0w4d67l174rl7lvqgd5m0000gn/T/ipykernel_26714/3466372032.py:4: RuntimeWarning: overflow encountered in exp\n",
      "  return np.sum(np.exp(-predicts)[..., None] * func_args, axis=0)\n",
      "/Users/dmitriy/PycharmProjects/DA/Lab_1/pars_env/lib/python3.11/site-packages/numpy/_core/fromnumeric.py:86: RuntimeWarning: invalid value encountered in reduce\n",
      "  return ufunc.reduce(obj, axis, dtype, out, **passkwargs)\n",
      "/Users/dmitriy/PycharmProjects/DA/Lab_1/pars_env/lib/python3.11/site-packages/sklearn/utils/_array_api.py:390: RuntimeWarning: invalid value encountered in cast\n",
      "  return x.astype(dtype, copy=copy, casting=casting)\n",
      "/var/folders/42/q4fn0w4d67l174rl7lvqgd5m0000gn/T/ipykernel_26714/3466372032.py:4: RuntimeWarning: overflow encountered in exp\n",
      "  return np.sum(np.exp(-predicts)[..., None] * func_args, axis=0)\n",
      "/Users/dmitriy/PycharmProjects/DA/Lab_1/pars_env/lib/python3.11/site-packages/numpy/_core/fromnumeric.py:86: RuntimeWarning: invalid value encountered in reduce\n",
      "  return ufunc.reduce(obj, axis, dtype, out, **passkwargs)\n",
      "/Users/dmitriy/PycharmProjects/DA/Lab_1/pars_env/lib/python3.11/site-packages/sklearn/utils/_array_api.py:390: RuntimeWarning: invalid value encountered in cast\n",
      "  return x.astype(dtype, copy=copy, casting=casting)\n",
      "/var/folders/42/q4fn0w4d67l174rl7lvqgd5m0000gn/T/ipykernel_26714/3466372032.py:4: RuntimeWarning: overflow encountered in exp\n",
      "  return np.sum(np.exp(-predicts)[..., None] * func_args, axis=0)\n",
      "/Users/dmitriy/PycharmProjects/DA/Lab_1/pars_env/lib/python3.11/site-packages/numpy/_core/fromnumeric.py:86: RuntimeWarning: invalid value encountered in reduce\n",
      "  return ufunc.reduce(obj, axis, dtype, out, **passkwargs)\n",
      "/Users/dmitriy/PycharmProjects/DA/Lab_1/pars_env/lib/python3.11/site-packages/sklearn/utils/_array_api.py:390: RuntimeWarning: invalid value encountered in cast\n",
      "  return x.astype(dtype, copy=copy, casting=casting)\n",
      "/var/folders/42/q4fn0w4d67l174rl7lvqgd5m0000gn/T/ipykernel_26714/3466372032.py:4: RuntimeWarning: overflow encountered in exp\n",
      "  return np.sum(np.exp(-predicts)[..., None] * func_args, axis=0)\n",
      "/Users/dmitriy/PycharmProjects/DA/Lab_1/pars_env/lib/python3.11/site-packages/numpy/_core/fromnumeric.py:86: RuntimeWarning: invalid value encountered in reduce\n",
      "  return ufunc.reduce(obj, axis, dtype, out, **passkwargs)\n",
      "/Users/dmitriy/PycharmProjects/DA/Lab_1/pars_env/lib/python3.11/site-packages/sklearn/utils/_array_api.py:390: RuntimeWarning: invalid value encountered in cast\n",
      "  return x.astype(dtype, copy=copy, casting=casting)\n",
      "/var/folders/42/q4fn0w4d67l174rl7lvqgd5m0000gn/T/ipykernel_26714/3466372032.py:4: RuntimeWarning: overflow encountered in exp\n",
      "  return np.sum(np.exp(-predicts)[..., None] * func_args, axis=0)\n",
      "/Users/dmitriy/PycharmProjects/DA/Lab_1/pars_env/lib/python3.11/site-packages/numpy/_core/fromnumeric.py:86: RuntimeWarning: invalid value encountered in reduce\n",
      "  return ufunc.reduce(obj, axis, dtype, out, **passkwargs)\n",
      "/Users/dmitriy/PycharmProjects/DA/Lab_1/pars_env/lib/python3.11/site-packages/sklearn/utils/_array_api.py:390: RuntimeWarning: invalid value encountered in cast\n",
      "  return x.astype(dtype, copy=copy, casting=casting)\n",
      "/var/folders/42/q4fn0w4d67l174rl7lvqgd5m0000gn/T/ipykernel_26714/3466372032.py:4: RuntimeWarning: overflow encountered in exp\n",
      "  return np.sum(np.exp(-predicts)[..., None] * func_args, axis=0)\n",
      "/Users/dmitriy/PycharmProjects/DA/Lab_1/pars_env/lib/python3.11/site-packages/numpy/_core/fromnumeric.py:86: RuntimeWarning: invalid value encountered in reduce\n",
      "  return ufunc.reduce(obj, axis, dtype, out, **passkwargs)\n",
      "/Users/dmitriy/PycharmProjects/DA/Lab_1/pars_env/lib/python3.11/site-packages/sklearn/utils/_array_api.py:390: RuntimeWarning: invalid value encountered in cast\n",
      "  return x.astype(dtype, copy=copy, casting=casting)\n",
      "/var/folders/42/q4fn0w4d67l174rl7lvqgd5m0000gn/T/ipykernel_26714/3466372032.py:4: RuntimeWarning: overflow encountered in exp\n",
      "  return np.sum(np.exp(-predicts)[..., None] * func_args, axis=0)\n",
      "/Users/dmitriy/PycharmProjects/DA/Lab_1/pars_env/lib/python3.11/site-packages/numpy/_core/fromnumeric.py:86: RuntimeWarning: invalid value encountered in reduce\n",
      "  return ufunc.reduce(obj, axis, dtype, out, **passkwargs)\n",
      "/Users/dmitriy/PycharmProjects/DA/Lab_1/pars_env/lib/python3.11/site-packages/sklearn/utils/_array_api.py:390: RuntimeWarning: invalid value encountered in cast\n",
      "  return x.astype(dtype, copy=copy, casting=casting)\n",
      "/var/folders/42/q4fn0w4d67l174rl7lvqgd5m0000gn/T/ipykernel_26714/3466372032.py:4: RuntimeWarning: overflow encountered in exp\n",
      "  return np.sum(np.exp(-predicts)[..., None] * func_args, axis=0)\n",
      "/Users/dmitriy/PycharmProjects/DA/Lab_1/pars_env/lib/python3.11/site-packages/numpy/_core/fromnumeric.py:86: RuntimeWarning: invalid value encountered in reduce\n",
      "  return ufunc.reduce(obj, axis, dtype, out, **passkwargs)\n",
      "/Users/dmitriy/PycharmProjects/DA/Lab_1/pars_env/lib/python3.11/site-packages/sklearn/utils/_array_api.py:390: RuntimeWarning: invalid value encountered in cast\n",
      "  return x.astype(dtype, copy=copy, casting=casting)\n",
      "/var/folders/42/q4fn0w4d67l174rl7lvqgd5m0000gn/T/ipykernel_26714/3466372032.py:4: RuntimeWarning: overflow encountered in exp\n",
      "  return np.sum(np.exp(-predicts)[..., None] * func_args, axis=0)\n",
      "/Users/dmitriy/PycharmProjects/DA/Lab_1/pars_env/lib/python3.11/site-packages/numpy/_core/fromnumeric.py:86: RuntimeWarning: invalid value encountered in reduce\n",
      "  return ufunc.reduce(obj, axis, dtype, out, **passkwargs)\n",
      "/Users/dmitriy/PycharmProjects/DA/Lab_1/pars_env/lib/python3.11/site-packages/sklearn/utils/_array_api.py:390: RuntimeWarning: invalid value encountered in cast\n",
      "  return x.astype(dtype, copy=copy, casting=casting)\n",
      "/var/folders/42/q4fn0w4d67l174rl7lvqgd5m0000gn/T/ipykernel_26714/3466372032.py:4: RuntimeWarning: overflow encountered in exp\n",
      "  return np.sum(np.exp(-predicts)[..., None] * func_args, axis=0)\n",
      "/Users/dmitriy/PycharmProjects/DA/Lab_1/pars_env/lib/python3.11/site-packages/numpy/_core/fromnumeric.py:86: RuntimeWarning: invalid value encountered in reduce\n",
      "  return ufunc.reduce(obj, axis, dtype, out, **passkwargs)\n",
      "/Users/dmitriy/PycharmProjects/DA/Lab_1/pars_env/lib/python3.11/site-packages/sklearn/utils/_array_api.py:390: RuntimeWarning: invalid value encountered in cast\n",
      "  return x.astype(dtype, copy=copy, casting=casting)\n",
      "/var/folders/42/q4fn0w4d67l174rl7lvqgd5m0000gn/T/ipykernel_26714/3466372032.py:4: RuntimeWarning: overflow encountered in exp\n",
      "  return np.sum(np.exp(-predicts)[..., None] * func_args, axis=0)\n",
      "/Users/dmitriy/PycharmProjects/DA/Lab_1/pars_env/lib/python3.11/site-packages/numpy/_core/fromnumeric.py:86: RuntimeWarning: invalid value encountered in reduce\n",
      "  return ufunc.reduce(obj, axis, dtype, out, **passkwargs)\n",
      "/Users/dmitriy/PycharmProjects/DA/Lab_1/pars_env/lib/python3.11/site-packages/sklearn/utils/_array_api.py:390: RuntimeWarning: invalid value encountered in cast\n",
      "  return x.astype(dtype, copy=copy, casting=casting)\n",
      "/var/folders/42/q4fn0w4d67l174rl7lvqgd5m0000gn/T/ipykernel_26714/3466372032.py:4: RuntimeWarning: overflow encountered in exp\n",
      "  return np.sum(np.exp(-predicts)[..., None] * func_args, axis=0)\n",
      "/Users/dmitriy/PycharmProjects/DA/Lab_1/pars_env/lib/python3.11/site-packages/numpy/_core/fromnumeric.py:86: RuntimeWarning: invalid value encountered in reduce\n",
      "  return ufunc.reduce(obj, axis, dtype, out, **passkwargs)\n",
      "/Users/dmitriy/PycharmProjects/DA/Lab_1/pars_env/lib/python3.11/site-packages/sklearn/utils/_array_api.py:390: RuntimeWarning: invalid value encountered in cast\n",
      "  return x.astype(dtype, copy=copy, casting=casting)\n",
      "/var/folders/42/q4fn0w4d67l174rl7lvqgd5m0000gn/T/ipykernel_26714/3466372032.py:4: RuntimeWarning: overflow encountered in exp\n",
      "  return np.sum(np.exp(-predicts)[..., None] * func_args, axis=0)\n",
      "/Users/dmitriy/PycharmProjects/DA/Lab_1/pars_env/lib/python3.11/site-packages/numpy/_core/fromnumeric.py:86: RuntimeWarning: invalid value encountered in reduce\n",
      "  return ufunc.reduce(obj, axis, dtype, out, **passkwargs)\n",
      "/Users/dmitriy/PycharmProjects/DA/Lab_1/pars_env/lib/python3.11/site-packages/sklearn/utils/_array_api.py:390: RuntimeWarning: invalid value encountered in cast\n",
      "  return x.astype(dtype, copy=copy, casting=casting)\n",
      "/var/folders/42/q4fn0w4d67l174rl7lvqgd5m0000gn/T/ipykernel_26714/3466372032.py:4: RuntimeWarning: overflow encountered in exp\n",
      "  return np.sum(np.exp(-predicts)[..., None] * func_args, axis=0)\n",
      "/Users/dmitriy/PycharmProjects/DA/Lab_1/pars_env/lib/python3.11/site-packages/numpy/_core/fromnumeric.py:86: RuntimeWarning: invalid value encountered in reduce\n",
      "  return ufunc.reduce(obj, axis, dtype, out, **passkwargs)\n",
      "/Users/dmitriy/PycharmProjects/DA/Lab_1/pars_env/lib/python3.11/site-packages/sklearn/utils/_array_api.py:390: RuntimeWarning: invalid value encountered in cast\n",
      "  return x.astype(dtype, copy=copy, casting=casting)\n",
      "/var/folders/42/q4fn0w4d67l174rl7lvqgd5m0000gn/T/ipykernel_26714/3466372032.py:4: RuntimeWarning: overflow encountered in exp\n",
      "  return np.sum(np.exp(-predicts)[..., None] * func_args, axis=0)\n",
      "/Users/dmitriy/PycharmProjects/DA/Lab_1/pars_env/lib/python3.11/site-packages/numpy/_core/fromnumeric.py:86: RuntimeWarning: invalid value encountered in reduce\n",
      "  return ufunc.reduce(obj, axis, dtype, out, **passkwargs)\n",
      "/Users/dmitriy/PycharmProjects/DA/Lab_1/pars_env/lib/python3.11/site-packages/sklearn/utils/_array_api.py:390: RuntimeWarning: invalid value encountered in cast\n",
      "  return x.astype(dtype, copy=copy, casting=casting)\n",
      "/var/folders/42/q4fn0w4d67l174rl7lvqgd5m0000gn/T/ipykernel_26714/3466372032.py:4: RuntimeWarning: overflow encountered in exp\n",
      "  return np.sum(np.exp(-predicts)[..., None] * func_args, axis=0)\n",
      "/Users/dmitriy/PycharmProjects/DA/Lab_1/pars_env/lib/python3.11/site-packages/numpy/_core/fromnumeric.py:86: RuntimeWarning: invalid value encountered in reduce\n",
      "  return ufunc.reduce(obj, axis, dtype, out, **passkwargs)\n",
      "/Users/dmitriy/PycharmProjects/DA/Lab_1/pars_env/lib/python3.11/site-packages/sklearn/utils/_array_api.py:390: RuntimeWarning: invalid value encountered in cast\n",
      "  return x.astype(dtype, copy=copy, casting=casting)\n",
      "/var/folders/42/q4fn0w4d67l174rl7lvqgd5m0000gn/T/ipykernel_26714/3466372032.py:4: RuntimeWarning: overflow encountered in exp\n",
      "  return np.sum(np.exp(-predicts)[..., None] * func_args, axis=0)\n",
      "/Users/dmitriy/PycharmProjects/DA/Lab_1/pars_env/lib/python3.11/site-packages/numpy/_core/fromnumeric.py:86: RuntimeWarning: invalid value encountered in reduce\n",
      "  return ufunc.reduce(obj, axis, dtype, out, **passkwargs)\n",
      "/Users/dmitriy/PycharmProjects/DA/Lab_1/pars_env/lib/python3.11/site-packages/sklearn/utils/_array_api.py:390: RuntimeWarning: invalid value encountered in cast\n",
      "  return x.astype(dtype, copy=copy, casting=casting)\n",
      "/var/folders/42/q4fn0w4d67l174rl7lvqgd5m0000gn/T/ipykernel_26714/3466372032.py:4: RuntimeWarning: overflow encountered in exp\n",
      "  return np.sum(np.exp(-predicts)[..., None] * func_args, axis=0)\n",
      "/Users/dmitriy/PycharmProjects/DA/Lab_1/pars_env/lib/python3.11/site-packages/numpy/_core/fromnumeric.py:86: RuntimeWarning: invalid value encountered in reduce\n",
      "  return ufunc.reduce(obj, axis, dtype, out, **passkwargs)\n",
      "/Users/dmitriy/PycharmProjects/DA/Lab_1/pars_env/lib/python3.11/site-packages/sklearn/utils/_array_api.py:390: RuntimeWarning: invalid value encountered in cast\n",
      "  return x.astype(dtype, copy=copy, casting=casting)\n",
      "/var/folders/42/q4fn0w4d67l174rl7lvqgd5m0000gn/T/ipykernel_26714/3466372032.py:4: RuntimeWarning: overflow encountered in exp\n",
      "  return np.sum(np.exp(-predicts)[..., None] * func_args, axis=0)\n",
      "/Users/dmitriy/PycharmProjects/DA/Lab_1/pars_env/lib/python3.11/site-packages/numpy/_core/fromnumeric.py:86: RuntimeWarning: invalid value encountered in reduce\n",
      "  return ufunc.reduce(obj, axis, dtype, out, **passkwargs)\n",
      "/Users/dmitriy/PycharmProjects/DA/Lab_1/pars_env/lib/python3.11/site-packages/sklearn/utils/_array_api.py:390: RuntimeWarning: invalid value encountered in cast\n",
      "  return x.astype(dtype, copy=copy, casting=casting)\n",
      "/var/folders/42/q4fn0w4d67l174rl7lvqgd5m0000gn/T/ipykernel_26714/3466372032.py:4: RuntimeWarning: overflow encountered in exp\n",
      "  return np.sum(np.exp(-predicts)[..., None] * func_args, axis=0)\n",
      "/Users/dmitriy/PycharmProjects/DA/Lab_1/pars_env/lib/python3.11/site-packages/numpy/_core/fromnumeric.py:86: RuntimeWarning: invalid value encountered in reduce\n",
      "  return ufunc.reduce(obj, axis, dtype, out, **passkwargs)\n",
      "/Users/dmitriy/PycharmProjects/DA/Lab_1/pars_env/lib/python3.11/site-packages/sklearn/utils/_array_api.py:390: RuntimeWarning: invalid value encountered in cast\n",
      "  return x.astype(dtype, copy=copy, casting=casting)\n",
      "/var/folders/42/q4fn0w4d67l174rl7lvqgd5m0000gn/T/ipykernel_26714/3466372032.py:4: RuntimeWarning: overflow encountered in exp\n",
      "  return np.sum(np.exp(-predicts)[..., None] * func_args, axis=0)\n",
      "/Users/dmitriy/PycharmProjects/DA/Lab_1/pars_env/lib/python3.11/site-packages/numpy/_core/fromnumeric.py:86: RuntimeWarning: invalid value encountered in reduce\n",
      "  return ufunc.reduce(obj, axis, dtype, out, **passkwargs)\n",
      "/Users/dmitriy/PycharmProjects/DA/Lab_1/pars_env/lib/python3.11/site-packages/sklearn/utils/_array_api.py:390: RuntimeWarning: invalid value encountered in cast\n",
      "  return x.astype(dtype, copy=copy, casting=casting)\n",
      "/var/folders/42/q4fn0w4d67l174rl7lvqgd5m0000gn/T/ipykernel_26714/3466372032.py:4: RuntimeWarning: overflow encountered in exp\n",
      "  return np.sum(np.exp(-predicts)[..., None] * func_args, axis=0)\n",
      "/Users/dmitriy/PycharmProjects/DA/Lab_1/pars_env/lib/python3.11/site-packages/numpy/_core/fromnumeric.py:86: RuntimeWarning: invalid value encountered in reduce\n",
      "  return ufunc.reduce(obj, axis, dtype, out, **passkwargs)\n",
      "/Users/dmitriy/PycharmProjects/DA/Lab_1/pars_env/lib/python3.11/site-packages/sklearn/utils/_array_api.py:390: RuntimeWarning: invalid value encountered in cast\n",
      "  return x.astype(dtype, copy=copy, casting=casting)\n",
      "/var/folders/42/q4fn0w4d67l174rl7lvqgd5m0000gn/T/ipykernel_26714/3466372032.py:4: RuntimeWarning: overflow encountered in exp\n",
      "  return np.sum(np.exp(-predicts)[..., None] * func_args, axis=0)\n",
      "/Users/dmitriy/PycharmProjects/DA/Lab_1/pars_env/lib/python3.11/site-packages/numpy/_core/fromnumeric.py:86: RuntimeWarning: invalid value encountered in reduce\n",
      "  return ufunc.reduce(obj, axis, dtype, out, **passkwargs)\n",
      "/Users/dmitriy/PycharmProjects/DA/Lab_1/pars_env/lib/python3.11/site-packages/sklearn/utils/_array_api.py:390: RuntimeWarning: invalid value encountered in cast\n",
      "  return x.astype(dtype, copy=copy, casting=casting)\n",
      "/var/folders/42/q4fn0w4d67l174rl7lvqgd5m0000gn/T/ipykernel_26714/3466372032.py:4: RuntimeWarning: overflow encountered in exp\n",
      "  return np.sum(np.exp(-predicts)[..., None] * func_args, axis=0)\n",
      "/Users/dmitriy/PycharmProjects/DA/Lab_1/pars_env/lib/python3.11/site-packages/numpy/_core/fromnumeric.py:86: RuntimeWarning: invalid value encountered in reduce\n",
      "  return ufunc.reduce(obj, axis, dtype, out, **passkwargs)\n",
      "/Users/dmitriy/PycharmProjects/DA/Lab_1/pars_env/lib/python3.11/site-packages/sklearn/utils/_array_api.py:390: RuntimeWarning: invalid value encountered in cast\n",
      "  return x.astype(dtype, copy=copy, casting=casting)\n",
      "/var/folders/42/q4fn0w4d67l174rl7lvqgd5m0000gn/T/ipykernel_26714/3466372032.py:4: RuntimeWarning: overflow encountered in exp\n",
      "  return np.sum(np.exp(-predicts)[..., None] * func_args, axis=0)\n",
      "/Users/dmitriy/PycharmProjects/DA/Lab_1/pars_env/lib/python3.11/site-packages/numpy/_core/fromnumeric.py:86: RuntimeWarning: invalid value encountered in reduce\n",
      "  return ufunc.reduce(obj, axis, dtype, out, **passkwargs)\n",
      "/Users/dmitriy/PycharmProjects/DA/Lab_1/pars_env/lib/python3.11/site-packages/sklearn/utils/_array_api.py:390: RuntimeWarning: invalid value encountered in cast\n",
      "  return x.astype(dtype, copy=copy, casting=casting)\n",
      "/var/folders/42/q4fn0w4d67l174rl7lvqgd5m0000gn/T/ipykernel_26714/3466372032.py:4: RuntimeWarning: overflow encountered in exp\n",
      "  return np.sum(np.exp(-predicts)[..., None] * func_args, axis=0)\n",
      "/Users/dmitriy/PycharmProjects/DA/Lab_1/pars_env/lib/python3.11/site-packages/numpy/_core/fromnumeric.py:86: RuntimeWarning: invalid value encountered in reduce\n",
      "  return ufunc.reduce(obj, axis, dtype, out, **passkwargs)\n",
      "/Users/dmitriy/PycharmProjects/DA/Lab_1/pars_env/lib/python3.11/site-packages/sklearn/utils/_array_api.py:390: RuntimeWarning: invalid value encountered in cast\n",
      "  return x.astype(dtype, copy=copy, casting=casting)\n",
      "/var/folders/42/q4fn0w4d67l174rl7lvqgd5m0000gn/T/ipykernel_26714/3466372032.py:4: RuntimeWarning: overflow encountered in exp\n",
      "  return np.sum(np.exp(-predicts)[..., None] * func_args, axis=0)\n",
      "/Users/dmitriy/PycharmProjects/DA/Lab_1/pars_env/lib/python3.11/site-packages/numpy/_core/fromnumeric.py:86: RuntimeWarning: invalid value encountered in reduce\n",
      "  return ufunc.reduce(obj, axis, dtype, out, **passkwargs)\n",
      "/Users/dmitriy/PycharmProjects/DA/Lab_1/pars_env/lib/python3.11/site-packages/sklearn/utils/_array_api.py:390: RuntimeWarning: invalid value encountered in cast\n",
      "  return x.astype(dtype, copy=copy, casting=casting)\n",
      "/var/folders/42/q4fn0w4d67l174rl7lvqgd5m0000gn/T/ipykernel_26714/3466372032.py:4: RuntimeWarning: overflow encountered in exp\n",
      "  return np.sum(np.exp(-predicts)[..., None] * func_args, axis=0)\n",
      "/Users/dmitriy/PycharmProjects/DA/Lab_1/pars_env/lib/python3.11/site-packages/numpy/_core/fromnumeric.py:86: RuntimeWarning: invalid value encountered in reduce\n",
      "  return ufunc.reduce(obj, axis, dtype, out, **passkwargs)\n",
      "/Users/dmitriy/PycharmProjects/DA/Lab_1/pars_env/lib/python3.11/site-packages/sklearn/utils/_array_api.py:390: RuntimeWarning: invalid value encountered in cast\n",
      "  return x.astype(dtype, copy=copy, casting=casting)\n",
      "/var/folders/42/q4fn0w4d67l174rl7lvqgd5m0000gn/T/ipykernel_26714/3466372032.py:4: RuntimeWarning: overflow encountered in exp\n",
      "  return np.sum(np.exp(-predicts)[..., None] * func_args, axis=0)\n",
      "/Users/dmitriy/PycharmProjects/DA/Lab_1/pars_env/lib/python3.11/site-packages/numpy/_core/fromnumeric.py:86: RuntimeWarning: invalid value encountered in reduce\n",
      "  return ufunc.reduce(obj, axis, dtype, out, **passkwargs)\n",
      "/Users/dmitriy/PycharmProjects/DA/Lab_1/pars_env/lib/python3.11/site-packages/sklearn/utils/_array_api.py:390: RuntimeWarning: invalid value encountered in cast\n",
      "  return x.astype(dtype, copy=copy, casting=casting)\n",
      "/var/folders/42/q4fn0w4d67l174rl7lvqgd5m0000gn/T/ipykernel_26714/3466372032.py:4: RuntimeWarning: overflow encountered in exp\n",
      "  return np.sum(np.exp(-predicts)[..., None] * func_args, axis=0)\n",
      "/Users/dmitriy/PycharmProjects/DA/Lab_1/pars_env/lib/python3.11/site-packages/numpy/_core/fromnumeric.py:86: RuntimeWarning: invalid value encountered in reduce\n",
      "  return ufunc.reduce(obj, axis, dtype, out, **passkwargs)\n",
      "/Users/dmitriy/PycharmProjects/DA/Lab_1/pars_env/lib/python3.11/site-packages/sklearn/utils/_array_api.py:390: RuntimeWarning: invalid value encountered in cast\n",
      "  return x.astype(dtype, copy=copy, casting=casting)\n",
      "/var/folders/42/q4fn0w4d67l174rl7lvqgd5m0000gn/T/ipykernel_26714/3466372032.py:4: RuntimeWarning: overflow encountered in exp\n",
      "  return np.sum(np.exp(-predicts)[..., None] * func_args, axis=0)\n",
      "/Users/dmitriy/PycharmProjects/DA/Lab_1/pars_env/lib/python3.11/site-packages/numpy/_core/fromnumeric.py:86: RuntimeWarning: invalid value encountered in reduce\n",
      "  return ufunc.reduce(obj, axis, dtype, out, **passkwargs)\n",
      "/Users/dmitriy/PycharmProjects/DA/Lab_1/pars_env/lib/python3.11/site-packages/sklearn/utils/_array_api.py:390: RuntimeWarning: invalid value encountered in cast\n",
      "  return x.astype(dtype, copy=copy, casting=casting)\n",
      "/var/folders/42/q4fn0w4d67l174rl7lvqgd5m0000gn/T/ipykernel_26714/3466372032.py:4: RuntimeWarning: overflow encountered in exp\n",
      "  return np.sum(np.exp(-predicts)[..., None] * func_args, axis=0)\n",
      "/Users/dmitriy/PycharmProjects/DA/Lab_1/pars_env/lib/python3.11/site-packages/numpy/_core/fromnumeric.py:86: RuntimeWarning: invalid value encountered in reduce\n",
      "  return ufunc.reduce(obj, axis, dtype, out, **passkwargs)\n",
      "/Users/dmitriy/PycharmProjects/DA/Lab_1/pars_env/lib/python3.11/site-packages/sklearn/utils/_array_api.py:390: RuntimeWarning: invalid value encountered in cast\n",
      "  return x.astype(dtype, copy=copy, casting=casting)\n",
      "/var/folders/42/q4fn0w4d67l174rl7lvqgd5m0000gn/T/ipykernel_26714/3466372032.py:4: RuntimeWarning: overflow encountered in exp\n",
      "  return np.sum(np.exp(-predicts)[..., None] * func_args, axis=0)\n",
      "/Users/dmitriy/PycharmProjects/DA/Lab_1/pars_env/lib/python3.11/site-packages/numpy/_core/fromnumeric.py:86: RuntimeWarning: invalid value encountered in reduce\n",
      "  return ufunc.reduce(obj, axis, dtype, out, **passkwargs)\n",
      "/Users/dmitriy/PycharmProjects/DA/Lab_1/pars_env/lib/python3.11/site-packages/sklearn/utils/_array_api.py:390: RuntimeWarning: invalid value encountered in cast\n",
      "  return x.astype(dtype, copy=copy, casting=casting)\n",
      "/var/folders/42/q4fn0w4d67l174rl7lvqgd5m0000gn/T/ipykernel_26714/3466372032.py:4: RuntimeWarning: overflow encountered in exp\n",
      "  return np.sum(np.exp(-predicts)[..., None] * func_args, axis=0)\n",
      "/Users/dmitriy/PycharmProjects/DA/Lab_1/pars_env/lib/python3.11/site-packages/numpy/_core/fromnumeric.py:86: RuntimeWarning: invalid value encountered in reduce\n",
      "  return ufunc.reduce(obj, axis, dtype, out, **passkwargs)\n",
      "/Users/dmitriy/PycharmProjects/DA/Lab_1/pars_env/lib/python3.11/site-packages/sklearn/utils/_array_api.py:390: RuntimeWarning: invalid value encountered in cast\n",
      "  return x.astype(dtype, copy=copy, casting=casting)\n",
      "/var/folders/42/q4fn0w4d67l174rl7lvqgd5m0000gn/T/ipykernel_26714/3466372032.py:4: RuntimeWarning: overflow encountered in exp\n",
      "  return np.sum(np.exp(-predicts)[..., None] * func_args, axis=0)\n",
      "/Users/dmitriy/PycharmProjects/DA/Lab_1/pars_env/lib/python3.11/site-packages/numpy/_core/fromnumeric.py:86: RuntimeWarning: invalid value encountered in reduce\n",
      "  return ufunc.reduce(obj, axis, dtype, out, **passkwargs)\n",
      "/Users/dmitriy/PycharmProjects/DA/Lab_1/pars_env/lib/python3.11/site-packages/sklearn/utils/_array_api.py:390: RuntimeWarning: invalid value encountered in cast\n",
      "  return x.astype(dtype, copy=copy, casting=casting)\n",
      "/var/folders/42/q4fn0w4d67l174rl7lvqgd5m0000gn/T/ipykernel_26714/3466372032.py:4: RuntimeWarning: overflow encountered in exp\n",
      "  return np.sum(np.exp(-predicts)[..., None] * func_args, axis=0)\n",
      "/Users/dmitriy/PycharmProjects/DA/Lab_1/pars_env/lib/python3.11/site-packages/numpy/_core/fromnumeric.py:86: RuntimeWarning: invalid value encountered in reduce\n",
      "  return ufunc.reduce(obj, axis, dtype, out, **passkwargs)\n",
      "/Users/dmitriy/PycharmProjects/DA/Lab_1/pars_env/lib/python3.11/site-packages/sklearn/utils/_array_api.py:390: RuntimeWarning: invalid value encountered in cast\n",
      "  return x.astype(dtype, copy=copy, casting=casting)\n",
      "/var/folders/42/q4fn0w4d67l174rl7lvqgd5m0000gn/T/ipykernel_26714/3466372032.py:4: RuntimeWarning: overflow encountered in exp\n",
      "  return np.sum(np.exp(-predicts)[..., None] * func_args, axis=0)\n",
      "/Users/dmitriy/PycharmProjects/DA/Lab_1/pars_env/lib/python3.11/site-packages/numpy/_core/fromnumeric.py:86: RuntimeWarning: invalid value encountered in reduce\n",
      "  return ufunc.reduce(obj, axis, dtype, out, **passkwargs)\n",
      "/Users/dmitriy/PycharmProjects/DA/Lab_1/pars_env/lib/python3.11/site-packages/sklearn/utils/_array_api.py:390: RuntimeWarning: invalid value encountered in cast\n",
      "  return x.astype(dtype, copy=copy, casting=casting)\n",
      "/var/folders/42/q4fn0w4d67l174rl7lvqgd5m0000gn/T/ipykernel_26714/3466372032.py:4: RuntimeWarning: overflow encountered in exp\n",
      "  return np.sum(np.exp(-predicts)[..., None] * func_args, axis=0)\n",
      "/Users/dmitriy/PycharmProjects/DA/Lab_1/pars_env/lib/python3.11/site-packages/numpy/_core/fromnumeric.py:86: RuntimeWarning: invalid value encountered in reduce\n",
      "  return ufunc.reduce(obj, axis, dtype, out, **passkwargs)\n",
      "/Users/dmitriy/PycharmProjects/DA/Lab_1/pars_env/lib/python3.11/site-packages/sklearn/utils/_array_api.py:390: RuntimeWarning: invalid value encountered in cast\n",
      "  return x.astype(dtype, copy=copy, casting=casting)\n",
      "/var/folders/42/q4fn0w4d67l174rl7lvqgd5m0000gn/T/ipykernel_26714/3466372032.py:4: RuntimeWarning: overflow encountered in exp\n",
      "  return np.sum(np.exp(-predicts)[..., None] * func_args, axis=0)\n",
      "/Users/dmitriy/PycharmProjects/DA/Lab_1/pars_env/lib/python3.11/site-packages/numpy/_core/fromnumeric.py:86: RuntimeWarning: invalid value encountered in reduce\n",
      "  return ufunc.reduce(obj, axis, dtype, out, **passkwargs)\n",
      "/Users/dmitriy/PycharmProjects/DA/Lab_1/pars_env/lib/python3.11/site-packages/sklearn/utils/_array_api.py:390: RuntimeWarning: invalid value encountered in cast\n",
      "  return x.astype(dtype, copy=copy, casting=casting)\n",
      "/var/folders/42/q4fn0w4d67l174rl7lvqgd5m0000gn/T/ipykernel_26714/3466372032.py:4: RuntimeWarning: overflow encountered in exp\n",
      "  return np.sum(np.exp(-predicts)[..., None] * func_args, axis=0)\n",
      "/Users/dmitriy/PycharmProjects/DA/Lab_1/pars_env/lib/python3.11/site-packages/numpy/_core/fromnumeric.py:86: RuntimeWarning: invalid value encountered in reduce\n",
      "  return ufunc.reduce(obj, axis, dtype, out, **passkwargs)\n",
      "/Users/dmitriy/PycharmProjects/DA/Lab_1/pars_env/lib/python3.11/site-packages/sklearn/utils/_array_api.py:390: RuntimeWarning: invalid value encountered in cast\n",
      "  return x.astype(dtype, copy=copy, casting=casting)\n",
      "/var/folders/42/q4fn0w4d67l174rl7lvqgd5m0000gn/T/ipykernel_26714/3466372032.py:4: RuntimeWarning: overflow encountered in exp\n",
      "  return np.sum(np.exp(-predicts)[..., None] * func_args, axis=0)\n",
      "/Users/dmitriy/PycharmProjects/DA/Lab_1/pars_env/lib/python3.11/site-packages/numpy/_core/fromnumeric.py:86: RuntimeWarning: invalid value encountered in reduce\n",
      "  return ufunc.reduce(obj, axis, dtype, out, **passkwargs)\n",
      "/Users/dmitriy/PycharmProjects/DA/Lab_1/pars_env/lib/python3.11/site-packages/sklearn/utils/_array_api.py:390: RuntimeWarning: invalid value encountered in cast\n",
      "  return x.astype(dtype, copy=copy, casting=casting)\n",
      "/var/folders/42/q4fn0w4d67l174rl7lvqgd5m0000gn/T/ipykernel_26714/3466372032.py:4: RuntimeWarning: overflow encountered in exp\n",
      "  return np.sum(np.exp(-predicts)[..., None] * func_args, axis=0)\n",
      "/Users/dmitriy/PycharmProjects/DA/Lab_1/pars_env/lib/python3.11/site-packages/numpy/_core/fromnumeric.py:86: RuntimeWarning: invalid value encountered in reduce\n",
      "  return ufunc.reduce(obj, axis, dtype, out, **passkwargs)\n",
      "/Users/dmitriy/PycharmProjects/DA/Lab_1/pars_env/lib/python3.11/site-packages/sklearn/utils/_array_api.py:390: RuntimeWarning: invalid value encountered in cast\n",
      "  return x.astype(dtype, copy=copy, casting=casting)\n",
      "/var/folders/42/q4fn0w4d67l174rl7lvqgd5m0000gn/T/ipykernel_26714/3466372032.py:4: RuntimeWarning: overflow encountered in exp\n",
      "  return np.sum(np.exp(-predicts)[..., None] * func_args, axis=0)\n",
      "/Users/dmitriy/PycharmProjects/DA/Lab_1/pars_env/lib/python3.11/site-packages/numpy/_core/fromnumeric.py:86: RuntimeWarning: invalid value encountered in reduce\n",
      "  return ufunc.reduce(obj, axis, dtype, out, **passkwargs)\n",
      "/Users/dmitriy/PycharmProjects/DA/Lab_1/pars_env/lib/python3.11/site-packages/sklearn/utils/_array_api.py:390: RuntimeWarning: invalid value encountered in cast\n",
      "  return x.astype(dtype, copy=copy, casting=casting)\n",
      "/var/folders/42/q4fn0w4d67l174rl7lvqgd5m0000gn/T/ipykernel_26714/3466372032.py:4: RuntimeWarning: overflow encountered in exp\n",
      "  return np.sum(np.exp(-predicts)[..., None] * func_args, axis=0)\n",
      "/Users/dmitriy/PycharmProjects/DA/Lab_1/pars_env/lib/python3.11/site-packages/numpy/_core/fromnumeric.py:86: RuntimeWarning: invalid value encountered in reduce\n",
      "  return ufunc.reduce(obj, axis, dtype, out, **passkwargs)\n",
      "/Users/dmitriy/PycharmProjects/DA/Lab_1/pars_env/lib/python3.11/site-packages/sklearn/utils/_array_api.py:390: RuntimeWarning: invalid value encountered in cast\n",
      "  return x.astype(dtype, copy=copy, casting=casting)\n",
      "/var/folders/42/q4fn0w4d67l174rl7lvqgd5m0000gn/T/ipykernel_26714/3466372032.py:4: RuntimeWarning: overflow encountered in exp\n",
      "  return np.sum(np.exp(-predicts)[..., None] * func_args, axis=0)\n",
      "/Users/dmitriy/PycharmProjects/DA/Lab_1/pars_env/lib/python3.11/site-packages/numpy/_core/fromnumeric.py:86: RuntimeWarning: invalid value encountered in reduce\n",
      "  return ufunc.reduce(obj, axis, dtype, out, **passkwargs)\n",
      "/Users/dmitriy/PycharmProjects/DA/Lab_1/pars_env/lib/python3.11/site-packages/sklearn/utils/_array_api.py:390: RuntimeWarning: invalid value encountered in cast\n",
      "  return x.astype(dtype, copy=copy, casting=casting)\n",
      "/var/folders/42/q4fn0w4d67l174rl7lvqgd5m0000gn/T/ipykernel_26714/3466372032.py:4: RuntimeWarning: overflow encountered in exp\n",
      "  return np.sum(np.exp(-predicts)[..., None] * func_args, axis=0)\n",
      "/Users/dmitriy/PycharmProjects/DA/Lab_1/pars_env/lib/python3.11/site-packages/numpy/_core/fromnumeric.py:86: RuntimeWarning: invalid value encountered in reduce\n",
      "  return ufunc.reduce(obj, axis, dtype, out, **passkwargs)\n",
      "/Users/dmitriy/PycharmProjects/DA/Lab_1/pars_env/lib/python3.11/site-packages/sklearn/utils/_array_api.py:390: RuntimeWarning: invalid value encountered in cast\n",
      "  return x.astype(dtype, copy=copy, casting=casting)\n",
      "/var/folders/42/q4fn0w4d67l174rl7lvqgd5m0000gn/T/ipykernel_26714/3466372032.py:4: RuntimeWarning: overflow encountered in exp\n",
      "  return np.sum(np.exp(-predicts)[..., None] * func_args, axis=0)\n",
      "/Users/dmitriy/PycharmProjects/DA/Lab_1/pars_env/lib/python3.11/site-packages/numpy/_core/fromnumeric.py:86: RuntimeWarning: invalid value encountered in reduce\n",
      "  return ufunc.reduce(obj, axis, dtype, out, **passkwargs)\n",
      "/Users/dmitriy/PycharmProjects/DA/Lab_1/pars_env/lib/python3.11/site-packages/sklearn/utils/_array_api.py:390: RuntimeWarning: invalid value encountered in cast\n",
      "  return x.astype(dtype, copy=copy, casting=casting)\n",
      "/var/folders/42/q4fn0w4d67l174rl7lvqgd5m0000gn/T/ipykernel_26714/3466372032.py:4: RuntimeWarning: overflow encountered in exp\n",
      "  return np.sum(np.exp(-predicts)[..., None] * func_args, axis=0)\n",
      "/Users/dmitriy/PycharmProjects/DA/Lab_1/pars_env/lib/python3.11/site-packages/numpy/_core/fromnumeric.py:86: RuntimeWarning: invalid value encountered in reduce\n",
      "  return ufunc.reduce(obj, axis, dtype, out, **passkwargs)\n",
      "/Users/dmitriy/PycharmProjects/DA/Lab_1/pars_env/lib/python3.11/site-packages/sklearn/utils/_array_api.py:390: RuntimeWarning: invalid value encountered in cast\n",
      "  return x.astype(dtype, copy=copy, casting=casting)\n",
      "/var/folders/42/q4fn0w4d67l174rl7lvqgd5m0000gn/T/ipykernel_26714/3466372032.py:4: RuntimeWarning: overflow encountered in exp\n",
      "  return np.sum(np.exp(-predicts)[..., None] * func_args, axis=0)\n",
      "/Users/dmitriy/PycharmProjects/DA/Lab_1/pars_env/lib/python3.11/site-packages/numpy/_core/fromnumeric.py:86: RuntimeWarning: invalid value encountered in reduce\n",
      "  return ufunc.reduce(obj, axis, dtype, out, **passkwargs)\n",
      "/Users/dmitriy/PycharmProjects/DA/Lab_1/pars_env/lib/python3.11/site-packages/sklearn/utils/_array_api.py:390: RuntimeWarning: invalid value encountered in cast\n",
      "  return x.astype(dtype, copy=copy, casting=casting)\n",
      "/var/folders/42/q4fn0w4d67l174rl7lvqgd5m0000gn/T/ipykernel_26714/3466372032.py:4: RuntimeWarning: overflow encountered in exp\n",
      "  return np.sum(np.exp(-predicts)[..., None] * func_args, axis=0)\n",
      "/Users/dmitriy/PycharmProjects/DA/Lab_1/pars_env/lib/python3.11/site-packages/numpy/_core/fromnumeric.py:86: RuntimeWarning: invalid value encountered in reduce\n",
      "  return ufunc.reduce(obj, axis, dtype, out, **passkwargs)\n",
      "/Users/dmitriy/PycharmProjects/DA/Lab_1/pars_env/lib/python3.11/site-packages/sklearn/utils/_array_api.py:390: RuntimeWarning: invalid value encountered in cast\n",
      "  return x.astype(dtype, copy=copy, casting=casting)\n",
      "/var/folders/42/q4fn0w4d67l174rl7lvqgd5m0000gn/T/ipykernel_26714/3466372032.py:4: RuntimeWarning: overflow encountered in exp\n",
      "  return np.sum(np.exp(-predicts)[..., None] * func_args, axis=0)\n",
      "/Users/dmitriy/PycharmProjects/DA/Lab_1/pars_env/lib/python3.11/site-packages/numpy/_core/fromnumeric.py:86: RuntimeWarning: invalid value encountered in reduce\n",
      "  return ufunc.reduce(obj, axis, dtype, out, **passkwargs)\n",
      "/Users/dmitriy/PycharmProjects/DA/Lab_1/pars_env/lib/python3.11/site-packages/sklearn/utils/_array_api.py:390: RuntimeWarning: invalid value encountered in cast\n",
      "  return x.astype(dtype, copy=copy, casting=casting)\n",
      "/var/folders/42/q4fn0w4d67l174rl7lvqgd5m0000gn/T/ipykernel_26714/3466372032.py:4: RuntimeWarning: overflow encountered in exp\n",
      "  return np.sum(np.exp(-predicts)[..., None] * func_args, axis=0)\n",
      "/Users/dmitriy/PycharmProjects/DA/Lab_1/pars_env/lib/python3.11/site-packages/numpy/_core/fromnumeric.py:86: RuntimeWarning: invalid value encountered in reduce\n",
      "  return ufunc.reduce(obj, axis, dtype, out, **passkwargs)\n",
      "/Users/dmitriy/PycharmProjects/DA/Lab_1/pars_env/lib/python3.11/site-packages/sklearn/utils/_array_api.py:390: RuntimeWarning: invalid value encountered in cast\n",
      "  return x.astype(dtype, copy=copy, casting=casting)\n",
      "/var/folders/42/q4fn0w4d67l174rl7lvqgd5m0000gn/T/ipykernel_26714/3466372032.py:4: RuntimeWarning: overflow encountered in exp\n",
      "  return np.sum(np.exp(-predicts)[..., None] * func_args, axis=0)\n",
      "/Users/dmitriy/PycharmProjects/DA/Lab_1/pars_env/lib/python3.11/site-packages/numpy/_core/fromnumeric.py:86: RuntimeWarning: invalid value encountered in reduce\n",
      "  return ufunc.reduce(obj, axis, dtype, out, **passkwargs)\n",
      "/Users/dmitriy/PycharmProjects/DA/Lab_1/pars_env/lib/python3.11/site-packages/sklearn/utils/_array_api.py:390: RuntimeWarning: invalid value encountered in cast\n",
      "  return x.astype(dtype, copy=copy, casting=casting)\n",
      "/var/folders/42/q4fn0w4d67l174rl7lvqgd5m0000gn/T/ipykernel_26714/3466372032.py:4: RuntimeWarning: overflow encountered in exp\n",
      "  return np.sum(np.exp(-predicts)[..., None] * func_args, axis=0)\n",
      "/Users/dmitriy/PycharmProjects/DA/Lab_1/pars_env/lib/python3.11/site-packages/numpy/_core/fromnumeric.py:86: RuntimeWarning: invalid value encountered in reduce\n",
      "  return ufunc.reduce(obj, axis, dtype, out, **passkwargs)\n",
      "/Users/dmitriy/PycharmProjects/DA/Lab_1/pars_env/lib/python3.11/site-packages/sklearn/utils/_array_api.py:390: RuntimeWarning: invalid value encountered in cast\n",
      "  return x.astype(dtype, copy=copy, casting=casting)\n",
      "/var/folders/42/q4fn0w4d67l174rl7lvqgd5m0000gn/T/ipykernel_26714/3466372032.py:4: RuntimeWarning: overflow encountered in exp\n",
      "  return np.sum(np.exp(-predicts)[..., None] * func_args, axis=0)\n",
      "/Users/dmitriy/PycharmProjects/DA/Lab_1/pars_env/lib/python3.11/site-packages/numpy/_core/fromnumeric.py:86: RuntimeWarning: invalid value encountered in reduce\n",
      "  return ufunc.reduce(obj, axis, dtype, out, **passkwargs)\n",
      "/Users/dmitriy/PycharmProjects/DA/Lab_1/pars_env/lib/python3.11/site-packages/sklearn/utils/_array_api.py:390: RuntimeWarning: invalid value encountered in cast\n",
      "  return x.astype(dtype, copy=copy, casting=casting)\n",
      "/var/folders/42/q4fn0w4d67l174rl7lvqgd5m0000gn/T/ipykernel_26714/3466372032.py:4: RuntimeWarning: overflow encountered in exp\n",
      "  return np.sum(np.exp(-predicts)[..., None] * func_args, axis=0)\n",
      "/Users/dmitriy/PycharmProjects/DA/Lab_1/pars_env/lib/python3.11/site-packages/numpy/_core/fromnumeric.py:86: RuntimeWarning: invalid value encountered in reduce\n",
      "  return ufunc.reduce(obj, axis, dtype, out, **passkwargs)\n",
      "/Users/dmitriy/PycharmProjects/DA/Lab_1/pars_env/lib/python3.11/site-packages/sklearn/utils/_array_api.py:390: RuntimeWarning: invalid value encountered in cast\n",
      "  return x.astype(dtype, copy=copy, casting=casting)\n",
      "/var/folders/42/q4fn0w4d67l174rl7lvqgd5m0000gn/T/ipykernel_26714/3466372032.py:4: RuntimeWarning: overflow encountered in exp\n",
      "  return np.sum(np.exp(-predicts)[..., None] * func_args, axis=0)\n",
      "/Users/dmitriy/PycharmProjects/DA/Lab_1/pars_env/lib/python3.11/site-packages/numpy/_core/fromnumeric.py:86: RuntimeWarning: invalid value encountered in reduce\n",
      "  return ufunc.reduce(obj, axis, dtype, out, **passkwargs)\n",
      "/Users/dmitriy/PycharmProjects/DA/Lab_1/pars_env/lib/python3.11/site-packages/sklearn/utils/_array_api.py:390: RuntimeWarning: invalid value encountered in cast\n",
      "  return x.astype(dtype, copy=copy, casting=casting)\n",
      "/var/folders/42/q4fn0w4d67l174rl7lvqgd5m0000gn/T/ipykernel_26714/3466372032.py:4: RuntimeWarning: overflow encountered in exp\n",
      "  return np.sum(np.exp(-predicts)[..., None] * func_args, axis=0)\n",
      "/Users/dmitriy/PycharmProjects/DA/Lab_1/pars_env/lib/python3.11/site-packages/numpy/_core/fromnumeric.py:86: RuntimeWarning: invalid value encountered in reduce\n",
      "  return ufunc.reduce(obj, axis, dtype, out, **passkwargs)\n",
      "/Users/dmitriy/PycharmProjects/DA/Lab_1/pars_env/lib/python3.11/site-packages/sklearn/utils/_array_api.py:390: RuntimeWarning: invalid value encountered in cast\n",
      "  return x.astype(dtype, copy=copy, casting=casting)\n",
      "/var/folders/42/q4fn0w4d67l174rl7lvqgd5m0000gn/T/ipykernel_26714/3466372032.py:4: RuntimeWarning: overflow encountered in exp\n",
      "  return np.sum(np.exp(-predicts)[..., None] * func_args, axis=0)\n",
      "/Users/dmitriy/PycharmProjects/DA/Lab_1/pars_env/lib/python3.11/site-packages/numpy/_core/fromnumeric.py:86: RuntimeWarning: invalid value encountered in reduce\n",
      "  return ufunc.reduce(obj, axis, dtype, out, **passkwargs)\n",
      "/Users/dmitriy/PycharmProjects/DA/Lab_1/pars_env/lib/python3.11/site-packages/sklearn/utils/_array_api.py:390: RuntimeWarning: invalid value encountered in cast\n",
      "  return x.astype(dtype, copy=copy, casting=casting)\n",
      "/var/folders/42/q4fn0w4d67l174rl7lvqgd5m0000gn/T/ipykernel_26714/3466372032.py:4: RuntimeWarning: overflow encountered in exp\n",
      "  return np.sum(np.exp(-predicts)[..., None] * func_args, axis=0)\n",
      "/Users/dmitriy/PycharmProjects/DA/Lab_1/pars_env/lib/python3.11/site-packages/numpy/_core/fromnumeric.py:86: RuntimeWarning: invalid value encountered in reduce\n",
      "  return ufunc.reduce(obj, axis, dtype, out, **passkwargs)\n",
      "/Users/dmitriy/PycharmProjects/DA/Lab_1/pars_env/lib/python3.11/site-packages/sklearn/utils/_array_api.py:390: RuntimeWarning: invalid value encountered in cast\n",
      "  return x.astype(dtype, copy=copy, casting=casting)\n",
      "/var/folders/42/q4fn0w4d67l174rl7lvqgd5m0000gn/T/ipykernel_26714/3466372032.py:4: RuntimeWarning: overflow encountered in exp\n",
      "  return np.sum(np.exp(-predicts)[..., None] * func_args, axis=0)\n",
      "/Users/dmitriy/PycharmProjects/DA/Lab_1/pars_env/lib/python3.11/site-packages/numpy/_core/fromnumeric.py:86: RuntimeWarning: invalid value encountered in reduce\n",
      "  return ufunc.reduce(obj, axis, dtype, out, **passkwargs)\n",
      "/Users/dmitriy/PycharmProjects/DA/Lab_1/pars_env/lib/python3.11/site-packages/sklearn/utils/_array_api.py:390: RuntimeWarning: invalid value encountered in cast\n",
      "  return x.astype(dtype, copy=copy, casting=casting)\n",
      "/var/folders/42/q4fn0w4d67l174rl7lvqgd5m0000gn/T/ipykernel_26714/3466372032.py:4: RuntimeWarning: overflow encountered in exp\n",
      "  return np.sum(np.exp(-predicts)[..., None] * func_args, axis=0)\n",
      "/Users/dmitriy/PycharmProjects/DA/Lab_1/pars_env/lib/python3.11/site-packages/numpy/_core/fromnumeric.py:86: RuntimeWarning: invalid value encountered in reduce\n",
      "  return ufunc.reduce(obj, axis, dtype, out, **passkwargs)\n",
      "/Users/dmitriy/PycharmProjects/DA/Lab_1/pars_env/lib/python3.11/site-packages/sklearn/utils/_array_api.py:390: RuntimeWarning: invalid value encountered in cast\n",
      "  return x.astype(dtype, copy=copy, casting=casting)\n",
      "/var/folders/42/q4fn0w4d67l174rl7lvqgd5m0000gn/T/ipykernel_26714/3466372032.py:4: RuntimeWarning: overflow encountered in exp\n",
      "  return np.sum(np.exp(-predicts)[..., None] * func_args, axis=0)\n",
      "/Users/dmitriy/PycharmProjects/DA/Lab_1/pars_env/lib/python3.11/site-packages/numpy/_core/fromnumeric.py:86: RuntimeWarning: invalid value encountered in reduce\n",
      "  return ufunc.reduce(obj, axis, dtype, out, **passkwargs)\n",
      "/Users/dmitriy/PycharmProjects/DA/Lab_1/pars_env/lib/python3.11/site-packages/sklearn/utils/_array_api.py:390: RuntimeWarning: invalid value encountered in cast\n",
      "  return x.astype(dtype, copy=copy, casting=casting)\n",
      "/var/folders/42/q4fn0w4d67l174rl7lvqgd5m0000gn/T/ipykernel_26714/3466372032.py:4: RuntimeWarning: overflow encountered in exp\n",
      "  return np.sum(np.exp(-predicts)[..., None] * func_args, axis=0)\n",
      "/Users/dmitriy/PycharmProjects/DA/Lab_1/pars_env/lib/python3.11/site-packages/numpy/_core/fromnumeric.py:86: RuntimeWarning: invalid value encountered in reduce\n",
      "  return ufunc.reduce(obj, axis, dtype, out, **passkwargs)\n",
      "/Users/dmitriy/PycharmProjects/DA/Lab_1/pars_env/lib/python3.11/site-packages/sklearn/utils/_array_api.py:390: RuntimeWarning: invalid value encountered in cast\n",
      "  return x.astype(dtype, copy=copy, casting=casting)\n",
      "/var/folders/42/q4fn0w4d67l174rl7lvqgd5m0000gn/T/ipykernel_26714/3466372032.py:4: RuntimeWarning: overflow encountered in exp\n",
      "  return np.sum(np.exp(-predicts)[..., None] * func_args, axis=0)\n",
      "/Users/dmitriy/PycharmProjects/DA/Lab_1/pars_env/lib/python3.11/site-packages/numpy/_core/fromnumeric.py:86: RuntimeWarning: invalid value encountered in reduce\n",
      "  return ufunc.reduce(obj, axis, dtype, out, **passkwargs)\n",
      "/Users/dmitriy/PycharmProjects/DA/Lab_1/pars_env/lib/python3.11/site-packages/sklearn/utils/_array_api.py:390: RuntimeWarning: invalid value encountered in cast\n",
      "  return x.astype(dtype, copy=copy, casting=casting)\n",
      "/var/folders/42/q4fn0w4d67l174rl7lvqgd5m0000gn/T/ipykernel_26714/3466372032.py:4: RuntimeWarning: overflow encountered in exp\n",
      "  return np.sum(np.exp(-predicts)[..., None] * func_args, axis=0)\n",
      "/Users/dmitriy/PycharmProjects/DA/Lab_1/pars_env/lib/python3.11/site-packages/numpy/_core/fromnumeric.py:86: RuntimeWarning: invalid value encountered in reduce\n",
      "  return ufunc.reduce(obj, axis, dtype, out, **passkwargs)\n",
      "/Users/dmitriy/PycharmProjects/DA/Lab_1/pars_env/lib/python3.11/site-packages/sklearn/utils/_array_api.py:390: RuntimeWarning: invalid value encountered in cast\n",
      "  return x.astype(dtype, copy=copy, casting=casting)\n",
      "/var/folders/42/q4fn0w4d67l174rl7lvqgd5m0000gn/T/ipykernel_26714/3466372032.py:4: RuntimeWarning: overflow encountered in exp\n",
      "  return np.sum(np.exp(-predicts)[..., None] * func_args, axis=0)\n",
      "/Users/dmitriy/PycharmProjects/DA/Lab_1/pars_env/lib/python3.11/site-packages/numpy/_core/fromnumeric.py:86: RuntimeWarning: invalid value encountered in reduce\n",
      "  return ufunc.reduce(obj, axis, dtype, out, **passkwargs)\n",
      "/Users/dmitriy/PycharmProjects/DA/Lab_1/pars_env/lib/python3.11/site-packages/sklearn/utils/_array_api.py:390: RuntimeWarning: invalid value encountered in cast\n",
      "  return x.astype(dtype, copy=copy, casting=casting)\n",
      "/var/folders/42/q4fn0w4d67l174rl7lvqgd5m0000gn/T/ipykernel_26714/3466372032.py:4: RuntimeWarning: overflow encountered in exp\n",
      "  return np.sum(np.exp(-predicts)[..., None] * func_args, axis=0)\n",
      "/Users/dmitriy/PycharmProjects/DA/Lab_1/pars_env/lib/python3.11/site-packages/numpy/_core/fromnumeric.py:86: RuntimeWarning: invalid value encountered in reduce\n",
      "  return ufunc.reduce(obj, axis, dtype, out, **passkwargs)\n",
      "/Users/dmitriy/PycharmProjects/DA/Lab_1/pars_env/lib/python3.11/site-packages/sklearn/utils/_array_api.py:390: RuntimeWarning: invalid value encountered in cast\n",
      "  return x.astype(dtype, copy=copy, casting=casting)\n",
      "/var/folders/42/q4fn0w4d67l174rl7lvqgd5m0000gn/T/ipykernel_26714/3466372032.py:4: RuntimeWarning: overflow encountered in exp\n",
      "  return np.sum(np.exp(-predicts)[..., None] * func_args, axis=0)\n",
      "/Users/dmitriy/PycharmProjects/DA/Lab_1/pars_env/lib/python3.11/site-packages/numpy/_core/fromnumeric.py:86: RuntimeWarning: invalid value encountered in reduce\n",
      "  return ufunc.reduce(obj, axis, dtype, out, **passkwargs)\n",
      "/Users/dmitriy/PycharmProjects/DA/Lab_1/pars_env/lib/python3.11/site-packages/sklearn/utils/_array_api.py:390: RuntimeWarning: invalid value encountered in cast\n",
      "  return x.astype(dtype, copy=copy, casting=casting)\n",
      "/var/folders/42/q4fn0w4d67l174rl7lvqgd5m0000gn/T/ipykernel_26714/3466372032.py:4: RuntimeWarning: overflow encountered in exp\n",
      "  return np.sum(np.exp(-predicts)[..., None] * func_args, axis=0)\n",
      "/Users/dmitriy/PycharmProjects/DA/Lab_1/pars_env/lib/python3.11/site-packages/numpy/_core/fromnumeric.py:86: RuntimeWarning: invalid value encountered in reduce\n",
      "  return ufunc.reduce(obj, axis, dtype, out, **passkwargs)\n",
      "/Users/dmitriy/PycharmProjects/DA/Lab_1/pars_env/lib/python3.11/site-packages/sklearn/utils/_array_api.py:390: RuntimeWarning: invalid value encountered in cast\n",
      "  return x.astype(dtype, copy=copy, casting=casting)\n",
      "/var/folders/42/q4fn0w4d67l174rl7lvqgd5m0000gn/T/ipykernel_26714/3466372032.py:4: RuntimeWarning: overflow encountered in exp\n",
      "  return np.sum(np.exp(-predicts)[..., None] * func_args, axis=0)\n",
      "/Users/dmitriy/PycharmProjects/DA/Lab_1/pars_env/lib/python3.11/site-packages/numpy/_core/fromnumeric.py:86: RuntimeWarning: invalid value encountered in reduce\n",
      "  return ufunc.reduce(obj, axis, dtype, out, **passkwargs)\n",
      "/Users/dmitriy/PycharmProjects/DA/Lab_1/pars_env/lib/python3.11/site-packages/sklearn/utils/_array_api.py:390: RuntimeWarning: invalid value encountered in cast\n",
      "  return x.astype(dtype, copy=copy, casting=casting)\n",
      "/var/folders/42/q4fn0w4d67l174rl7lvqgd5m0000gn/T/ipykernel_26714/3466372032.py:4: RuntimeWarning: overflow encountered in exp\n",
      "  return np.sum(np.exp(-predicts)[..., None] * func_args, axis=0)\n",
      "/Users/dmitriy/PycharmProjects/DA/Lab_1/pars_env/lib/python3.11/site-packages/numpy/_core/fromnumeric.py:86: RuntimeWarning: invalid value encountered in reduce\n",
      "  return ufunc.reduce(obj, axis, dtype, out, **passkwargs)\n",
      "/Users/dmitriy/PycharmProjects/DA/Lab_1/pars_env/lib/python3.11/site-packages/sklearn/utils/_array_api.py:390: RuntimeWarning: invalid value encountered in cast\n",
      "  return x.astype(dtype, copy=copy, casting=casting)\n",
      "/var/folders/42/q4fn0w4d67l174rl7lvqgd5m0000gn/T/ipykernel_26714/3466372032.py:4: RuntimeWarning: overflow encountered in exp\n",
      "  return np.sum(np.exp(-predicts)[..., None] * func_args, axis=0)\n",
      "/Users/dmitriy/PycharmProjects/DA/Lab_1/pars_env/lib/python3.11/site-packages/numpy/_core/fromnumeric.py:86: RuntimeWarning: invalid value encountered in reduce\n",
      "  return ufunc.reduce(obj, axis, dtype, out, **passkwargs)\n",
      "/Users/dmitriy/PycharmProjects/DA/Lab_1/pars_env/lib/python3.11/site-packages/sklearn/utils/_array_api.py:390: RuntimeWarning: invalid value encountered in cast\n",
      "  return x.astype(dtype, copy=copy, casting=casting)\n",
      "/var/folders/42/q4fn0w4d67l174rl7lvqgd5m0000gn/T/ipykernel_26714/3466372032.py:4: RuntimeWarning: overflow encountered in exp\n",
      "  return np.sum(np.exp(-predicts)[..., None] * func_args, axis=0)\n",
      "/Users/dmitriy/PycharmProjects/DA/Lab_1/pars_env/lib/python3.11/site-packages/numpy/_core/fromnumeric.py:86: RuntimeWarning: invalid value encountered in reduce\n",
      "  return ufunc.reduce(obj, axis, dtype, out, **passkwargs)\n",
      "/Users/dmitriy/PycharmProjects/DA/Lab_1/pars_env/lib/python3.11/site-packages/sklearn/utils/_array_api.py:390: RuntimeWarning: invalid value encountered in cast\n",
      "  return x.astype(dtype, copy=copy, casting=casting)\n",
      "/var/folders/42/q4fn0w4d67l174rl7lvqgd5m0000gn/T/ipykernel_26714/3466372032.py:4: RuntimeWarning: overflow encountered in exp\n",
      "  return np.sum(np.exp(-predicts)[..., None] * func_args, axis=0)\n",
      "/Users/dmitriy/PycharmProjects/DA/Lab_1/pars_env/lib/python3.11/site-packages/numpy/_core/fromnumeric.py:86: RuntimeWarning: invalid value encountered in reduce\n",
      "  return ufunc.reduce(obj, axis, dtype, out, **passkwargs)\n",
      "/Users/dmitriy/PycharmProjects/DA/Lab_1/pars_env/lib/python3.11/site-packages/sklearn/utils/_array_api.py:390: RuntimeWarning: invalid value encountered in cast\n",
      "  return x.astype(dtype, copy=copy, casting=casting)\n",
      "/var/folders/42/q4fn0w4d67l174rl7lvqgd5m0000gn/T/ipykernel_26714/3466372032.py:4: RuntimeWarning: overflow encountered in exp\n",
      "  return np.sum(np.exp(-predicts)[..., None] * func_args, axis=0)\n",
      "/Users/dmitriy/PycharmProjects/DA/Lab_1/pars_env/lib/python3.11/site-packages/numpy/_core/fromnumeric.py:86: RuntimeWarning: invalid value encountered in reduce\n",
      "  return ufunc.reduce(obj, axis, dtype, out, **passkwargs)\n",
      "/Users/dmitriy/PycharmProjects/DA/Lab_1/pars_env/lib/python3.11/site-packages/sklearn/utils/_array_api.py:390: RuntimeWarning: invalid value encountered in cast\n",
      "  return x.astype(dtype, copy=copy, casting=casting)\n",
      "/var/folders/42/q4fn0w4d67l174rl7lvqgd5m0000gn/T/ipykernel_26714/3466372032.py:4: RuntimeWarning: overflow encountered in exp\n",
      "  return np.sum(np.exp(-predicts)[..., None] * func_args, axis=0)\n",
      "/Users/dmitriy/PycharmProjects/DA/Lab_1/pars_env/lib/python3.11/site-packages/numpy/_core/fromnumeric.py:86: RuntimeWarning: invalid value encountered in reduce\n",
      "  return ufunc.reduce(obj, axis, dtype, out, **passkwargs)\n",
      "/Users/dmitriy/PycharmProjects/DA/Lab_1/pars_env/lib/python3.11/site-packages/sklearn/utils/_array_api.py:390: RuntimeWarning: invalid value encountered in cast\n",
      "  return x.astype(dtype, copy=copy, casting=casting)\n",
      "/var/folders/42/q4fn0w4d67l174rl7lvqgd5m0000gn/T/ipykernel_26714/3466372032.py:4: RuntimeWarning: overflow encountered in exp\n",
      "  return np.sum(np.exp(-predicts)[..., None] * func_args, axis=0)\n",
      "/Users/dmitriy/PycharmProjects/DA/Lab_1/pars_env/lib/python3.11/site-packages/numpy/_core/fromnumeric.py:86: RuntimeWarning: invalid value encountered in reduce\n",
      "  return ufunc.reduce(obj, axis, dtype, out, **passkwargs)\n",
      "/Users/dmitriy/PycharmProjects/DA/Lab_1/pars_env/lib/python3.11/site-packages/sklearn/utils/_array_api.py:390: RuntimeWarning: invalid value encountered in cast\n",
      "  return x.astype(dtype, copy=copy, casting=casting)\n",
      "/var/folders/42/q4fn0w4d67l174rl7lvqgd5m0000gn/T/ipykernel_26714/3466372032.py:4: RuntimeWarning: overflow encountered in exp\n",
      "  return np.sum(np.exp(-predicts)[..., None] * func_args, axis=0)\n",
      "/Users/dmitriy/PycharmProjects/DA/Lab_1/pars_env/lib/python3.11/site-packages/numpy/_core/fromnumeric.py:86: RuntimeWarning: invalid value encountered in reduce\n",
      "  return ufunc.reduce(obj, axis, dtype, out, **passkwargs)\n",
      "/Users/dmitriy/PycharmProjects/DA/Lab_1/pars_env/lib/python3.11/site-packages/sklearn/utils/_array_api.py:390: RuntimeWarning: invalid value encountered in cast\n",
      "  return x.astype(dtype, copy=copy, casting=casting)\n",
      "/var/folders/42/q4fn0w4d67l174rl7lvqgd5m0000gn/T/ipykernel_26714/3466372032.py:4: RuntimeWarning: overflow encountered in exp\n",
      "  return np.sum(np.exp(-predicts)[..., None] * func_args, axis=0)\n",
      "/Users/dmitriy/PycharmProjects/DA/Lab_1/pars_env/lib/python3.11/site-packages/numpy/_core/fromnumeric.py:86: RuntimeWarning: invalid value encountered in reduce\n",
      "  return ufunc.reduce(obj, axis, dtype, out, **passkwargs)\n",
      "/Users/dmitriy/PycharmProjects/DA/Lab_1/pars_env/lib/python3.11/site-packages/sklearn/utils/_array_api.py:390: RuntimeWarning: invalid value encountered in cast\n",
      "  return x.astype(dtype, copy=copy, casting=casting)\n",
      "/var/folders/42/q4fn0w4d67l174rl7lvqgd5m0000gn/T/ipykernel_26714/3466372032.py:4: RuntimeWarning: overflow encountered in exp\n",
      "  return np.sum(np.exp(-predicts)[..., None] * func_args, axis=0)\n",
      "/Users/dmitriy/PycharmProjects/DA/Lab_1/pars_env/lib/python3.11/site-packages/numpy/_core/fromnumeric.py:86: RuntimeWarning: invalid value encountered in reduce\n",
      "  return ufunc.reduce(obj, axis, dtype, out, **passkwargs)\n",
      "/Users/dmitriy/PycharmProjects/DA/Lab_1/pars_env/lib/python3.11/site-packages/sklearn/utils/_array_api.py:390: RuntimeWarning: invalid value encountered in cast\n",
      "  return x.astype(dtype, copy=copy, casting=casting)\n",
      "/var/folders/42/q4fn0w4d67l174rl7lvqgd5m0000gn/T/ipykernel_26714/3466372032.py:4: RuntimeWarning: overflow encountered in exp\n",
      "  return np.sum(np.exp(-predicts)[..., None] * func_args, axis=0)\n",
      "/Users/dmitriy/PycharmProjects/DA/Lab_1/pars_env/lib/python3.11/site-packages/numpy/_core/fromnumeric.py:86: RuntimeWarning: invalid value encountered in reduce\n",
      "  return ufunc.reduce(obj, axis, dtype, out, **passkwargs)\n",
      "/Users/dmitriy/PycharmProjects/DA/Lab_1/pars_env/lib/python3.11/site-packages/sklearn/utils/_array_api.py:390: RuntimeWarning: invalid value encountered in cast\n",
      "  return x.astype(dtype, copy=copy, casting=casting)\n"
     ]
    },
    {
     "name": "stdout",
     "output_type": "stream",
     "text": [
      "0.656084656084656\n",
      "logarifmic Constant_step: 0.01 True 0.01 0.01\n"
     ]
    }
   ],
   "source": [
    "# ищем лучшие гиперпараметры\n",
    "best_score = -1\n",
    "params = None\n",
    "best_thetta = None\n",
    "for p in tqdm(\n",
    "        list(product(error_functions, gradient_descent_steps, [True, False], [0.01, 0.1, 1, 10], [0.01, 0.1, 1, 10]))):\n",
    "    err_f, step_f, elastic_net, l1_c, l2_c = p\n",
    "    found_thetta, *_ = linear_classification(F_train, modify_targets(y_train), err_f, step_f,\n",
    "                                             elastic_net=elastic_net, l1_coeff=l1_c, l2_coeff=l2_c)\n",
    "    try:\n",
    "        score = f1_score(modify_targets(y_train), np.sign(F_train @ found_thetta))\n",
    "    except ValueError:\n",
    "        continue\n",
    "    if score > best_score:\n",
    "        params = (err_f, step_f, elastic_net, l1_c, l2_c)\n",
    "        best_score = score\n",
    "        best_thetta = found_thetta\n",
    "print(best_score)\n",
    "print(*[str(p) for p in params])"
   ]
  },
  {
   "cell_type": "code",
   "execution_count": 402,
   "id": "95cff61471cee8f3",
   "metadata": {
    "ExecuteTime": {
     "end_time": "2024-11-27T22:14:06.777844Z",
     "start_time": "2024-11-27T22:14:06.509115Z"
    },
    "collapsed": false,
    "jupyter": {
     "outputs_hidden": false
    }
   },
   "outputs": [],
   "source": [
    "# собираем данные для построения графиков\n",
    "best_thetta, lin_cls_path, f1_score_lin_cls = linear_classification(F_train, modify_targets(y_train),\n",
    "                                                                    logarifmic_function, Constant_step(0.01),\n",
    "                                                                    l1_coeff=0.01, l2_coeff=0.01, show_results=True,\n",
    "                                                                    data_test=F_test,\n",
    "                                                                    target_test=modify_targets(y_test))"
   ]
  },
  {
   "cell_type": "code",
   "execution_count": 403,
   "id": "ea8468c7f4453441",
   "metadata": {
    "ExecuteTime": {
     "end_time": "2024-11-27T22:14:06.811311Z",
     "start_time": "2024-11-27T22:14:06.616365Z"
    },
    "collapsed": false,
    "jupyter": {
     "outputs_hidden": false
    }
   },
   "outputs": [
    {
     "data": {
      "image/png": "[encoded data removed]",
      "text/plain": [
       "<Figure size 640x480 with 1 Axes>"
      ]
     },
     "metadata": {},
     "output_type": "display_data"
    }
   ],
   "source": [
    "plt.plot(np.arange(1, 1000)[::50], lin_cls_path[::50])\n",
    "plt.xlabel('Iteration number')\n",
    "plt.ylabel('Empirical risk value')\n",
    "plt.title(\"Train data empirical risk\")\n",
    "plt.show()"
   ]
  },
  {
   "cell_type": "code",
   "execution_count": 404,
   "id": "5b1ebba794afdf2a",
   "metadata": {
    "ExecuteTime": {
     "end_time": "2024-11-27T22:14:06.826375Z",
     "start_time": "2024-11-27T22:14:06.669666Z"
    },
    "collapsed": false,
    "jupyter": {
     "outputs_hidden": false
    }
   },
   "outputs": [
    {
     "data": {
      "text/plain": [
       "np.float64(0.6597938144329897)"
      ]
     },
     "execution_count": 404,
     "metadata": {},
     "output_type": "execute_result"
    }
   ],
   "source": [
    "f1_score(modify_targets(y_test), np.sign(F_test @ best_thetta))"
   ]
  },
  {
   "cell_type": "code",
   "execution_count": 405,
   "id": "b6f703015afe0e80",
   "metadata": {
    "ExecuteTime": {
     "end_time": "2024-11-27T22:14:06.826649Z",
     "start_time": "2024-11-27T22:14:06.673846Z"
    },
    "collapsed": false,
    "jupyter": {
     "outputs_hidden": false
    }
   },
   "outputs": [],
   "source": [
    "modified_targets = modify_targets(y_train)"
   ]
  },
  {
   "cell_type": "code",
   "execution_count": 406,
   "id": "5581d1fd32758f28",
   "metadata": {
    "ExecuteTime": {
     "end_time": "2024-11-27T22:14:06.826895Z",
     "start_time": "2024-11-27T22:14:06.680583Z"
    },
    "collapsed": false,
    "jupyter": {
     "outputs_hidden": false
    }
   },
   "outputs": [],
   "source": [
    "# реализация метода опорных векторов\n",
    "def svm_method(data_train, target_train, kernel_f, C, iteration_amount=1000, show_result=False,\n",
    "               data_test=None, target_test=None):\n",
    "    result = []\n",
    "    f1_score_path = []\n",
    "    modified_targets = modify_targets(target_train)\n",
    "    pairwise_product = np.einsum(\"ij,kj->ik\", data_train, data_train)\n",
    "    pairwise_kerneled = kernel_f(pairwise_product) * modified_targets[None] * modified_targets[..., None]\n",
    "\n",
    "    def svm_loss_grad(alphas, kernel_pairs: np.ndarray):\n",
    "        ans = kernel_pairs * alphas[None]\n",
    "        return ans.sum(axis=1) - 1\n",
    "\n",
    "    def svm_err_func(alphas, kernel_pairs: np.ndarray):\n",
    "        ans = alphas[..., None] * kernel_pairs * alphas[None]\n",
    "        return ans.sum() / 2 - alphas.sum()\n",
    "\n",
    "    def count_bias(alphas):\n",
    "        supports = []\n",
    "        for i in range(len(alphas)):\n",
    "            if 0 < alphas[i] < C:\n",
    "                supports.append(\n",
    "                    data_train[i] @ np.sum(alphas[..., None] * modified_targets[..., None] * data_train, axis=0) -\n",
    "                    modified_targets[i])\n",
    "        return median(supports) if supports else 0\n",
    "\n",
    "    svm_function = Custom_error_function(\"svm\",\n",
    "                                         svm_err_func,\n",
    "                                         svm_loss_grad)\n",
    "    alphas = np.zeros((data_train.shape[0],))\n",
    "    for k in range(iteration_amount):\n",
    "        if show_result:\n",
    "            result.append(svm_function(alphas, pairwise_kerneled))\n",
    "            if k % 50 == 0:\n",
    "                path_pred = np.sign(\n",
    "                    np.sum(np.einsum(\"ij,kj->ki\", data_train, data_test) * target_train[None] * alphas[None],\n",
    "                           axis=1) - count_bias(alphas))\n",
    "                f1_score_path.append(f1_score(path_pred + (path_pred == 0) * -1, modify_targets(target_test)))\n",
    "        func_grad = svm_function.cacl_grad(alphas, pairwise_kerneled)\n",
    "        func = lambda lr: svm_function(alphas - lr * func_grad, pairwise_kerneled)\n",
    "        step = golden_ratio_step(func, k)\n",
    "        alphas -= step * func_grad\n",
    "        alphas = np.clip(alphas, a_min=0, a_max=C)\n",
    "        alphas_and_targets = alphas * modified_targets\n",
    "        positive_alph = ((alphas_and_targets >= 0) * alphas)\n",
    "        negative_alph = ((alphas_and_targets < 0) * alphas)\n",
    "        coeff = positive_alph.sum() / negative_alph.sum()\n",
    "        alphas *= (coeff * (alphas_and_targets < 0) + (alphas_and_targets > 0))\n",
    "    w_0 = count_bias(alphas)\n",
    "    return alphas, w_0, result, f1_score_path"
   ]
  },
  {
   "cell_type": "code",
   "execution_count": 408,
   "id": "e84a11f25c3dc1dc",
   "metadata": {
    "ExecuteTime": {
     "end_time": "2024-11-27T22:14:06.828392Z",
     "start_time": "2024-11-27T22:14:06.688261Z"
    },
    "collapsed": false,
    "jupyter": {
     "outputs_hidden": false
    }
   },
   "outputs": [],
   "source": [
    "Cs = [0.01, 0.1, 1, 10]"
   ]
  },
  {
   "cell_type": "code",
   "execution_count": 409,
   "id": "5b60c97874279b64",
   "metadata": {
    "ExecuteTime": {
     "end_time": "2024-11-27T22:14:06.829745Z",
     "start_time": "2024-11-27T22:14:06.691097Z"
    },
    "collapsed": false,
    "jupyter": {
     "outputs_hidden": false
    }
   },
   "outputs": [],
   "source": [
    "# класс ядра (взят из прошлой лабы)\n",
    "class Customkernel:\n",
    "    def __init__(self, name, func):\n",
    "        self.name = name\n",
    "        self.func = func\n",
    "\n",
    "    def __call__(self, *args, **kwargs):\n",
    "        return self.func(*args)\n",
    "\n",
    "    def __str__(self):\n",
    "        return self.name"
   ]
  },
  {
   "cell_type": "code",
   "execution_count": 410,
   "id": "85b7b00f773ae03",
   "metadata": {
    "ExecuteTime": {
     "end_time": "2024-11-27T22:14:06.837647Z",
     "start_time": "2024-11-27T22:14:06.695176Z"
    },
    "collapsed": false,
    "jupyter": {
     "outputs_hidden": false
    }
   },
   "outputs": [],
   "source": [
    "squared = Customkernel(\"squared\", lambda x: x * x)\n",
    "monomial = Customkernel(\"monomial\", lambda x: (x + 1) ** 4)\n",
    "sigmoid = Customkernel(\"sigmoid\", lambda x: 1 / (1 + np.exp(-x)))\n",
    "kernels = [squared, monomial, sigmoid]"
   ]
  },
  {
   "cell_type": "code",
   "execution_count": 411,
   "id": "d0ef15e407fc82f",
   "metadata": {
    "ExecuteTime": {
     "end_time": "2024-11-27T22:17:34.415984Z",
     "start_time": "2024-11-27T22:14:06.701588Z"
    },
    "collapsed": false,
    "jupyter": {
     "outputs_hidden": false
    }
   },
   "outputs": [
    {
     "data": {
      "application/vnd.jupyter.widget-view+json": {
       "model_id": "2db0be778df94e1892d8f3a2c1bca619",
       "version_major": 2,
       "version_minor": 0
      },
      "text/plain": [
       "  0%|          | 0/12 [00:00<?, ?it/s]"
      ]
     },
     "metadata": {},
     "output_type": "display_data"
    },
    {
     "name": "stdout",
     "output_type": "stream",
     "text": [
      "0.6492374727668845\n",
      "sigmoid 0.01\n"
     ]
    }
   ],
   "source": [
    "# поиск лучших гиперпараметров\n",
    "best_score = -1\n",
    "params = None\n",
    "for p in tqdm(list(product(kernels, Cs))):\n",
    "    kern, c = p\n",
    "    alphas_fitted, bias, *_ = svm_method(F_train[..., :-1], modify_targets(y_train), kern, c)\n",
    "    pred = np.sign(np.sum(\n",
    "        np.einsum(\"ij,kj->ki\", F_train[..., :-1], F_train[..., :-1]) * modified_targets[None] * alphas_fitted[None],\n",
    "        axis=1) - bias)\n",
    "    score = f1_score(pred, modify_targets(y_train))\n",
    "    if score > best_score:\n",
    "        best_score = score\n",
    "        params = (kern, c)\n",
    "print(best_score)\n",
    "print(*[str(p) for p in params])"
   ]
  },
  {
   "cell_type": "code",
   "execution_count": 412,
   "id": "2f98e143062b81c",
   "metadata": {
    "ExecuteTime": {
     "end_time": "2024-11-27T22:17:52.937882Z",
     "start_time": "2024-11-27T22:17:34.368474Z"
    },
    "collapsed": false,
    "jupyter": {
     "outputs_hidden": false
    }
   },
   "outputs": [],
   "source": [
    "# собираем данные для построения графиков\n",
    "alphas_fitted, bias, svm_path, f1_score_svm = svm_method(F_train[..., :-1], modify_targets(y_train), sigmoid, 0.01,\n",
    "                                                         show_result=True, data_test=F_test[..., :-1],\n",
    "                                                         target_test=modify_targets(y_test))"
   ]
  },
  {
   "cell_type": "code",
   "execution_count": 413,
   "id": "eef41441fb060fdc",
   "metadata": {
    "ExecuteTime": {
     "end_time": "2024-11-27T22:17:53.024371Z",
     "start_time": "2024-11-27T22:17:52.933270Z"
    },
    "collapsed": false,
    "jupyter": {
     "outputs_hidden": false
    }
   },
   "outputs": [
    {
     "data": {
      "image/png": "[encoded data removed]",
      "text/plain": [
       "<Figure size 640x480 with 1 Axes>"
      ]
     },
     "metadata": {},
     "output_type": "display_data"
    }
   ],
   "source": [
    "plt.plot(np.arange(1, 1000)[::50], svm_path[::50])\n",
    "plt.xlabel('Iteration number')\n",
    "plt.ylabel('Empirical risk value')\n",
    "plt.title(\"Train data empirical risk\")\n",
    "plt.show()"
   ]
  },
  {
   "cell_type": "code",
   "execution_count": 414,
   "id": "2b53c50b4d10c978",
   "metadata": {
    "ExecuteTime": {
     "end_time": "2024-11-27T22:17:53.026800Z",
     "start_time": "2024-11-27T22:17:53.020333Z"
    },
    "collapsed": false,
    "jupyter": {
     "outputs_hidden": false
    }
   },
   "outputs": [
    {
     "data": {
      "text/plain": [
       "np.float64(0.6608695652173913)"
      ]
     },
     "execution_count": 414,
     "metadata": {},
     "output_type": "execute_result"
    }
   ],
   "source": [
    "pred = np.sign(\n",
    "    np.sum(np.einsum(\"ij,kj->ki\", F_train[..., :-1], F_test[..., :-1]) * modified_targets[None] * alphas_fitted[None],\n",
    "           axis=1) - bias)\n",
    "f1_score(pred, modify_targets(y_test))"
   ]
  },
  {
   "cell_type": "code",
   "execution_count": 415,
   "id": "34547663075665e2",
   "metadata": {
    "ExecuteTime": {
     "end_time": "2024-11-27T22:18:53.500394Z",
     "start_time": "2024-11-27T22:17:53.026240Z"
    },
    "collapsed": false,
    "jupyter": {
     "outputs_hidden": false
    }
   },
   "outputs": [
    {
     "data": {
      "application/vnd.jupyter.widget-view+json": {
       "model_id": "d99dbc70d80048da8cd8d2bdcaa0e2d9",
       "version_major": 2,
       "version_minor": 0
      },
      "text/plain": [
       "  0%|          | 0/4 [00:00<?, ?it/s]"
      ]
     },
     "metadata": {},
     "output_type": "display_data"
    }
   ],
   "source": [
    "# перебираем разные разбиения на test и train\n",
    "f1_scores_svm = []\n",
    "f1_scores_lin_cls = []\n",
    "for test_size in tqdm([0.1, 0.2, 0.3, 0.5]):\n",
    "    d_train, d_test, y_train, y_test = train_test_split(F, target, test_size=test_size, random_state=52,\n",
    "                                                        stratify=target)\n",
    "    *_, f1_score_svm_looped = svm_method(d_train[..., :-1], modify_targets(y_train), sigmoid, 0.01, show_result=True,\n",
    "                                         data_test=d_test[..., :-1], target_test=modify_targets(y_test))\n",
    "    f1_scores_svm.append(f1_score_svm_looped)\n",
    "    *_, f1_score_lin_cls_looped = linear_classification(d_train, modify_targets(y_train), logarifmic_function,\n",
    "                                                        Constant_step(0.01), l1_coeff=0.01, l2_coeff=0.01,\n",
    "                                                        show_results=True,\n",
    "                                                        data_test=d_test, target_test=modify_targets(y_test))\n",
    "    f1_scores_lin_cls.append(f1_score_lin_cls_looped)"
   ]
  },
  {
   "cell_type": "code",
   "execution_count": 416,
   "id": "8d212a19748ca999",
   "metadata": {
    "ExecuteTime": {
     "end_time": "2024-11-27T22:18:53.510282Z",
     "start_time": "2024-11-27T22:18:53.467155Z"
    },
    "collapsed": false,
    "jupyter": {
     "outputs_hidden": false
    }
   },
   "outputs": [],
   "source": [
    "f1_scores_svm_arr = np.array(f1_scores_svm)\n",
    "f1_svm_mins = f1_scores_svm_arr.min(axis=0)\n",
    "f1_svm_maxs = f1_scores_svm_arr.max(axis=0)"
   ]
  },
  {
   "cell_type": "code",
   "execution_count": 417,
   "id": "9cef6f3bdf192fd4",
   "metadata": {
    "ExecuteTime": {
     "end_time": "2024-11-27T22:18:53.512575Z",
     "start_time": "2024-11-27T22:18:53.495298Z"
    },
    "collapsed": false,
    "jupyter": {
     "outputs_hidden": false
    }
   },
   "outputs": [],
   "source": [
    "f1_scores_lin_cls_arr = np.array(f1_scores_lin_cls)\n",
    "f1_lin_mins = f1_scores_lin_cls_arr.min(axis=0)\n",
    "f1_lin_maxs = f1_scores_lin_cls_arr.max(axis=0)"
   ]
  },
  {
   "cell_type": "code",
   "execution_count": 418,
   "id": "33c475db37f147ae",
   "metadata": {
    "ExecuteTime": {
     "end_time": "2024-11-27T22:18:53.629255Z",
     "start_time": "2024-11-27T22:18:53.496239Z"
    },
    "collapsed": false,
    "jupyter": {
     "outputs_hidden": false
    }
   },
   "outputs": [
    {
     "data": {
      "image/png": "[encoded data removed]",
      "text/plain": [
       "<Figure size 640x480 with 1 Axes>"
      ]
     },
     "metadata": {},
     "output_type": "display_data"
    }
   ],
   "source": [
    "plt.plot(np.arange(1, 1000)[::50], f1_score_svm, label=\"F1 score SVM\")\n",
    "plt.fill_between(np.arange(1, 1000)[::50], f1_svm_mins, f1_svm_maxs, alpha=.2)\n",
    "plt.plot(np.arange(1, 1000)[::50], f1_score_lin_cls, label=\"F1 score linear classification\")\n",
    "plt.fill_between(np.arange(1, 1000)[::50], f1_lin_mins, f1_lin_maxs, alpha=.2)\n",
    "plt.plot(np.arange(1, 1000)[::50], np.ones((20,)) * lin_reg_score, \"--\", label=\"F1 score linear regression\")\n",
    "plt.xlabel('Iteration number')\n",
    "plt.ylabel(\"F1 score\")\n",
    "plt.legend()\n",
    "plt.show()"
   ]
  }
 ],
 "metadata": {
  "kernelspec": {
   "display_name": "Python 3 (ipykernel)",
   "language": "python",
   "name": "python3"
  },
  "language_info": {
   "codemirror_mode": {
    "name": "ipython",
    "version": 3
   },
   "file_extension": ".py",
   "mimetype": "text/x-python",
   "name": "python",
   "nbconvert_exporter": "python",
   "pygments_lexer": "ipython3",
   "version": "3.11.5"
  }
 },
 "nbformat": 4,
 "nbformat_minor": 5
}
